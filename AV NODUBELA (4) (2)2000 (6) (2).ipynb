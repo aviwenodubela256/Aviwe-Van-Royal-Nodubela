{
 "cells": [
  {
   "cell_type": "markdown",
   "id": "9fa4bcdf-6d5f-4054-b9af-58fec00e8228",
   "metadata": {},
   "source": [
    "# Problem Statement"
   ]
  },
  {
   "cell_type": "markdown",
   "id": "3262acd6-748a-4d7f-9ff8-e11725827af4",
   "metadata": {},
   "source": [
    "To predict the trip duration of NYC taxi rides using historical ride data."
   ]
  },
  {
   "cell_type": "markdown",
   "id": "5fb68155-df67-4ba7-96df-4423071a9aae",
   "metadata": {},
   "source": [
    "# TAXI DURATION QUESTIONS"
   ]
  },
  {
   "cell_type": "markdown",
   "id": "b8339a4f-5153-4a7e-b240-a31a75f9bf22",
   "metadata": {},
   "source": [
    ">What is the average duration of taxi duration in the NYC?\n",
    "\n",
    ">Are there peak hour when trips are longer?\n",
    "\n",
    ">How trip vary through the week?\n",
    "\n",
    ">Are there diffferences between pickup and dropoff location?\n",
    "\n",
    ">How the traffic affects the trip Duration?\n",
    "\n",
    ">Does the weather affects the payment during the trip?"
   ]
  },
  {
   "cell_type": "markdown",
   "id": "ae7cd40d-e6f5-4c94-b1c9-2eda9d98245f",
   "metadata": {},
   "source": [
    "# Hypothesis Generation"
   ]
  },
  {
   "cell_type": "markdown",
   "id": "bac5c4a2-be65-4b29-9d6f-7acf9e25676a",
   "metadata": {},
   "source": [
    "> Trip duration is significantly influenced by the pickup time, distance between locations, weather, traffic, and number of passengers."
   ]
  },
  {
   "cell_type": "markdown",
   "id": "a2866301-109a-40f0-bcf9-98312677dc67",
   "metadata": {},
   "source": [
    "# Hypothesizations OR Findings"
   ]
  },
  {
   "cell_type": "markdown",
   "id": "7dca6f35-0e76-4e03-86df-ba00354a540f",
   "metadata": {},
   "source": [
    ">The are longer trips During rush hours(7 to 10 AM and 5 to 7 PM).\n",
    "\n",
    ">Trip duration are usually long during weekdays than the weekends.\n",
    "\n",
    ">Trips that are payed with a card they usually have different duration than the one payed with cash.\n",
    "\n",
    ">From Ellis Island usualy takes long when going to the Battery Park.\n",
    "\n",
    ">Weekends have shorter durations due to lighter traffic.\n",
    "\n",
    ">Rush hours result in longer durations.\n",
    "\n",
    ">Longer distances naturally take more time.\n",
    "\n",
    ">Bad weather and high traffic increase trip time.\n",
    "\n",
    ">Weather (external) Rain/snow/temperature might delay trips."
   ]
  },
  {
   "cell_type": "markdown",
   "id": "798eef8a-b842-4fd4-8d75-7e37d6f98b68",
   "metadata": {},
   "source": [
    "ACCESSING THROUGH THE FILE"
   ]
  },
  {
   "cell_type": "code",
   "execution_count": 47,
   "id": "647b044d-fb5b-41a0-9f06-6a718ba72495",
   "metadata": {},
   "outputs": [],
   "source": [
    "# importing libraries\n",
    "import pandas as pd\n",
    "import numpy as np\n",
    "import matplotlib.pyplot as plt\n",
    "import seaborn as sns\n",
    "import plotly.express as px\n",
    "\n",
    "import warnings\n",
    "warnings.filterwarnings(action = 'ignore')"
   ]
  },
  {
   "cell_type": "code",
   "execution_count": 48,
   "id": "87c0c6ee-1062-44ca-a0c2-4de227840e05",
   "metadata": {},
   "outputs": [],
   "source": [
    "#Reading a CSV file of NYC trip Duration.\n",
    "data = pd.read_csv('ASSINGMENT DATASET/nyc_taxi_trip_duration.csv')"
   ]
  },
  {
   "cell_type": "code",
   "execution_count": 49,
   "id": "73dcae53-e21b-4a8a-b92c-8baea380c66e",
   "metadata": {},
   "outputs": [
    {
     "data": {
      "text/html": [
       "<div>\n",
       "<style scoped>\n",
       "    .dataframe tbody tr th:only-of-type {\n",
       "        vertical-align: middle;\n",
       "    }\n",
       "\n",
       "    .dataframe tbody tr th {\n",
       "        vertical-align: top;\n",
       "    }\n",
       "\n",
       "    .dataframe thead th {\n",
       "        text-align: right;\n",
       "    }\n",
       "</style>\n",
       "<table border=\"1\" class=\"dataframe\">\n",
       "  <thead>\n",
       "    <tr style=\"text-align: right;\">\n",
       "      <th></th>\n",
       "      <th>id</th>\n",
       "      <th>vendor_id</th>\n",
       "      <th>pickup_datetime</th>\n",
       "      <th>dropoff_datetime</th>\n",
       "      <th>passenger_count</th>\n",
       "      <th>pickup_longitude</th>\n",
       "      <th>pickup_latitude</th>\n",
       "      <th>dropoff_longitude</th>\n",
       "      <th>dropoff_latitude</th>\n",
       "      <th>store_and_fwd_flag</th>\n",
       "      <th>trip_duration</th>\n",
       "    </tr>\n",
       "  </thead>\n",
       "  <tbody>\n",
       "    <tr>\n",
       "      <th>0</th>\n",
       "      <td>id1080784</td>\n",
       "      <td>2</td>\n",
       "      <td>2016-02-29 16:40:21</td>\n",
       "      <td>2016-02-29 16:47:01</td>\n",
       "      <td>1</td>\n",
       "      <td>-73.953918</td>\n",
       "      <td>40.778873</td>\n",
       "      <td>-73.963875</td>\n",
       "      <td>40.771164</td>\n",
       "      <td>N</td>\n",
       "      <td>400</td>\n",
       "    </tr>\n",
       "    <tr>\n",
       "      <th>1</th>\n",
       "      <td>id0889885</td>\n",
       "      <td>1</td>\n",
       "      <td>2016-03-11 23:35:37</td>\n",
       "      <td>2016-03-11 23:53:57</td>\n",
       "      <td>2</td>\n",
       "      <td>-73.988312</td>\n",
       "      <td>40.731743</td>\n",
       "      <td>-73.994751</td>\n",
       "      <td>40.694931</td>\n",
       "      <td>N</td>\n",
       "      <td>1100</td>\n",
       "    </tr>\n",
       "    <tr>\n",
       "      <th>2</th>\n",
       "      <td>id0857912</td>\n",
       "      <td>2</td>\n",
       "      <td>2016-02-21 17:59:33</td>\n",
       "      <td>2016-02-21 18:26:48</td>\n",
       "      <td>2</td>\n",
       "      <td>-73.997314</td>\n",
       "      <td>40.721458</td>\n",
       "      <td>-73.948029</td>\n",
       "      <td>40.774918</td>\n",
       "      <td>N</td>\n",
       "      <td>1635</td>\n",
       "    </tr>\n",
       "    <tr>\n",
       "      <th>3</th>\n",
       "      <td>id3744273</td>\n",
       "      <td>2</td>\n",
       "      <td>2016-01-05 09:44:31</td>\n",
       "      <td>2016-01-05 10:03:32</td>\n",
       "      <td>6</td>\n",
       "      <td>-73.961670</td>\n",
       "      <td>40.759720</td>\n",
       "      <td>-73.956779</td>\n",
       "      <td>40.780628</td>\n",
       "      <td>N</td>\n",
       "      <td>1141</td>\n",
       "    </tr>\n",
       "    <tr>\n",
       "      <th>4</th>\n",
       "      <td>id0232939</td>\n",
       "      <td>1</td>\n",
       "      <td>2016-02-17 06:42:23</td>\n",
       "      <td>2016-02-17 06:56:31</td>\n",
       "      <td>1</td>\n",
       "      <td>-74.017120</td>\n",
       "      <td>40.708469</td>\n",
       "      <td>-73.988182</td>\n",
       "      <td>40.740631</td>\n",
       "      <td>N</td>\n",
       "      <td>848</td>\n",
       "    </tr>\n",
       "  </tbody>\n",
       "</table>\n",
       "</div>"
      ],
      "text/plain": [
       "          id  vendor_id      pickup_datetime     dropoff_datetime  \\\n",
       "0  id1080784          2  2016-02-29 16:40:21  2016-02-29 16:47:01   \n",
       "1  id0889885          1  2016-03-11 23:35:37  2016-03-11 23:53:57   \n",
       "2  id0857912          2  2016-02-21 17:59:33  2016-02-21 18:26:48   \n",
       "3  id3744273          2  2016-01-05 09:44:31  2016-01-05 10:03:32   \n",
       "4  id0232939          1  2016-02-17 06:42:23  2016-02-17 06:56:31   \n",
       "\n",
       "   passenger_count  pickup_longitude  pickup_latitude  dropoff_longitude  \\\n",
       "0                1        -73.953918        40.778873         -73.963875   \n",
       "1                2        -73.988312        40.731743         -73.994751   \n",
       "2                2        -73.997314        40.721458         -73.948029   \n",
       "3                6        -73.961670        40.759720         -73.956779   \n",
       "4                1        -74.017120        40.708469         -73.988182   \n",
       "\n",
       "   dropoff_latitude store_and_fwd_flag  trip_duration  \n",
       "0         40.771164                  N            400  \n",
       "1         40.694931                  N           1100  \n",
       "2         40.774918                  N           1635  \n",
       "3         40.780628                  N           1141  \n",
       "4         40.740631                  N            848  "
      ]
     },
     "execution_count": 49,
     "metadata": {},
     "output_type": "execute_result"
    }
   ],
   "source": [
    "#reading the first 5 instenses of the data.\n",
    "data.head()"
   ]
  },
  {
   "cell_type": "code",
   "execution_count": 50,
   "id": "7aad3ad0-f0a6-4ce7-bc21-08e3c2689190",
   "metadata": {},
   "outputs": [
    {
     "data": {
      "text/html": [
       "<div>\n",
       "<style scoped>\n",
       "    .dataframe tbody tr th:only-of-type {\n",
       "        vertical-align: middle;\n",
       "    }\n",
       "\n",
       "    .dataframe tbody tr th {\n",
       "        vertical-align: top;\n",
       "    }\n",
       "\n",
       "    .dataframe thead th {\n",
       "        text-align: right;\n",
       "    }\n",
       "</style>\n",
       "<table border=\"1\" class=\"dataframe\">\n",
       "  <thead>\n",
       "    <tr style=\"text-align: right;\">\n",
       "      <th></th>\n",
       "      <th>id</th>\n",
       "      <th>vendor_id</th>\n",
       "      <th>pickup_datetime</th>\n",
       "      <th>dropoff_datetime</th>\n",
       "      <th>passenger_count</th>\n",
       "      <th>pickup_longitude</th>\n",
       "      <th>pickup_latitude</th>\n",
       "      <th>dropoff_longitude</th>\n",
       "      <th>dropoff_latitude</th>\n",
       "      <th>store_and_fwd_flag</th>\n",
       "      <th>trip_duration</th>\n",
       "    </tr>\n",
       "  </thead>\n",
       "  <tbody>\n",
       "    <tr>\n",
       "      <th>729317</th>\n",
       "      <td>id3905982</td>\n",
       "      <td>2</td>\n",
       "      <td>2016-05-21 13:29:38</td>\n",
       "      <td>2016-05-21 13:34:34</td>\n",
       "      <td>2</td>\n",
       "      <td>-73.965919</td>\n",
       "      <td>40.789780</td>\n",
       "      <td>-73.952637</td>\n",
       "      <td>40.789181</td>\n",
       "      <td>N</td>\n",
       "      <td>296</td>\n",
       "    </tr>\n",
       "    <tr>\n",
       "      <th>729318</th>\n",
       "      <td>id0102861</td>\n",
       "      <td>1</td>\n",
       "      <td>2016-02-22 00:43:11</td>\n",
       "      <td>2016-02-22 00:48:26</td>\n",
       "      <td>1</td>\n",
       "      <td>-73.996666</td>\n",
       "      <td>40.737434</td>\n",
       "      <td>-74.001320</td>\n",
       "      <td>40.731911</td>\n",
       "      <td>N</td>\n",
       "      <td>315</td>\n",
       "    </tr>\n",
       "    <tr>\n",
       "      <th>729319</th>\n",
       "      <td>id0439699</td>\n",
       "      <td>1</td>\n",
       "      <td>2016-04-15 18:56:48</td>\n",
       "      <td>2016-04-15 19:08:01</td>\n",
       "      <td>1</td>\n",
       "      <td>-73.997849</td>\n",
       "      <td>40.761696</td>\n",
       "      <td>-74.001488</td>\n",
       "      <td>40.741207</td>\n",
       "      <td>N</td>\n",
       "      <td>673</td>\n",
       "    </tr>\n",
       "    <tr>\n",
       "      <th>729320</th>\n",
       "      <td>id2078912</td>\n",
       "      <td>1</td>\n",
       "      <td>2016-06-19 09:50:47</td>\n",
       "      <td>2016-06-19 09:58:14</td>\n",
       "      <td>1</td>\n",
       "      <td>-74.006706</td>\n",
       "      <td>40.708244</td>\n",
       "      <td>-74.013550</td>\n",
       "      <td>40.713814</td>\n",
       "      <td>N</td>\n",
       "      <td>447</td>\n",
       "    </tr>\n",
       "    <tr>\n",
       "      <th>729321</th>\n",
       "      <td>id1053441</td>\n",
       "      <td>2</td>\n",
       "      <td>2016-01-01 17:24:16</td>\n",
       "      <td>2016-01-01 17:44:40</td>\n",
       "      <td>4</td>\n",
       "      <td>-74.003342</td>\n",
       "      <td>40.743839</td>\n",
       "      <td>-73.945847</td>\n",
       "      <td>40.712841</td>\n",
       "      <td>N</td>\n",
       "      <td>1224</td>\n",
       "    </tr>\n",
       "  </tbody>\n",
       "</table>\n",
       "</div>"
      ],
      "text/plain": [
       "               id  vendor_id      pickup_datetime     dropoff_datetime  \\\n",
       "729317  id3905982          2  2016-05-21 13:29:38  2016-05-21 13:34:34   \n",
       "729318  id0102861          1  2016-02-22 00:43:11  2016-02-22 00:48:26   \n",
       "729319  id0439699          1  2016-04-15 18:56:48  2016-04-15 19:08:01   \n",
       "729320  id2078912          1  2016-06-19 09:50:47  2016-06-19 09:58:14   \n",
       "729321  id1053441          2  2016-01-01 17:24:16  2016-01-01 17:44:40   \n",
       "\n",
       "        passenger_count  pickup_longitude  pickup_latitude  dropoff_longitude  \\\n",
       "729317                2        -73.965919        40.789780         -73.952637   \n",
       "729318                1        -73.996666        40.737434         -74.001320   \n",
       "729319                1        -73.997849        40.761696         -74.001488   \n",
       "729320                1        -74.006706        40.708244         -74.013550   \n",
       "729321                4        -74.003342        40.743839         -73.945847   \n",
       "\n",
       "        dropoff_latitude store_and_fwd_flag  trip_duration  \n",
       "729317         40.789181                  N            296  \n",
       "729318         40.731911                  N            315  \n",
       "729319         40.741207                  N            673  \n",
       "729320         40.713814                  N            447  \n",
       "729321         40.712841                  N           1224  "
      ]
     },
     "execution_count": 50,
     "metadata": {},
     "output_type": "execute_result"
    }
   ],
   "source": [
    "#Reading the 5 instenses of the data.\n",
    "data.tail()"
   ]
  },
  {
   "cell_type": "code",
   "execution_count": 51,
   "id": "c4da0969-2baf-4a1b-a849-7160ae040042",
   "metadata": {},
   "outputs": [
    {
     "data": {
      "text/html": [
       "<div>\n",
       "<style scoped>\n",
       "    .dataframe tbody tr th:only-of-type {\n",
       "        vertical-align: middle;\n",
       "    }\n",
       "\n",
       "    .dataframe tbody tr th {\n",
       "        vertical-align: top;\n",
       "    }\n",
       "\n",
       "    .dataframe thead th {\n",
       "        text-align: right;\n",
       "    }\n",
       "</style>\n",
       "<table border=\"1\" class=\"dataframe\">\n",
       "  <thead>\n",
       "    <tr style=\"text-align: right;\">\n",
       "      <th></th>\n",
       "      <th>index</th>\n",
       "      <th>id</th>\n",
       "      <th>vendor_id</th>\n",
       "      <th>pickup_datetime</th>\n",
       "      <th>dropoff_datetime</th>\n",
       "      <th>passenger_count</th>\n",
       "      <th>pickup_longitude</th>\n",
       "      <th>pickup_latitude</th>\n",
       "      <th>dropoff_longitude</th>\n",
       "      <th>dropoff_latitude</th>\n",
       "      <th>store_and_fwd_flag</th>\n",
       "      <th>trip_duration</th>\n",
       "    </tr>\n",
       "  </thead>\n",
       "  <tbody>\n",
       "    <tr>\n",
       "      <th>0</th>\n",
       "      <td>0</td>\n",
       "      <td>id1080784</td>\n",
       "      <td>2</td>\n",
       "      <td>2016-02-29 16:40:21</td>\n",
       "      <td>2016-02-29 16:47:01</td>\n",
       "      <td>1</td>\n",
       "      <td>-73.953918</td>\n",
       "      <td>40.778873</td>\n",
       "      <td>-73.963875</td>\n",
       "      <td>40.771164</td>\n",
       "      <td>N</td>\n",
       "      <td>400</td>\n",
       "    </tr>\n",
       "    <tr>\n",
       "      <th>1</th>\n",
       "      <td>1</td>\n",
       "      <td>id0889885</td>\n",
       "      <td>1</td>\n",
       "      <td>2016-03-11 23:35:37</td>\n",
       "      <td>2016-03-11 23:53:57</td>\n",
       "      <td>2</td>\n",
       "      <td>-73.988312</td>\n",
       "      <td>40.731743</td>\n",
       "      <td>-73.994751</td>\n",
       "      <td>40.694931</td>\n",
       "      <td>N</td>\n",
       "      <td>1100</td>\n",
       "    </tr>\n",
       "    <tr>\n",
       "      <th>2</th>\n",
       "      <td>2</td>\n",
       "      <td>id0857912</td>\n",
       "      <td>2</td>\n",
       "      <td>2016-02-21 17:59:33</td>\n",
       "      <td>2016-02-21 18:26:48</td>\n",
       "      <td>2</td>\n",
       "      <td>-73.997314</td>\n",
       "      <td>40.721458</td>\n",
       "      <td>-73.948029</td>\n",
       "      <td>40.774918</td>\n",
       "      <td>N</td>\n",
       "      <td>1635</td>\n",
       "    </tr>\n",
       "    <tr>\n",
       "      <th>3</th>\n",
       "      <td>3</td>\n",
       "      <td>id3744273</td>\n",
       "      <td>2</td>\n",
       "      <td>2016-01-05 09:44:31</td>\n",
       "      <td>2016-01-05 10:03:32</td>\n",
       "      <td>6</td>\n",
       "      <td>-73.961670</td>\n",
       "      <td>40.759720</td>\n",
       "      <td>-73.956779</td>\n",
       "      <td>40.780628</td>\n",
       "      <td>N</td>\n",
       "      <td>1141</td>\n",
       "    </tr>\n",
       "    <tr>\n",
       "      <th>4</th>\n",
       "      <td>4</td>\n",
       "      <td>id0232939</td>\n",
       "      <td>1</td>\n",
       "      <td>2016-02-17 06:42:23</td>\n",
       "      <td>2016-02-17 06:56:31</td>\n",
       "      <td>1</td>\n",
       "      <td>-74.017120</td>\n",
       "      <td>40.708469</td>\n",
       "      <td>-73.988182</td>\n",
       "      <td>40.740631</td>\n",
       "      <td>N</td>\n",
       "      <td>848</td>\n",
       "    </tr>\n",
       "    <tr>\n",
       "      <th>...</th>\n",
       "      <td>...</td>\n",
       "      <td>...</td>\n",
       "      <td>...</td>\n",
       "      <td>...</td>\n",
       "      <td>...</td>\n",
       "      <td>...</td>\n",
       "      <td>...</td>\n",
       "      <td>...</td>\n",
       "      <td>...</td>\n",
       "      <td>...</td>\n",
       "      <td>...</td>\n",
       "      <td>...</td>\n",
       "    </tr>\n",
       "    <tr>\n",
       "      <th>729317</th>\n",
       "      <td>729317</td>\n",
       "      <td>id3905982</td>\n",
       "      <td>2</td>\n",
       "      <td>2016-05-21 13:29:38</td>\n",
       "      <td>2016-05-21 13:34:34</td>\n",
       "      <td>2</td>\n",
       "      <td>-73.965919</td>\n",
       "      <td>40.789780</td>\n",
       "      <td>-73.952637</td>\n",
       "      <td>40.789181</td>\n",
       "      <td>N</td>\n",
       "      <td>296</td>\n",
       "    </tr>\n",
       "    <tr>\n",
       "      <th>729318</th>\n",
       "      <td>729318</td>\n",
       "      <td>id0102861</td>\n",
       "      <td>1</td>\n",
       "      <td>2016-02-22 00:43:11</td>\n",
       "      <td>2016-02-22 00:48:26</td>\n",
       "      <td>1</td>\n",
       "      <td>-73.996666</td>\n",
       "      <td>40.737434</td>\n",
       "      <td>-74.001320</td>\n",
       "      <td>40.731911</td>\n",
       "      <td>N</td>\n",
       "      <td>315</td>\n",
       "    </tr>\n",
       "    <tr>\n",
       "      <th>729319</th>\n",
       "      <td>729319</td>\n",
       "      <td>id0439699</td>\n",
       "      <td>1</td>\n",
       "      <td>2016-04-15 18:56:48</td>\n",
       "      <td>2016-04-15 19:08:01</td>\n",
       "      <td>1</td>\n",
       "      <td>-73.997849</td>\n",
       "      <td>40.761696</td>\n",
       "      <td>-74.001488</td>\n",
       "      <td>40.741207</td>\n",
       "      <td>N</td>\n",
       "      <td>673</td>\n",
       "    </tr>\n",
       "    <tr>\n",
       "      <th>729320</th>\n",
       "      <td>729320</td>\n",
       "      <td>id2078912</td>\n",
       "      <td>1</td>\n",
       "      <td>2016-06-19 09:50:47</td>\n",
       "      <td>2016-06-19 09:58:14</td>\n",
       "      <td>1</td>\n",
       "      <td>-74.006706</td>\n",
       "      <td>40.708244</td>\n",
       "      <td>-74.013550</td>\n",
       "      <td>40.713814</td>\n",
       "      <td>N</td>\n",
       "      <td>447</td>\n",
       "    </tr>\n",
       "    <tr>\n",
       "      <th>729321</th>\n",
       "      <td>729321</td>\n",
       "      <td>id1053441</td>\n",
       "      <td>2</td>\n",
       "      <td>2016-01-01 17:24:16</td>\n",
       "      <td>2016-01-01 17:44:40</td>\n",
       "      <td>4</td>\n",
       "      <td>-74.003342</td>\n",
       "      <td>40.743839</td>\n",
       "      <td>-73.945847</td>\n",
       "      <td>40.712841</td>\n",
       "      <td>N</td>\n",
       "      <td>1224</td>\n",
       "    </tr>\n",
       "  </tbody>\n",
       "</table>\n",
       "<p>729322 rows × 12 columns</p>\n",
       "</div>"
      ],
      "text/plain": [
       "         index         id  vendor_id      pickup_datetime  \\\n",
       "0            0  id1080784          2  2016-02-29 16:40:21   \n",
       "1            1  id0889885          1  2016-03-11 23:35:37   \n",
       "2            2  id0857912          2  2016-02-21 17:59:33   \n",
       "3            3  id3744273          2  2016-01-05 09:44:31   \n",
       "4            4  id0232939          1  2016-02-17 06:42:23   \n",
       "...        ...        ...        ...                  ...   \n",
       "729317  729317  id3905982          2  2016-05-21 13:29:38   \n",
       "729318  729318  id0102861          1  2016-02-22 00:43:11   \n",
       "729319  729319  id0439699          1  2016-04-15 18:56:48   \n",
       "729320  729320  id2078912          1  2016-06-19 09:50:47   \n",
       "729321  729321  id1053441          2  2016-01-01 17:24:16   \n",
       "\n",
       "           dropoff_datetime  passenger_count  pickup_longitude  \\\n",
       "0       2016-02-29 16:47:01                1        -73.953918   \n",
       "1       2016-03-11 23:53:57                2        -73.988312   \n",
       "2       2016-02-21 18:26:48                2        -73.997314   \n",
       "3       2016-01-05 10:03:32                6        -73.961670   \n",
       "4       2016-02-17 06:56:31                1        -74.017120   \n",
       "...                     ...              ...               ...   \n",
       "729317  2016-05-21 13:34:34                2        -73.965919   \n",
       "729318  2016-02-22 00:48:26                1        -73.996666   \n",
       "729319  2016-04-15 19:08:01                1        -73.997849   \n",
       "729320  2016-06-19 09:58:14                1        -74.006706   \n",
       "729321  2016-01-01 17:44:40                4        -74.003342   \n",
       "\n",
       "        pickup_latitude  dropoff_longitude  dropoff_latitude  \\\n",
       "0             40.778873         -73.963875         40.771164   \n",
       "1             40.731743         -73.994751         40.694931   \n",
       "2             40.721458         -73.948029         40.774918   \n",
       "3             40.759720         -73.956779         40.780628   \n",
       "4             40.708469         -73.988182         40.740631   \n",
       "...                 ...                ...               ...   \n",
       "729317        40.789780         -73.952637         40.789181   \n",
       "729318        40.737434         -74.001320         40.731911   \n",
       "729319        40.761696         -74.001488         40.741207   \n",
       "729320        40.708244         -74.013550         40.713814   \n",
       "729321        40.743839         -73.945847         40.712841   \n",
       "\n",
       "       store_and_fwd_flag  trip_duration  \n",
       "0                       N            400  \n",
       "1                       N           1100  \n",
       "2                       N           1635  \n",
       "3                       N           1141  \n",
       "4                       N            848  \n",
       "...                   ...            ...  \n",
       "729317                  N            296  \n",
       "729318                  N            315  \n",
       "729319                  N            673  \n",
       "729320                  N            447  \n",
       "729321                  N           1224  \n",
       "\n",
       "[729322 rows x 12 columns]"
      ]
     },
     "execution_count": 51,
     "metadata": {},
     "output_type": "execute_result"
    }
   ],
   "source": [
    "#Reading the first and the last instenses of the data.\n",
    "data.reset_index()"
   ]
  },
  {
   "cell_type": "code",
   "execution_count": 52,
   "id": "ce7ecaa3-9baa-4d76-9da8-b4f939a86210",
   "metadata": {},
   "outputs": [
    {
     "data": {
      "text/plain": [
       "(729322, 11)"
      ]
     },
     "execution_count": 52,
     "metadata": {},
     "output_type": "execute_result"
    }
   ],
   "source": [
    "#Output (rows, columns).\n",
    "data.shape"
   ]
  },
  {
   "cell_type": "code",
   "execution_count": 53,
   "id": "c878f4ca-4b1a-45cd-9742-56fb888b7923",
   "metadata": {},
   "outputs": [
    {
     "data": {
      "text/plain": [
       "Index(['id', 'vendor_id', 'pickup_datetime', 'dropoff_datetime',\n",
       "       'passenger_count', 'pickup_longitude', 'pickup_latitude',\n",
       "       'dropoff_longitude', 'dropoff_latitude', 'store_and_fwd_flag',\n",
       "       'trip_duration'],\n",
       "      dtype='object')"
      ]
     },
     "execution_count": 53,
     "metadata": {},
     "output_type": "execute_result"
    }
   ],
   "source": [
    "#Printing all the columns present in data.\n",
    "data.columns"
   ]
  },
  {
   "cell_type": "code",
   "execution_count": 54,
   "id": "1c748c47-a0b2-402e-8fd8-008f8ae2c6ce",
   "metadata": {},
   "outputs": [
    {
     "data": {
      "text/plain": [
       "id                     object\n",
       "vendor_id               int64\n",
       "pickup_datetime        object\n",
       "dropoff_datetime       object\n",
       "passenger_count         int64\n",
       "pickup_longitude      float64\n",
       "pickup_latitude       float64\n",
       "dropoff_longitude     float64\n",
       "dropoff_latitude      float64\n",
       "store_and_fwd_flag     object\n",
       "trip_duration           int64\n",
       "dtype: object"
      ]
     },
     "execution_count": 54,
     "metadata": {},
     "output_type": "execute_result"
    }
   ],
   "source": [
    "data.dtypes"
   ]
  },
  {
   "cell_type": "code",
   "execution_count": 55,
   "id": "fac2dc53-daf9-4c2e-91e4-97458febf489",
   "metadata": {},
   "outputs": [
    {
     "data": {
      "text/plain": [
       "vendor_id          int64\n",
       "passenger_count    int64\n",
       "trip_duration      int64\n",
       "dtype: object"
      ]
     },
     "execution_count": 55,
     "metadata": {},
     "output_type": "execute_result"
    }
   ],
   "source": [
    "# Identifying variables with float datatype.\n",
    "data.dtypes[data.dtypes == 'int64']"
   ]
  },
  {
   "cell_type": "code",
   "execution_count": 56,
   "id": "155cced5-1d1e-43b6-b63d-e9e43cc1beb4",
   "metadata": {},
   "outputs": [
    {
     "data": {
      "text/plain": [
       "pickup_longitude     float64\n",
       "pickup_latitude      float64\n",
       "dropoff_longitude    float64\n",
       "dropoff_latitude     float64\n",
       "dtype: object"
      ]
     },
     "execution_count": 56,
     "metadata": {},
     "output_type": "execute_result"
    }
   ],
   "source": [
    "# Identifying variables with integer datatype.\n",
    "data.dtypes[data.dtypes == 'float64']"
   ]
  },
  {
   "cell_type": "code",
   "execution_count": 57,
   "id": "aa48a35a-06c1-4160-82a6-6875e6f69e84",
   "metadata": {},
   "outputs": [
    {
     "name": "stdout",
     "output_type": "stream",
     "text": [
      "category\n"
     ]
    }
   ],
   "source": [
    "data['store_and_fwd_flag'] = data['store_and_fwd_flag'].astype('category')\n",
    "print(data['store_and_fwd_flag'].dtypes)"
   ]
  },
  {
   "cell_type": "code",
   "execution_count": 58,
   "id": "42297f16-4776-4ce0-8947-7ac9aea5c944",
   "metadata": {},
   "outputs": [
    {
     "data": {
      "text/plain": [
       "id                      object\n",
       "vendor_id                int64\n",
       "pickup_datetime         object\n",
       "dropoff_datetime        object\n",
       "passenger_count          int64\n",
       "pickup_longitude       float64\n",
       "pickup_latitude        float64\n",
       "dropoff_longitude      float64\n",
       "dropoff_latitude       float64\n",
       "store_and_fwd_flag    category\n",
       "trip_duration            int64\n",
       "dtype: object"
      ]
     },
     "execution_count": 58,
     "metadata": {},
     "output_type": "execute_result"
    }
   ],
   "source": [
    "#checking data types after convection\n",
    "data.dtypes"
   ]
  },
  {
   "cell_type": "code",
   "execution_count": 59,
   "id": "f27b5e4a-65d0-4c9c-862f-e857ac624c87",
   "metadata": {},
   "outputs": [
    {
     "data": {
      "text/plain": [
       "id                    0\n",
       "vendor_id             0\n",
       "pickup_datetime       0\n",
       "dropoff_datetime      0\n",
       "passenger_count       0\n",
       "pickup_longitude      0\n",
       "pickup_latitude       0\n",
       "dropoff_longitude     0\n",
       "dropoff_latitude      0\n",
       "store_and_fwd_flag    0\n",
       "trip_duration         0\n",
       "dtype: int64"
      ]
     },
     "execution_count": 59,
     "metadata": {},
     "output_type": "execute_result"
    }
   ],
   "source": [
    "#Finding the misssing values though the data.\n",
    "data.isna().sum()"
   ]
  },
  {
   "cell_type": "markdown",
   "id": "b92a5849-5441-4c61-b7a6-24ea84149911",
   "metadata": {},
   "source": [
    "# REFORMATING FEATURES AND CHECKING CONSISTENCY\n",
    "# Converting string to DateTime Features"
   ]
  },
  {
   "cell_type": "code",
   "execution_count": 60,
   "id": "629a10af-8ba2-4944-b667-6df50286c4c8",
   "metadata": {},
   "outputs": [],
   "source": [
    "#Coverting string to datetime.\n",
    "date = pd.DatetimeIndex(data['pickup_datetime'])"
   ]
  },
  {
   "cell_type": "code",
   "execution_count": 61,
   "id": "54cd3d1d-d402-447e-bc1c-488440d074d9",
   "metadata": {},
   "outputs": [],
   "source": [
    "# extracting new columns from 'pickup_datetime'\n",
    "\n",
    "# last day of year when last pickup\n",
    "data['doy_pickup'] = date.dayofyear\n",
    "\n",
    "# week of year when last pickup\n",
    "data['hour_pickup'] = date.hour\n",
    "\n",
    "# month of year when last pickup\n",
    "data['moy_pickup'] = date.month\n",
    "\n",
    "# day of week when last pickup\n",
    "data['dow_pickup'] = date.dayofweek"
   ]
  },
  {
   "cell_type": "code",
   "execution_count": 62,
   "id": "6d9873c8-cf95-41e2-bd44-b09999159ebf",
   "metadata": {},
   "outputs": [
    {
     "data": {
      "text/html": [
       "<div>\n",
       "<style scoped>\n",
       "    .dataframe tbody tr th:only-of-type {\n",
       "        vertical-align: middle;\n",
       "    }\n",
       "\n",
       "    .dataframe tbody tr th {\n",
       "        vertical-align: top;\n",
       "    }\n",
       "\n",
       "    .dataframe thead th {\n",
       "        text-align: right;\n",
       "    }\n",
       "</style>\n",
       "<table border=\"1\" class=\"dataframe\">\n",
       "  <thead>\n",
       "    <tr style=\"text-align: right;\">\n",
       "      <th></th>\n",
       "      <th>doy_pickup</th>\n",
       "      <th>hour_pickup</th>\n",
       "      <th>moy_pickup</th>\n",
       "      <th>dow_pickup</th>\n",
       "    </tr>\n",
       "  </thead>\n",
       "  <tbody>\n",
       "    <tr>\n",
       "      <th>0</th>\n",
       "      <td>60</td>\n",
       "      <td>16</td>\n",
       "      <td>2</td>\n",
       "      <td>0</td>\n",
       "    </tr>\n",
       "    <tr>\n",
       "      <th>1</th>\n",
       "      <td>71</td>\n",
       "      <td>23</td>\n",
       "      <td>3</td>\n",
       "      <td>4</td>\n",
       "    </tr>\n",
       "    <tr>\n",
       "      <th>2</th>\n",
       "      <td>52</td>\n",
       "      <td>17</td>\n",
       "      <td>2</td>\n",
       "      <td>6</td>\n",
       "    </tr>\n",
       "    <tr>\n",
       "      <th>3</th>\n",
       "      <td>5</td>\n",
       "      <td>9</td>\n",
       "      <td>1</td>\n",
       "      <td>1</td>\n",
       "    </tr>\n",
       "    <tr>\n",
       "      <th>4</th>\n",
       "      <td>48</td>\n",
       "      <td>6</td>\n",
       "      <td>2</td>\n",
       "      <td>2</td>\n",
       "    </tr>\n",
       "    <tr>\n",
       "      <th>5</th>\n",
       "      <td>45</td>\n",
       "      <td>18</td>\n",
       "      <td>2</td>\n",
       "      <td>6</td>\n",
       "    </tr>\n",
       "  </tbody>\n",
       "</table>\n",
       "</div>"
      ],
      "text/plain": [
       "   doy_pickup  hour_pickup  moy_pickup  dow_pickup\n",
       "0          60           16           2           0\n",
       "1          71           23           3           4\n",
       "2          52           17           2           6\n",
       "3           5            9           1           1\n",
       "4          48            6           2           2\n",
       "5          45           18           2           6"
      ]
     },
     "execution_count": 62,
     "metadata": {},
     "output_type": "execute_result"
    }
   ],
   "source": [
    "data[['doy_pickup','hour_pickup','moy_pickup','dow_pickup']].head(6)"
   ]
  },
  {
   "cell_type": "code",
   "execution_count": 63,
   "id": "f9969ddc-ae2f-40d3-97bc-6716bef23a2e",
   "metadata": {},
   "outputs": [],
   "source": [
    "#Coverting string to datetime.\n",
    "date = pd.DatetimeIndex(data['dropoff_datetime'])"
   ]
  },
  {
   "cell_type": "code",
   "execution_count": 64,
   "id": "b8c30561-ebdc-442e-95bd-17bfe1deee63",
   "metadata": {},
   "outputs": [],
   "source": [
    "# extracting new columns from 'dropoff_datetime'\n",
    "\n",
    "# last day of year when last dropoff\n",
    "data['doy_dropoff'] = date.dayofyear\n",
    "\n",
    "# week of year when last dropoff\n",
    "data['hour_dropoff'] = date.hour\n",
    "\n",
    "# month of year when last dropoff\n",
    "data['moy_dropoff'] = date.month\n",
    "\n",
    "# day of week when last dropoff\n",
    "data['dow_dropoff'] = date.dayofweek"
   ]
  },
  {
   "cell_type": "code",
   "execution_count": 65,
   "id": "a81dc36b-af39-4458-9c81-074e97a03871",
   "metadata": {},
   "outputs": [
    {
     "data": {
      "text/html": [
       "<div>\n",
       "<style scoped>\n",
       "    .dataframe tbody tr th:only-of-type {\n",
       "        vertical-align: middle;\n",
       "    }\n",
       "\n",
       "    .dataframe tbody tr th {\n",
       "        vertical-align: top;\n",
       "    }\n",
       "\n",
       "    .dataframe thead th {\n",
       "        text-align: right;\n",
       "    }\n",
       "</style>\n",
       "<table border=\"1\" class=\"dataframe\">\n",
       "  <thead>\n",
       "    <tr style=\"text-align: right;\">\n",
       "      <th></th>\n",
       "      <th>doy_dropoff</th>\n",
       "      <th>hour_dropoff</th>\n",
       "      <th>moy_dropoff</th>\n",
       "      <th>dow_dropoff</th>\n",
       "    </tr>\n",
       "  </thead>\n",
       "  <tbody>\n",
       "    <tr>\n",
       "      <th>0</th>\n",
       "      <td>60</td>\n",
       "      <td>16</td>\n",
       "      <td>2</td>\n",
       "      <td>0</td>\n",
       "    </tr>\n",
       "    <tr>\n",
       "      <th>1</th>\n",
       "      <td>71</td>\n",
       "      <td>23</td>\n",
       "      <td>3</td>\n",
       "      <td>4</td>\n",
       "    </tr>\n",
       "    <tr>\n",
       "      <th>2</th>\n",
       "      <td>52</td>\n",
       "      <td>18</td>\n",
       "      <td>2</td>\n",
       "      <td>6</td>\n",
       "    </tr>\n",
       "    <tr>\n",
       "      <th>3</th>\n",
       "      <td>5</td>\n",
       "      <td>10</td>\n",
       "      <td>1</td>\n",
       "      <td>1</td>\n",
       "    </tr>\n",
       "    <tr>\n",
       "      <th>4</th>\n",
       "      <td>48</td>\n",
       "      <td>6</td>\n",
       "      <td>2</td>\n",
       "      <td>2</td>\n",
       "    </tr>\n",
       "    <tr>\n",
       "      <th>5</th>\n",
       "      <td>45</td>\n",
       "      <td>18</td>\n",
       "      <td>2</td>\n",
       "      <td>6</td>\n",
       "    </tr>\n",
       "  </tbody>\n",
       "</table>\n",
       "</div>"
      ],
      "text/plain": [
       "   doy_dropoff  hour_dropoff  moy_dropoff  dow_dropoff\n",
       "0           60            16            2            0\n",
       "1           71            23            3            4\n",
       "2           52            18            2            6\n",
       "3            5            10            1            1\n",
       "4           48             6            2            2\n",
       "5           45            18            2            6"
      ]
     },
     "execution_count": 65,
     "metadata": {},
     "output_type": "execute_result"
    }
   ],
   "source": [
    "data[['doy_dropoff','hour_dropoff','moy_dropoff','dow_dropoff']].head(6)"
   ]
  },
  {
   "cell_type": "code",
   "execution_count": 66,
   "id": "86e63faf-83f7-49aa-86a9-4f07d00dfafd",
   "metadata": {},
   "outputs": [
    {
     "data": {
      "text/plain": [
       "0    0\n",
       "1    0\n",
       "2    0\n",
       "3    0\n",
       "4    0\n",
       "Name: store_and_fwd_flag, dtype: category\n",
       "Categories (2, int64): [0, 1]"
      ]
     },
     "execution_count": 66,
     "metadata": {},
     "output_type": "execute_result"
    }
   ],
   "source": [
    "#Converting yes/no to 1 and 0.\n",
    "data['store_and_fwd_flag'] = data['store_and_fwd_flag'].map({ 'Y':1, 'N':0})\n",
    "data['store_and_fwd_flag'].head()"
   ]
  },
  {
   "cell_type": "code",
   "execution_count": 67,
   "id": "f0bdb3a2-1807-4034-9944-5701d4bb062f",
   "metadata": {},
   "outputs": [
    {
     "data": {
      "text/html": [
       "<div>\n",
       "<style scoped>\n",
       "    .dataframe tbody tr th:only-of-type {\n",
       "        vertical-align: middle;\n",
       "    }\n",
       "\n",
       "    .dataframe tbody tr th {\n",
       "        vertical-align: top;\n",
       "    }\n",
       "\n",
       "    .dataframe thead th {\n",
       "        text-align: right;\n",
       "    }\n",
       "</style>\n",
       "<table border=\"1\" class=\"dataframe\">\n",
       "  <thead>\n",
       "    <tr style=\"text-align: right;\">\n",
       "      <th></th>\n",
       "      <th>vendor_id</th>\n",
       "      <th>passenger_count</th>\n",
       "      <th>pickup_longitude</th>\n",
       "      <th>pickup_latitude</th>\n",
       "      <th>dropoff_longitude</th>\n",
       "      <th>dropoff_latitude</th>\n",
       "      <th>trip_duration</th>\n",
       "      <th>doy_pickup</th>\n",
       "      <th>hour_pickup</th>\n",
       "      <th>moy_pickup</th>\n",
       "      <th>dow_pickup</th>\n",
       "      <th>doy_dropoff</th>\n",
       "      <th>hour_dropoff</th>\n",
       "      <th>moy_dropoff</th>\n",
       "      <th>dow_dropoff</th>\n",
       "    </tr>\n",
       "  </thead>\n",
       "  <tbody>\n",
       "    <tr>\n",
       "      <th>count</th>\n",
       "      <td>729322.000000</td>\n",
       "      <td>729322.000000</td>\n",
       "      <td>729322.000000</td>\n",
       "      <td>729322.000000</td>\n",
       "      <td>729322.000000</td>\n",
       "      <td>729322.000000</td>\n",
       "      <td>7.293220e+05</td>\n",
       "      <td>729322.000000</td>\n",
       "      <td>729322.000000</td>\n",
       "      <td>729322.000000</td>\n",
       "      <td>729322.000000</td>\n",
       "      <td>729322.000000</td>\n",
       "      <td>729322.00000</td>\n",
       "      <td>729322.000000</td>\n",
       "      <td>729322.000000</td>\n",
       "    </tr>\n",
       "    <tr>\n",
       "      <th>mean</th>\n",
       "      <td>1.535403</td>\n",
       "      <td>1.662055</td>\n",
       "      <td>-73.973513</td>\n",
       "      <td>40.750919</td>\n",
       "      <td>-73.973422</td>\n",
       "      <td>40.751775</td>\n",
       "      <td>9.522291e+02</td>\n",
       "      <td>91.882577</td>\n",
       "      <td>13.611698</td>\n",
       "      <td>3.518410</td>\n",
       "      <td>3.049081</td>\n",
       "      <td>91.893805</td>\n",
       "      <td>13.60616</td>\n",
       "      <td>3.518764</td>\n",
       "      <td>3.053015</td>\n",
       "    </tr>\n",
       "    <tr>\n",
       "      <th>std</th>\n",
       "      <td>0.498745</td>\n",
       "      <td>1.312446</td>\n",
       "      <td>0.069754</td>\n",
       "      <td>0.033594</td>\n",
       "      <td>0.069588</td>\n",
       "      <td>0.036037</td>\n",
       "      <td>3.864626e+03</td>\n",
       "      <td>51.555655</td>\n",
       "      <td>6.402853</td>\n",
       "      <td>1.680661</td>\n",
       "      <td>1.954470</td>\n",
       "      <td>51.556407</td>\n",
       "      <td>6.48637</td>\n",
       "      <td>1.680815</td>\n",
       "      <td>1.956866</td>\n",
       "    </tr>\n",
       "    <tr>\n",
       "      <th>min</th>\n",
       "      <td>1.000000</td>\n",
       "      <td>0.000000</td>\n",
       "      <td>-121.933342</td>\n",
       "      <td>34.712234</td>\n",
       "      <td>-121.933304</td>\n",
       "      <td>32.181141</td>\n",
       "      <td>1.000000e+00</td>\n",
       "      <td>1.000000</td>\n",
       "      <td>0.000000</td>\n",
       "      <td>1.000000</td>\n",
       "      <td>0.000000</td>\n",
       "      <td>1.000000</td>\n",
       "      <td>0.00000</td>\n",
       "      <td>1.000000</td>\n",
       "      <td>0.000000</td>\n",
       "    </tr>\n",
       "    <tr>\n",
       "      <th>25%</th>\n",
       "      <td>1.000000</td>\n",
       "      <td>1.000000</td>\n",
       "      <td>-73.991859</td>\n",
       "      <td>40.737335</td>\n",
       "      <td>-73.991318</td>\n",
       "      <td>40.735931</td>\n",
       "      <td>3.970000e+02</td>\n",
       "      <td>48.000000</td>\n",
       "      <td>9.000000</td>\n",
       "      <td>2.000000</td>\n",
       "      <td>1.000000</td>\n",
       "      <td>48.000000</td>\n",
       "      <td>9.00000</td>\n",
       "      <td>2.000000</td>\n",
       "      <td>1.000000</td>\n",
       "    </tr>\n",
       "    <tr>\n",
       "      <th>50%</th>\n",
       "      <td>2.000000</td>\n",
       "      <td>1.000000</td>\n",
       "      <td>-73.981758</td>\n",
       "      <td>40.754070</td>\n",
       "      <td>-73.979759</td>\n",
       "      <td>40.754509</td>\n",
       "      <td>6.630000e+02</td>\n",
       "      <td>92.000000</td>\n",
       "      <td>14.000000</td>\n",
       "      <td>4.000000</td>\n",
       "      <td>3.000000</td>\n",
       "      <td>92.000000</td>\n",
       "      <td>14.00000</td>\n",
       "      <td>4.000000</td>\n",
       "      <td>3.000000</td>\n",
       "    </tr>\n",
       "    <tr>\n",
       "      <th>75%</th>\n",
       "      <td>2.000000</td>\n",
       "      <td>2.000000</td>\n",
       "      <td>-73.967361</td>\n",
       "      <td>40.768314</td>\n",
       "      <td>-73.963036</td>\n",
       "      <td>40.769741</td>\n",
       "      <td>1.075000e+03</td>\n",
       "      <td>136.000000</td>\n",
       "      <td>19.000000</td>\n",
       "      <td>5.000000</td>\n",
       "      <td>5.000000</td>\n",
       "      <td>136.000000</td>\n",
       "      <td>19.00000</td>\n",
       "      <td>5.000000</td>\n",
       "      <td>5.000000</td>\n",
       "    </tr>\n",
       "    <tr>\n",
       "      <th>max</th>\n",
       "      <td>2.000000</td>\n",
       "      <td>9.000000</td>\n",
       "      <td>-65.897385</td>\n",
       "      <td>51.881084</td>\n",
       "      <td>-65.897385</td>\n",
       "      <td>43.921028</td>\n",
       "      <td>1.939736e+06</td>\n",
       "      <td>182.000000</td>\n",
       "      <td>23.000000</td>\n",
       "      <td>6.000000</td>\n",
       "      <td>6.000000</td>\n",
       "      <td>183.000000</td>\n",
       "      <td>23.00000</td>\n",
       "      <td>7.000000</td>\n",
       "      <td>6.000000</td>\n",
       "    </tr>\n",
       "  </tbody>\n",
       "</table>\n",
       "</div>"
      ],
      "text/plain": [
       "           vendor_id  passenger_count  pickup_longitude  pickup_latitude  \\\n",
       "count  729322.000000    729322.000000     729322.000000    729322.000000   \n",
       "mean        1.535403         1.662055        -73.973513        40.750919   \n",
       "std         0.498745         1.312446          0.069754         0.033594   \n",
       "min         1.000000         0.000000       -121.933342        34.712234   \n",
       "25%         1.000000         1.000000        -73.991859        40.737335   \n",
       "50%         2.000000         1.000000        -73.981758        40.754070   \n",
       "75%         2.000000         2.000000        -73.967361        40.768314   \n",
       "max         2.000000         9.000000        -65.897385        51.881084   \n",
       "\n",
       "       dropoff_longitude  dropoff_latitude  trip_duration     doy_pickup  \\\n",
       "count      729322.000000     729322.000000   7.293220e+05  729322.000000   \n",
       "mean          -73.973422         40.751775   9.522291e+02      91.882577   \n",
       "std             0.069588          0.036037   3.864626e+03      51.555655   \n",
       "min          -121.933304         32.181141   1.000000e+00       1.000000   \n",
       "25%           -73.991318         40.735931   3.970000e+02      48.000000   \n",
       "50%           -73.979759         40.754509   6.630000e+02      92.000000   \n",
       "75%           -73.963036         40.769741   1.075000e+03     136.000000   \n",
       "max           -65.897385         43.921028   1.939736e+06     182.000000   \n",
       "\n",
       "         hour_pickup     moy_pickup     dow_pickup    doy_dropoff  \\\n",
       "count  729322.000000  729322.000000  729322.000000  729322.000000   \n",
       "mean       13.611698       3.518410       3.049081      91.893805   \n",
       "std         6.402853       1.680661       1.954470      51.556407   \n",
       "min         0.000000       1.000000       0.000000       1.000000   \n",
       "25%         9.000000       2.000000       1.000000      48.000000   \n",
       "50%        14.000000       4.000000       3.000000      92.000000   \n",
       "75%        19.000000       5.000000       5.000000     136.000000   \n",
       "max        23.000000       6.000000       6.000000     183.000000   \n",
       "\n",
       "       hour_dropoff    moy_dropoff    dow_dropoff  \n",
       "count  729322.00000  729322.000000  729322.000000  \n",
       "mean       13.60616       3.518764       3.053015  \n",
       "std         6.48637       1.680815       1.956866  \n",
       "min         0.00000       1.000000       0.000000  \n",
       "25%         9.00000       2.000000       1.000000  \n",
       "50%        14.00000       4.000000       3.000000  \n",
       "75%        19.00000       5.000000       5.000000  \n",
       "max        23.00000       7.000000       6.000000  "
      ]
     },
     "execution_count": 67,
     "metadata": {},
     "output_type": "execute_result"
    }
   ],
   "source": [
    "data.describe()"
   ]
  },
  {
   "cell_type": "code",
   "execution_count": 68,
   "id": "7da2c104-8a14-45fd-bc08-5211c1521046",
   "metadata": {},
   "outputs": [],
   "source": [
    "#Log trip_duration transformation and plotting the result as pdf. \n",
    "data['log_trip_duration'] = np.log1p(data['trip_duration'])"
   ]
  },
  {
   "cell_type": "code",
   "execution_count": 69,
   "id": "a14339bd-2528-446d-a7a8-42ff44ebea02",
   "metadata": {},
   "outputs": [
    {
     "data": {
      "text/plain": [
       "<Axes: xlabel='log_trip_duration', ylabel='Count'>"
      ]
     },
     "execution_count": 69,
     "metadata": {},
     "output_type": "execute_result"
    },
    {
     "data": {
      "image/png": "[encoded data removed]",
      "text/plain": [
       "<Figure size 640x480 with 1 Axes>"
      ]
     },
     "metadata": {},
     "output_type": "display_data"
    }
   ],
   "source": [
    "sns.histplot(data['log_trip_duration'], kde =True, color='turquoise' )"
   ]
  },
  {
   "cell_type": "markdown",
   "id": "cf14d6d6-6097-4e3c-88b0-3b0989d837e2",
   "metadata": {},
   "source": [
    "The graph shows log-normally distributed and indicate some very long trips."
   ]
  },
  {
   "cell_type": "markdown",
   "id": "d1ccd5db-eb9d-4c6b-92ac-ba0998601f24",
   "metadata": {},
   "source": [
    "The peak of the distribution is around 7 on the log scale and the distribution is relatively symetric and concentrated around the mean."
   ]
  },
  {
   "cell_type": "markdown",
   "id": "3ca7c66c-26d8-4e87-bc4e-2ec440c81e85",
   "metadata": {},
   "source": [
    "# UNIVARIATE VISUALISATION"
   ]
  },
  {
   "cell_type": "code",
   "execution_count": 70,
   "id": "68a3e2f9-5c2e-4a40-992a-9b7197cef827",
   "metadata": {},
   "outputs": [
    {
     "data": {
      "text/plain": [
       "vendor_id              int64\n",
       "passenger_count        int64\n",
       "pickup_longitude     float64\n",
       "pickup_latitude      float64\n",
       "dropoff_longitude    float64\n",
       "dropoff_latitude     float64\n",
       "trip_duration          int64\n",
       "log_trip_duration    float64\n",
       "dtype: object"
      ]
     },
     "execution_count": 70,
     "metadata": {},
     "output_type": "execute_result"
    }
   ],
   "source": [
    "# Numerical datatypes\n",
    "data.select_dtypes(include=['int64','float64','Int64']).dtypes"
   ]
  },
  {
   "cell_type": "code",
   "execution_count": 71,
   "id": "010cc923-bb07-4347-a2a4-528173900690",
   "metadata": {},
   "outputs": [
    {
     "data": {
      "text/plain": [
       "Index(['id', 'vendor_id', 'pickup_datetime', 'dropoff_datetime',\n",
       "       'passenger_count', 'pickup_longitude', 'pickup_latitude',\n",
       "       'dropoff_longitude', 'dropoff_latitude', 'store_and_fwd_flag',\n",
       "       'trip_duration', 'doy_pickup', 'hour_pickup', 'moy_pickup',\n",
       "       'dow_pickup', 'doy_dropoff', 'hour_dropoff', 'moy_dropoff',\n",
       "       'dow_dropoff', 'log_trip_duration'],\n",
       "      dtype='object')"
      ]
     },
     "execution_count": 71,
     "metadata": {},
     "output_type": "execute_result"
    }
   ],
   "source": [
    "data.columns"
   ]
  },
  {
   "cell_type": "code",
   "execution_count": 72,
   "id": "62df283f-1341-4cba-8870-56fa62de45fb",
   "metadata": {},
   "outputs": [],
   "source": [
    "# seggregating variables into groups\n",
    "customer_details = ['vendor_id']\n",
    "time_detais = ['pickup_datetime', 'dropoff_datetime']\n",
    "count = ['passenger_count']\n",
    "pickup_an_dropoff = ['pickup_longitude', 'pickup_latitude','dropoff_longitude', 'dropoff_latitude']\n",
    "dropoff_datetime = ['doy_dropoff','hour_dropoff','moy_dropoff','dow_dropoff']\n",
    "pickup_datetime = ['doy_pickup','hour_pickup','moy_pickup','dow_pickup']\n",
    "duration = ['trip_duration']\n",
    "map_flag = ['store_and_fwd_flag']"
   ]
  },
  {
   "cell_type": "code",
   "execution_count": 73,
   "id": "b52e90cc-96ca-4cca-b79a-f25e6ae8a868",
   "metadata": {},
   "outputs": [],
   "source": [
    "# custom function for easy and efficient analysis of numerical univariate\n",
    "\n",
    "def UVA_numeric(data, var_group):\n",
    "  '''\n",
    "  Univariate_Analysis_numeric\n",
    "  takes a group of variables (INTEGER and FLOAT) and plot/print all the descriptives and properties along with KDE.\n",
    "\n",
    "  Runs a loop: calculate all the descriptives of i(th) variable and plot/print it\n",
    "  '''\n",
    "\n",
    "  size = len(var_group)\n",
    "  plt.figure(figsize = (7*size,3), dpi = 100)\n",
    "  \n",
    "  #looping for each variable\n",
    "  for j,i in enumerate(var_group):\n",
    "      \n",
    "    # calculating descriptives of variable\n",
    "    mini = data[i].min()\n",
    "    maxi = data[i].max()\n",
    "    ran = data[i].max()-data[i].min()\n",
    "    mean = data[i].mean()\n",
    "    median = data[i].median()\n",
    "    st_dev = data[i].std()\n",
    "    skew = data[i].skew()\n",
    "    kurt = data[i].kurtosis()\n",
    "\n",
    "    # calculating points of standard deviation\n",
    "    points = mean-st_dev, mean+st_dev\n",
    "\n",
    "    #Plotting the variable with every information\n",
    "    plt.subplot(1,size,j+1)\n",
    "    sns.kdeplot(data[i], shade=True)\n",
    "    sns.lineplot(x=points, y=[0,0], color = 'black', label = \"std_dev\")\n",
    "    sns.scatterplot(x=[mini,maxi], y=[0,0], color = 'orange', label = \"min/max\")\n",
    "    sns.scatterplot(x=[mean], y=[0], color = 'red', label = \"mean\")\n",
    "    sns.scatterplot(x=[median], y=[0], color = 'blue', label = \"median\")\n",
    "    plt.xlabel('{}'.format(i), fontsize = 20)\n",
    "    plt.ylabel('density')\n",
    "    plt.title('std_dev = {}; kurtosis = {};\\nskew = {}; range = {}\\nmean = {}; median = {}'.format((round(points[0],2),round(points[1],2)),\n",
    "                                                                                                   round(kurt,2),\n",
    "                                                                                                   round(skew,2),\n",
    "                                                                                                   (round(mini,2),round(maxi,2),round(ran,2)),\n",
    "                                                                                                   round(mean,2),\n",
    "                                                                                                   round(median,2)))"
   ]
  },
  {
   "cell_type": "markdown",
   "id": "da818165-7c85-4680-b22d-cfa72db9b042",
   "metadata": {},
   "source": [
    "PASSENGER COUNT"
   ]
  },
  {
   "cell_type": "code",
   "execution_count": 74,
   "id": "046353a0-7143-4099-8aac-25fc3d59d9c6",
   "metadata": {},
   "outputs": [
    {
     "data": {
      "image/png": "[encoded data removed]",
      "text/plain": [
       "<Figure size 700x300 with 1 Axes>"
      ]
     },
     "metadata": {},
     "output_type": "display_data"
    }
   ],
   "source": [
    " UVA_numeric(data, count)"
   ]
  },
  {
   "cell_type": "markdown",
   "id": "8c419f4c-d83f-4985-9464-504430c65421",
   "metadata": {},
   "source": [
    "The graph is positively skewed and we can find out that between 0 and 2 there is high density."
   ]
  },
  {
   "cell_type": "markdown",
   "id": "746c2602-6998-41d6-8ae2-56c805fb106a",
   "metadata": {},
   "source": [
    "We can see that the graph is droppping rappidly and number of passengers growing resulting on change trip duration."
   ]
  },
  {
   "cell_type": "code",
   "execution_count": 75,
   "id": "6c98e8a2-56a1-46d5-8ebb-6de0139eaeca",
   "metadata": {},
   "outputs": [
    {
     "data": {
      "image/png": "[encoded data removed]",
      "text/plain": [
       "<Figure size 700x300 with 1 Axes>"
      ]
     },
     "metadata": {},
     "output_type": "display_data"
    }
   ],
   "source": [
    " UVA_numeric(data, customer_details)"
   ]
  },
  {
   "cell_type": "markdown",
   "id": "1610f718-0cd4-4d11-a63d-a25b2266ae50",
   "metadata": {},
   "source": [
    "Vendor_ID"
   ]
  },
  {
   "cell_type": "markdown",
   "id": "fce4e0a8-c933-4714-8146-8e19a2625a27",
   "metadata": {},
   "source": [
    "Can be eliminated from data."
   ]
  },
  {
   "cell_type": "markdown",
   "id": "dd3769ba-f473-475c-ace3-6c1ae3f369b1",
   "metadata": {},
   "source": [
    "Does not contribute any information."
   ]
  },
  {
   "cell_type": "markdown",
   "id": "a97452f4-1702-483b-97a7-e87fbc4bc22f",
   "metadata": {},
   "source": [
    "This can be a longer distribution (Leptokurtic)."
   ]
  },
  {
   "cell_type": "code",
   "execution_count": 76,
   "id": "f88184b9-4a0d-491f-a6aa-fcde92aa5d3c",
   "metadata": {},
   "outputs": [
    {
     "data": {
      "image/png": "[encoded data removed]",
      "text/plain": [
       "<Figure size 640x480 with 1 Axes>"
      ]
     },
     "metadata": {},
     "output_type": "display_data"
    }
   ],
   "source": [
    "#Plotting graph for store_and_fwd_flag\n",
    "sns.countplot(x='store_and_fwd_flag', data=data, color='orange')\n",
    "\n",
    "plt.title('Store and Forward Flag Count')\n",
    "plt.xlabel('Store and Forward Flag')\n",
    "plt.ylabel('Count')\n",
    "plt.show()"
   ]
  },
  {
   "cell_type": "markdown",
   "id": "6c1be745-08a6-4d10-b6ae-273faab4f6eb",
   "metadata": {},
   "source": [
    "The graph has a very heavy tail, indicate the presence of extreme outliers."
   ]
  },
  {
   "cell_type": "markdown",
   "id": "6bd2dd80-8533-4960-9449-958f68effd2a",
   "metadata": {},
   "source": [
    "The range indicates that theres span from 0 to 1, with a maximum value of 0 occuring twice."
   ]
  },
  {
   "cell_type": "code",
   "execution_count": 77,
   "id": "0b53cc56-1625-4a38-9436-dd1343674c60",
   "metadata": {},
   "outputs": [
    {
     "data": {
      "image/png": "[encoded data removed]",
      "text/plain": [
       "<Figure size 640x480 with 1 Axes>"
      ]
     },
     "metadata": {},
     "output_type": "display_data"
    }
   ],
   "source": [
    "# Plot count of pickups by day of the week\n",
    "custom_colors = ['#FFDD57', '#F4A261']\n",
    "\n",
    "sns.countplot(x='dow_pickup', data=data, palette = custom_colors)\n",
    "sns.countplot(x='dow_pickup', data=data)\n",
    "plt.title('Pickup Count by Day of Week')\n",
    "plt.show()"
   ]
  },
  {
   "cell_type": "markdown",
   "id": "0cc75c10-d899-41cf-9294-d627faa031e5",
   "metadata": {},
   "source": [
    "SUMMERY"
   ]
  },
  {
   "cell_type": "markdown",
   "id": "111388d2-9958-4bdd-bc5c-773c8b9301c9",
   "metadata": {},
   "source": [
    "During pickup day of the week ,we can see that the is rise in the graph telling that most people start traveling during the first day of week to the \n",
    "5th day of week."
   ]
  },
  {
   "cell_type": "markdown",
   "id": "6c11773d-9442-4d9c-930a-4be9ead4005c",
   "metadata": {},
   "source": [
    "According to my knowledge i can take 0 and 6 (suterday and sunday ) where we can tell that most people are not working during weekends."
   ]
  },
  {
   "cell_type": "code",
   "execution_count": 78,
   "id": "d081387d-7bbd-4452-9cd6-e25cb8b12b20",
   "metadata": {},
   "outputs": [
    {
     "data": {
      "image/png": "[encoded data removed]",
      "text/plain": [
       "<Figure size 1200x600 with 1 Axes>"
      ]
     },
     "metadata": {},
     "output_type": "display_data"
    }
   ],
   "source": [
    "# Plot count of pickups by hour\n",
    "\n",
    "plt.figure(figsize=(12, 6))  # Optional: adjust plot size\n",
    "\n",
    "sns.countplot(x='hour_pickup', data=data, palette='viridis')\n",
    "\n",
    "plt.title('Pickup Count by Hour')\n",
    "plt.xlabel('Hour of Day')\n",
    "plt.ylabel('Count')\n",
    "plt.show()"
   ]
  },
  {
   "cell_type": "markdown",
   "id": "17a63459-2fd5-4760-b6d3-47824ce2b4aa",
   "metadata": {},
   "source": [
    "DURRING HOUR PICKUP"
   ]
  },
  {
   "cell_type": "markdown",
   "id": "de2be9a6-2b0f-48a1-ab67-50205a9bbe12",
   "metadata": {},
   "source": [
    "From 0 to 5 its in the AM we can find ther are few peaple traveveling."
   ]
  },
  {
   "cell_type": "markdown",
   "id": "3ce8c044-9e1c-4ffd-b018-37c12f0154c9",
   "metadata": {},
   "source": [
    "And from 6 which is 6AM its starting to grow rappidly to tell us its during the day where people start travelling others are going to work or traveling going to places."
   ]
  },
  {
   "cell_type": "markdown",
   "id": "941cea4e-1b12-4de8-a4e8-fa6c4f44cf63",
   "metadata": {},
   "source": [
    "The lowest pickup occur between 4:00 and 5:00 with the values below 10000."
   ]
  },
  {
   "cell_type": "markdown",
   "id": "baa613a6-1d49-47a5-8de0-3eb5aabeba38",
   "metadata": {},
   "source": [
    "The majority of pickups take place during the late afternoon and early evening with a significantsurge around 7:00."
   ]
  },
  {
   "cell_type": "code",
   "execution_count": 79,
   "id": "1d681d2a-7a0e-4013-8cf1-21d6e221a5bb",
   "metadata": {},
   "outputs": [
    {
     "data": {
      "image/png": "[encoded data removed]",
      "text/plain": [
       "<Figure size 640x480 with 1 Axes>"
      ]
     },
     "metadata": {},
     "output_type": "display_data"
    },
    {
     "data": {
      "image/png": "[encoded data removed]",
      "text/plain": [
       "<Figure size 640x480 with 1 Axes>"
      ]
     },
     "metadata": {},
     "output_type": "display_data"
    }
   ],
   "source": [
    "# Pickup Latitude & Longitude\n",
    "sns.histplot(data['pickup_latitude'], bins=40, kde=True)\n",
    "plt.title('Pickup Latitude Distribution')\n",
    "plt.xlabel('Latitude')\n",
    "plt.ylabel('Frequency')\n",
    "plt.show()\n",
    "\n",
    "sns.histplot(data['pickup_longitude'], bins=40, kde=True)\n",
    "plt.title('Pickup Longitude Distribution')\n",
    "plt.xlabel('Longitude')\n",
    "plt.ylabel('Frequency')\n",
    "plt.show()"
   ]
  },
  {
   "cell_type": "code",
   "execution_count": 80,
   "id": "5365be11-6edf-4c53-95eb-a0e769c0dce4",
   "metadata": {},
   "outputs": [
    {
     "data": {
      "image/png": "[encoded data removed]",
      "text/plain": [
       "<Figure size 640x480 with 1 Axes>"
      ]
     },
     "metadata": {},
     "output_type": "display_data"
    },
    {
     "data": {
      "image/png": "[encoded data removed]",
      "text/plain": [
       "<Figure size 640x480 with 1 Axes>"
      ]
     },
     "metadata": {},
     "output_type": "display_data"
    }
   ],
   "source": [
    "# Dropoff Latitude & Longitude\n",
    "sns.histplot(data['dropoff_latitude'], bins=40, kde=True)\n",
    "plt.title('Dropoff Latitude Distribution')\n",
    "plt.xlabel('Latitude')\n",
    "plt.ylabel('Frequency')\n",
    "plt.show()\n",
    "\n",
    "sns.histplot(data['dropoff_longitude'], bins=40, kde=True)\n",
    "plt.title('Dropoff Longitude Distribution')\n",
    "plt.xlabel('Longitude')\n",
    "plt.ylabel('Frequency')\n",
    "plt.show()\n"
   ]
  },
  {
   "cell_type": "markdown",
   "id": "8be730ec-d391-4c47-87a6-c3711f358da5",
   "metadata": {},
   "source": [
    "# Bivariate Analysis : Numerical-Numerical"
   ]
  },
  {
   "cell_type": "code",
   "execution_count": 81,
   "id": "76d1801f-fbec-4634-b0c5-e33d2ac266ff",
   "metadata": {},
   "outputs": [
    {
     "data": {
      "text/plain": [
       "vendor_id              int64\n",
       "passenger_count        int64\n",
       "pickup_longitude     float64\n",
       "pickup_latitude      float64\n",
       "dropoff_longitude    float64\n",
       "dropoff_latitude     float64\n",
       "trip_duration          int64\n",
       "log_trip_duration    float64\n",
       "dtype: object"
      ]
     },
     "execution_count": 81,
     "metadata": {},
     "output_type": "execute_result"
    }
   ],
   "source": [
    "# isolating numerical datatypes\n",
    "numerical = data.select_dtypes(include=['int64','float64','Int64'])[:]\n",
    "numerical.dtypes"
   ]
  },
  {
   "cell_type": "code",
   "execution_count": 82,
   "id": "b3f71490-141b-4ce7-a629-b4b6ffaaeacc",
   "metadata": {},
   "outputs": [
    {
     "data": {
      "text/html": [
       "<div>\n",
       "<style scoped>\n",
       "    .dataframe tbody tr th:only-of-type {\n",
       "        vertical-align: middle;\n",
       "    }\n",
       "\n",
       "    .dataframe tbody tr th {\n",
       "        vertical-align: top;\n",
       "    }\n",
       "\n",
       "    .dataframe thead th {\n",
       "        text-align: right;\n",
       "    }\n",
       "</style>\n",
       "<table border=\"1\" class=\"dataframe\">\n",
       "  <thead>\n",
       "    <tr style=\"text-align: right;\">\n",
       "      <th></th>\n",
       "      <th>vendor_id</th>\n",
       "      <th>passenger_count</th>\n",
       "      <th>pickup_longitude</th>\n",
       "      <th>pickup_latitude</th>\n",
       "      <th>dropoff_longitude</th>\n",
       "      <th>dropoff_latitude</th>\n",
       "      <th>trip_duration</th>\n",
       "      <th>log_trip_duration</th>\n",
       "    </tr>\n",
       "  </thead>\n",
       "  <tbody>\n",
       "    <tr>\n",
       "      <th>vendor_id</th>\n",
       "      <td>1.000000</td>\n",
       "      <td>0.286463</td>\n",
       "      <td>0.008198</td>\n",
       "      <td>0.002861</td>\n",
       "      <td>0.002371</td>\n",
       "      <td>0.005259</td>\n",
       "      <td>0.027752</td>\n",
       "      <td>0.019439</td>\n",
       "    </tr>\n",
       "    <tr>\n",
       "      <th>passenger_count</th>\n",
       "      <td>0.286463</td>\n",
       "      <td>1.000000</td>\n",
       "      <td>0.001163</td>\n",
       "      <td>-0.004696</td>\n",
       "      <td>-0.000027</td>\n",
       "      <td>-0.003944</td>\n",
       "      <td>0.013022</td>\n",
       "      <td>0.020749</td>\n",
       "    </tr>\n",
       "    <tr>\n",
       "      <th>pickup_longitude</th>\n",
       "      <td>0.008198</td>\n",
       "      <td>0.001163</td>\n",
       "      <td>1.000000</td>\n",
       "      <td>0.047635</td>\n",
       "      <td>0.780647</td>\n",
       "      <td>0.118473</td>\n",
       "      <td>0.035447</td>\n",
       "      <td>0.112302</td>\n",
       "    </tr>\n",
       "    <tr>\n",
       "      <th>pickup_latitude</th>\n",
       "      <td>0.002861</td>\n",
       "      <td>-0.004696</td>\n",
       "      <td>0.047635</td>\n",
       "      <td>1.000000</td>\n",
       "      <td>0.119970</td>\n",
       "      <td>0.479352</td>\n",
       "      <td>-0.038163</td>\n",
       "      <td>-0.142551</td>\n",
       "    </tr>\n",
       "    <tr>\n",
       "      <th>dropoff_longitude</th>\n",
       "      <td>0.002371</td>\n",
       "      <td>-0.000027</td>\n",
       "      <td>0.780647</td>\n",
       "      <td>0.119970</td>\n",
       "      <td>1.000000</td>\n",
       "      <td>0.149598</td>\n",
       "      <td>0.020664</td>\n",
       "      <td>0.072944</td>\n",
       "    </tr>\n",
       "    <tr>\n",
       "      <th>dropoff_latitude</th>\n",
       "      <td>0.005259</td>\n",
       "      <td>-0.003944</td>\n",
       "      <td>0.118473</td>\n",
       "      <td>0.479352</td>\n",
       "      <td>0.149598</td>\n",
       "      <td>1.000000</td>\n",
       "      <td>-0.028283</td>\n",
       "      <td>-0.124989</td>\n",
       "    </tr>\n",
       "    <tr>\n",
       "      <th>trip_duration</th>\n",
       "      <td>0.027752</td>\n",
       "      <td>0.013022</td>\n",
       "      <td>0.035447</td>\n",
       "      <td>-0.038163</td>\n",
       "      <td>0.020664</td>\n",
       "      <td>-0.028283</td>\n",
       "      <td>1.000000</td>\n",
       "      <td>0.327624</td>\n",
       "    </tr>\n",
       "    <tr>\n",
       "      <th>log_trip_duration</th>\n",
       "      <td>0.019439</td>\n",
       "      <td>0.020749</td>\n",
       "      <td>0.112302</td>\n",
       "      <td>-0.142551</td>\n",
       "      <td>0.072944</td>\n",
       "      <td>-0.124989</td>\n",
       "      <td>0.327624</td>\n",
       "      <td>1.000000</td>\n",
       "    </tr>\n",
       "  </tbody>\n",
       "</table>\n",
       "</div>"
      ],
      "text/plain": [
       "                   vendor_id  passenger_count  pickup_longitude  \\\n",
       "vendor_id           1.000000         0.286463          0.008198   \n",
       "passenger_count     0.286463         1.000000          0.001163   \n",
       "pickup_longitude    0.008198         0.001163          1.000000   \n",
       "pickup_latitude     0.002861        -0.004696          0.047635   \n",
       "dropoff_longitude   0.002371        -0.000027          0.780647   \n",
       "dropoff_latitude    0.005259        -0.003944          0.118473   \n",
       "trip_duration       0.027752         0.013022          0.035447   \n",
       "log_trip_duration   0.019439         0.020749          0.112302   \n",
       "\n",
       "                   pickup_latitude  dropoff_longitude  dropoff_latitude  \\\n",
       "vendor_id                 0.002861           0.002371          0.005259   \n",
       "passenger_count          -0.004696          -0.000027         -0.003944   \n",
       "pickup_longitude          0.047635           0.780647          0.118473   \n",
       "pickup_latitude           1.000000           0.119970          0.479352   \n",
       "dropoff_longitude         0.119970           1.000000          0.149598   \n",
       "dropoff_latitude          0.479352           0.149598          1.000000   \n",
       "trip_duration            -0.038163           0.020664         -0.028283   \n",
       "log_trip_duration        -0.142551           0.072944         -0.124989   \n",
       "\n",
       "                   trip_duration  log_trip_duration  \n",
       "vendor_id               0.027752           0.019439  \n",
       "passenger_count         0.013022           0.020749  \n",
       "pickup_longitude        0.035447           0.112302  \n",
       "pickup_latitude        -0.038163          -0.142551  \n",
       "dropoff_longitude       0.020664           0.072944  \n",
       "dropoff_latitude       -0.028283          -0.124989  \n",
       "trip_duration           1.000000           0.327624  \n",
       "log_trip_duration       0.327624           1.000000  "
      ]
     },
     "execution_count": 82,
     "metadata": {},
     "output_type": "execute_result"
    }
   ],
   "source": [
    "# calculating correlation\n",
    "correlation = numerical.dropna().corr()\n",
    "correlation"
   ]
  },
  {
   "cell_type": "code",
   "execution_count": 83,
   "id": "da6405a9-8b7c-431f-a1e3-300df22cf0f2",
   "metadata": {},
   "outputs": [],
   "source": [
    "# Add day of week and hour of week\n",
    "data['day_of_week'] = date.day_name()\n",
    "data['hour_of_day'] = date.hour\n",
    "data['hour_of_week'] = date.dayofweek * 24 + data['hour_of_day']"
   ]
  },
  {
   "cell_type": "code",
   "execution_count": 84,
   "id": "9f0aa7e9-6194-4366-a2e6-b2d06c133a1f",
   "metadata": {},
   "outputs": [
    {
     "data": {
      "image/png": "[encoded data removed]",
      "text/plain": [
       "<Figure size 1000x600 with 1 Axes>"
      ]
     },
     "metadata": {},
     "output_type": "display_data"
    }
   ],
   "source": [
    "plt.figure(figsize=(10, 6))\n",
    "sns.boxplot(x='day_of_week', y='trip_duration', data=data, order=[\n",
    "    'Monday', 'Tuesday', 'Wednesday', 'Thursday', 'Friday', 'Saturday', 'Sunday'\n",
    "])\n",
    "plt.yscale('log')  # Optional: if durations have large range\n",
    "plt.title('Trip Duration by Day of the Week')\n",
    "plt.xlabel('Day of the Week')\n",
    "plt.ylabel('Trip Duration (seconds)')\n",
    "plt.xticks(rotation=45)\n",
    "plt.tight_layout()\n",
    "plt.show()\n"
   ]
  },
  {
   "cell_type": "markdown",
   "id": "a604d8eb-8e92-4d87-b421-5dc3aea28fae",
   "metadata": {},
   "source": [
    "SUMMERY"
   ]
  },
  {
   "cell_type": "markdown",
   "id": "f168e32a-e9b6-4d02-bc85-88b1eb6525cd",
   "metadata": {},
   "source": [
    "Outliers are present all day with higher fequency during Monday and friday compared to weekends."
   ]
  },
  {
   "cell_type": "markdown",
   "id": "f089454b-63ad-44c7-adac-a5ca417b66ee",
   "metadata": {},
   "source": [
    "IQR is relatively consistent across all days, indicating similar variability in trip duration."
   ]
  },
  {
   "cell_type": "markdown",
   "id": "7d0568e2-2ee7-47a1-9810-26d103dcc047",
   "metadata": {},
   "source": [
    "There's a slightly increase in meadian during Monday and Saturday."
   ]
  },
  {
   "cell_type": "code",
   "execution_count": 85,
   "id": "a29107e7-0ac3-4afb-9419-c607ebe33a86",
   "metadata": {},
   "outputs": [
    {
     "data": {
      "image/png": "[encoded data removed]",
      "text/plain": [
       "<Figure size 1400x600 with 1 Axes>"
      ]
     },
     "metadata": {},
     "output_type": "display_data"
    }
   ],
   "source": [
    "plt.figure(figsize=(14, 6))\n",
    "sns.lineplot(x='hour_of_week', y='trip_duration', data=data, estimator='mean', color='Magenta')\n",
    "plt.title('Average Trip Duration by Hour of the Week')\n",
    "plt.xlabel('Hour of the Week (0 = Mon 00:00, ..., 167 = Sun 23:00)')\n",
    "plt.ylabel('Average Trip Duration (seconds)')\n",
    "plt.tight_layout()\n",
    "plt.show()\n"
   ]
  },
  {
   "cell_type": "markdown",
   "id": "41706129-37bb-4ba6-834b-de1c743c740b",
   "metadata": {},
   "source": [
    "SUMMERY"
   ]
  },
  {
   "cell_type": "markdown",
   "id": "c003e73e-e90a-46f4-992a-5c788924a236",
   "metadata": {},
   "source": [
    "Smaller peak is observed around hour 50 ,which responds to wednesday at 2:00 AM."
   ]
  },
  {
   "cell_type": "markdown",
   "id": "8f223a3a-4e90-4398-83da-ccfdfa1cb762",
   "metadata": {},
   "source": [
    "The trip duration remains stable throughout the week,with same fluctuations."
   ]
  },
  {
   "cell_type": "code",
   "execution_count": 86,
   "id": "296a1d00-fb68-462a-9be5-e8b782307566",
   "metadata": {},
   "outputs": [
    {
     "data": {
      "text/plain": [
       "<Axes: xlabel='vendor_id', ylabel='trip_duration'>"
      ]
     },
     "execution_count": 86,
     "metadata": {},
     "output_type": "execute_result"
    },
    {
     "data": {
      "image/png": "[encoded data removed]",
      "text/plain": [
       "<Figure size 640x480 with 1 Axes>"
      ]
     },
     "metadata": {},
     "output_type": "display_data"
    }
   ],
   "source": [
    "sns.barplot(x='vendor_id', y='trip_duration', data=data, color='Teal')"
   ]
  },
  {
   "cell_type": "markdown",
   "id": "7b6671f3-ef1d-4e00-bc3c-bf0a6ca03472",
   "metadata": {},
   "source": [
    "SUMMERY"
   ]
  },
  {
   "cell_type": "markdown",
   "id": "2db09237-8519-4c40-b72b-c7c7fea73ce9",
   "metadata": {},
   "source": [
    "The graph represent vendors id 1 and 2 with different hieght."
   ]
  },
  {
   "cell_type": "markdown",
   "id": "8c134581-0642-45c7-b3a9-961b0f6388c7",
   "metadata": {},
   "source": [
    "This tells us that the median in the both bars is likely different as we can see that second vendor_id has higher median."
   ]
  },
  {
   "cell_type": "markdown",
   "id": "0bf4b606-f388-4b73-ab55-15bfbc167143",
   "metadata": {},
   "source": [
    "Second vendor_id ,we can teel that they are the most who are travelling long distances."
   ]
  },
  {
   "cell_type": "code",
   "execution_count": 87,
   "id": "fc6b96c6-9d8e-411e-9ae1-44b4a4e5ee41",
   "metadata": {},
   "outputs": [
    {
     "data": {
      "image/png": "[encoded data removed]",
      "text/plain": [
       "<Figure size 640x480 with 1 Axes>"
      ]
     },
     "metadata": {},
     "output_type": "display_data"
    }
   ],
   "source": [
    "# Boxplot showing trip duration by vendor ID with outliers shown\n",
    "sns.boxplot(x='vendor_id', y='trip_duration', data=data)\n",
    "\n",
    "plt.title('Trip Duration by Vendor ID')\n",
    "plt.xlabel('Vendor ID')\n",
    "plt.ylabel('Trip Duration (seconds)')\n",
    "plt.show()"
   ]
  },
  {
   "cell_type": "markdown",
   "id": "9053a524-000c-4524-806a-587a2d9d4336",
   "metadata": {},
   "source": [
    "SUMMERY"
   ]
  },
  {
   "cell_type": "markdown",
   "id": "d9ec7e84-c904-4ad1-bdff-b652b678fee2",
   "metadata": {},
   "source": [
    "The number of the outlier is quit different in the graph which tells us that we can find large numnber of outliers through trip duration."
   ]
  },
  {
   "cell_type": "code",
   "execution_count": 88,
   "id": "d62ad6ad-d49d-4917-90ac-66e5227e46ff",
   "metadata": {},
   "outputs": [
    {
     "data": {
      "image/png": "[encoded data removed]",
      "text/plain": [
       "<Figure size 640x480 with 1 Axes>"
      ]
     },
     "metadata": {},
     "output_type": "display_data"
    }
   ],
   "source": [
    "#XII. Median Trip Duration – Vendor Wise\n",
    "\n",
    "median_trip = data.groupby('vendor_id')['trip_duration'].median().reset_index()\n",
    "\n",
    "sns.barplot(x='vendor_id', y='trip_duration', data=median_trip, color='Tan')\n",
    "plt.title('Median Trip Duration by Vendor ID')\n",
    "plt.ylabel('Median Trip Duration')\n",
    "plt.show()"
   ]
  },
  {
   "cell_type": "markdown",
   "id": "3bab97d8-9971-4cbc-9d2f-90be8c501b14",
   "metadata": {},
   "source": [
    "SUMMERY"
   ]
  },
  {
   "cell_type": "markdown",
   "id": "f548ec84-ef22-41ae-8c39-5ec715bd896a",
   "metadata": {},
   "source": [
    "The two bars represent Vendor_id 1 and 2."
   ]
  },
  {
   "cell_type": "markdown",
   "id": "437fdd8b-f85b-4544-bb12-ddfe7fc6313f",
   "metadata": {},
   "source": [
    "Both have the same hieght, indicating that the median in both is the same closely to 700."
   ]
  },
  {
   "cell_type": "code",
   "execution_count": 89,
   "id": "505da6aa-97bc-4a46-beae-e17141462d9d",
   "metadata": {},
   "outputs": [
    {
     "data": {
      "image/png": "[encoded data removed]",
      "text/plain": [
       "<Figure size 1000x600 with 1 Axes>"
      ]
     },
     "metadata": {},
     "output_type": "display_data"
    }
   ],
   "source": [
    "# Task 1: Determine and plot Trip Duration vs Passenger Count\n",
    "plt.figure(figsize=(10,6))\n",
    "sns.scatterplot(x='passenger_count', y='trip_duration', data=data, color='red')\n",
    "plt.title('Trip Duration vs Passenger Count')\n",
    "plt.xlabel('Passenger Count')\n",
    "plt.ylabel('Trip Duration')\n",
    "plt.show()"
   ]
  },
  {
   "cell_type": "code",
   "execution_count": 90,
   "id": "91c6b8d8-2525-4d3a-a4c9-636b112ded25",
   "metadata": {},
   "outputs": [
    {
     "data": {
      "application/vnd.plotly.v1+json": {
       "config": {
        "plotlyServerURL": "https://plot.ly"
       },
       "data": [
        {
         "customdata": [
          [
           1
          ],
          [
           1
          ],
          [
           6
          ],
          [
           1
          ],
          [
           1
          ],
          [
           1
          ],
          [
           1
          ],
          [
           1
          ],
          [
           1
          ],
          [
           1
          ],
          [
           2
          ],
          [
           1
          ],
          [
           1
          ],
          [
           4
          ],
          [
           1
          ],
          [
           2
          ],
          [
           1
          ],
          [
           6
          ],
          [
           1
          ],
          [
           1
          ],
          [
           2
          ],
          [
           1
          ],
          [
           6
          ],
          [
           2
          ],
          [
           1
          ],
          [
           5
          ],
          [
           1
          ],
          [
           1
          ],
          [
           1
          ],
          [
           6
          ],
          [
           1
          ],
          [
           1
          ],
          [
           1
          ],
          [
           1
          ],
          [
           2
          ],
          [
           2
          ],
          [
           1
          ],
          [
           1
          ],
          [
           1
          ],
          [
           1
          ],
          [
           1
          ],
          [
           1
          ],
          [
           1
          ],
          [
           1
          ],
          [
           4
          ],
          [
           1
          ],
          [
           6
          ],
          [
           1
          ],
          [
           1
          ],
          [
           1
          ],
          [
           1
          ],
          [
           1
          ],
          [
           1
          ],
          [
           1
          ],
          [
           1
          ],
          [
           1
          ],
          [
           1
          ],
          [
           1
          ],
          [
           1
          ],
          [
           1
          ],
          [
           1
          ],
          [
           1
          ],
          [
           1
          ],
          [
           1
          ],
          [
           2
          ],
          [
           1
          ],
          [
           5
          ],
          [
           1
          ],
          [
           1
          ],
          [
           1
          ],
          [
           2
          ],
          [
           1
          ],
          [
           1
          ],
          [
           1
          ],
          [
           1
          ],
          [
           1
          ],
          [
           1
          ],
          [
           1
          ],
          [
           1
          ],
          [
           1
          ],
          [
           2
          ],
          [
           1
          ],
          [
           2
          ],
          [
           1
          ],
          [
           1
          ],
          [
           2
          ],
          [
           1
          ],
          [
           1
          ],
          [
           2
          ],
          [
           1
          ],
          [
           1
          ],
          [
           4
          ],
          [
           2
          ],
          [
           1
          ],
          [
           1
          ],
          [
           6
          ],
          [
           1
          ],
          [
           2
          ],
          [
           1
          ],
          [
           1
          ],
          [
           2
          ],
          [
           2
          ],
          [
           1
          ],
          [
           2
          ],
          [
           1
          ],
          [
           3
          ],
          [
           1
          ],
          [
           1
          ],
          [
           1
          ],
          [
           1
          ],
          [
           1
          ],
          [
           1
          ],
          [
           5
          ],
          [
           5
          ],
          [
           1
          ],
          [
           1
          ],
          [
           1
          ],
          [
           2
          ],
          [
           1
          ],
          [
           1
          ],
          [
           1
          ],
          [
           1
          ],
          [
           1
          ],
          [
           5
          ],
          [
           1
          ],
          [
           2
          ],
          [
           1
          ],
          [
           1
          ],
          [
           2
          ],
          [
           2
          ],
          [
           1
          ],
          [
           1
          ],
          [
           1
          ],
          [
           1
          ],
          [
           1
          ],
          [
           1
          ],
          [
           1
          ],
          [
           1
          ],
          [
           1
          ],
          [
           1
          ],
          [
           1
          ],
          [
           6
          ],
          [
           1
          ],
          [
           1
          ],
          [
           1
          ],
          [
           1
          ],
          [
           1
          ],
          [
           1
          ],
          [
           1
          ],
          [
           1
          ],
          [
           2
          ],
          [
           1
          ],
          [
           1
          ],
          [
           1
          ],
          [
           1
          ],
          [
           4
          ],
          [
           1
          ],
          [
           1
          ],
          [
           2
          ],
          [
           1
          ],
          [
           6
          ],
          [
           1
          ],
          [
           2
          ],
          [
           3
          ],
          [
           2
          ],
          [
           1
          ],
          [
           1
          ],
          [
           5
          ],
          [
           1
          ],
          [
           1
          ],
          [
           2
          ],
          [
           1
          ],
          [
           1
          ],
          [
           2
          ],
          [
           1
          ],
          [
           1
          ],
          [
           3
          ],
          [
           1
          ],
          [
           1
          ],
          [
           3
          ],
          [
           2
          ],
          [
           1
          ],
          [
           1
          ],
          [
           2
          ],
          [
           1
          ],
          [
           1
          ],
          [
           1
          ],
          [
           1
          ],
          [
           1
          ],
          [
           4
          ],
          [
           1
          ],
          [
           4
          ],
          [
           1
          ],
          [
           1
          ],
          [
           2
          ],
          [
           3
          ],
          [
           1
          ],
          [
           1
          ],
          [
           1
          ],
          [
           1
          ],
          [
           1
          ],
          [
           2
          ],
          [
           1
          ],
          [
           1
          ],
          [
           1
          ],
          [
           1
          ],
          [
           1
          ],
          [
           1
          ],
          [
           3
          ],
          [
           1
          ],
          [
           1
          ],
          [
           1
          ],
          [
           1
          ],
          [
           1
          ],
          [
           1
          ],
          [
           1
          ],
          [
           1
          ],
          [
           6
          ],
          [
           1
          ],
          [
           2
          ],
          [
           5
          ],
          [
           1
          ],
          [
           1
          ],
          [
           2
          ],
          [
           1
          ],
          [
           1
          ],
          [
           1
          ],
          [
           1
          ],
          [
           1
          ],
          [
           2
          ],
          [
           5
          ],
          [
           1
          ],
          [
           1
          ],
          [
           1
          ],
          [
           1
          ],
          [
           1
          ],
          [
           6
          ],
          [
           5
          ],
          [
           1
          ],
          [
           1
          ],
          [
           1
          ],
          [
           1
          ],
          [
           2
          ],
          [
           1
          ],
          [
           1
          ],
          [
           3
          ],
          [
           2
          ],
          [
           2
          ],
          [
           2
          ],
          [
           1
          ],
          [
           1
          ],
          [
           1
          ],
          [
           2
          ],
          [
           1
          ],
          [
           1
          ],
          [
           1
          ],
          [
           1
          ],
          [
           1
          ],
          [
           1
          ],
          [
           2
          ],
          [
           1
          ],
          [
           1
          ],
          [
           1
          ],
          [
           1
          ],
          [
           1
          ],
          [
           1
          ],
          [
           1
          ],
          [
           2
          ],
          [
           1
          ],
          [
           5
          ],
          [
           1
          ],
          [
           1
          ],
          [
           1
          ],
          [
           1
          ],
          [
           1
          ],
          [
           1
          ],
          [
           1
          ],
          [
           1
          ],
          [
           5
          ],
          [
           2
          ],
          [
           1
          ],
          [
           1
          ],
          [
           1
          ],
          [
           1
          ],
          [
           3
          ],
          [
           3
          ],
          [
           3
          ],
          [
           2
          ],
          [
           1
          ],
          [
           1
          ],
          [
           1
          ],
          [
           1
          ],
          [
           2
          ],
          [
           2
          ],
          [
           1
          ],
          [
           1
          ],
          [
           1
          ],
          [
           1
          ],
          [
           1
          ],
          [
           1
          ],
          [
           1
          ],
          [
           1
          ],
          [
           1
          ],
          [
           1
          ],
          [
           1
          ],
          [
           1
          ],
          [
           1
          ],
          [
           2
          ],
          [
           1
          ],
          [
           1
          ],
          [
           1
          ],
          [
           3
          ],
          [
           1
          ],
          [
           2
          ],
          [
           2
          ],
          [
           4
          ],
          [
           1
          ],
          [
           1
          ],
          [
           1
          ],
          [
           1
          ],
          [
           1
          ],
          [
           2
          ],
          [
           1
          ],
          [
           1
          ],
          [
           1
          ],
          [
           1
          ],
          [
           1
          ],
          [
           5
          ],
          [
           1
          ],
          [
           3
          ],
          [
           1
          ],
          [
           6
          ],
          [
           1
          ],
          [
           1
          ],
          [
           3
          ],
          [
           3
          ],
          [
           1
          ],
          [
           1
          ],
          [
           1
          ],
          [
           2
          ],
          [
           2
          ],
          [
           1
          ],
          [
           1
          ],
          [
           1
          ],
          [
           1
          ],
          [
           2
          ],
          [
           2
          ],
          [
           1
          ],
          [
           4
          ],
          [
           1
          ],
          [
           5
          ],
          [
           1
          ],
          [
           1
          ],
          [
           1
          ],
          [
           1
          ],
          [
           1
          ],
          [
           1
          ],
          [
           2
          ],
          [
           4
          ],
          [
           3
          ],
          [
           1
          ],
          [
           1
          ],
          [
           2
          ],
          [
           1
          ],
          [
           1
          ],
          [
           1
          ],
          [
           1
          ],
          [
           1
          ],
          [
           1
          ],
          [
           1
          ],
          [
           1
          ],
          [
           1
          ],
          [
           6
          ],
          [
           1
          ],
          [
           3
          ],
          [
           1
          ],
          [
           2
          ],
          [
           1
          ],
          [
           1
          ],
          [
           1
          ],
          [
           2
          ],
          [
           5
          ],
          [
           1
          ],
          [
           1
          ],
          [
           2
          ],
          [
           5
          ],
          [
           2
          ],
          [
           1
          ],
          [
           2
          ],
          [
           1
          ],
          [
           2
          ],
          [
           1
          ],
          [
           1
          ],
          [
           5
          ],
          [
           1
          ],
          [
           1
          ],
          [
           1
          ],
          [
           1
          ],
          [
           2
          ],
          [
           1
          ],
          [
           1
          ],
          [
           1
          ],
          [
           2
          ],
          [
           1
          ],
          [
           2
          ],
          [
           1
          ],
          [
           2
          ],
          [
           1
          ],
          [
           6
          ],
          [
           1
          ],
          [
           1
          ],
          [
           1
          ],
          [
           2
          ],
          [
           1
          ],
          [
           1
          ],
          [
           1
          ],
          [
           1
          ],
          [
           1
          ],
          [
           2
          ],
          [
           1
          ],
          [
           2
          ],
          [
           1
          ],
          [
           1
          ],
          [
           1
          ],
          [
           1
          ],
          [
           1
          ],
          [
           1
          ],
          [
           1
          ],
          [
           5
          ],
          [
           1
          ],
          [
           1
          ],
          [
           1
          ],
          [
           1
          ],
          [
           1
          ],
          [
           1
          ],
          [
           1
          ],
          [
           1
          ],
          [
           3
          ],
          [
           2
          ],
          [
           1
          ],
          [
           1
          ],
          [
           2
          ],
          [
           6
          ],
          [
           1
          ],
          [
           4
          ],
          [
           4
          ],
          [
           1
          ],
          [
           1
          ],
          [
           1
          ],
          [
           1
          ],
          [
           3
          ],
          [
           1
          ],
          [
           1
          ],
          [
           1
          ],
          [
           5
          ],
          [
           1
          ],
          [
           2
          ],
          [
           2
          ],
          [
           2
          ],
          [
           1
          ],
          [
           1
          ],
          [
           1
          ],
          [
           1
          ],
          [
           2
          ],
          [
           1
          ],
          [
           2
          ],
          [
           2
          ],
          [
           6
          ],
          [
           2
          ],
          [
           1
          ],
          [
           1
          ],
          [
           1
          ],
          [
           1
          ],
          [
           2
          ],
          [
           1
          ],
          [
           1
          ],
          [
           1
          ],
          [
           6
          ],
          [
           1
          ],
          [
           1
          ],
          [
           1
          ],
          [
           4
          ],
          [
           1
          ],
          [
           1
          ],
          [
           1
          ],
          [
           1
          ],
          [
           3
          ],
          [
           1
          ],
          [
           1
          ],
          [
           1
          ],
          [
           1
          ],
          [
           6
          ],
          [
           2
          ],
          [
           2
          ],
          [
           2
          ],
          [
           1
          ],
          [
           1
          ],
          [
           1
          ],
          [
           1
          ],
          [
           4
          ],
          [
           1
          ],
          [
           1
          ],
          [
           5
          ],
          [
           1
          ],
          [
           1
          ],
          [
           4
          ],
          [
           1
          ],
          [
           6
          ],
          [
           1
          ],
          [
           3
          ],
          [
           5
          ],
          [
           1
          ],
          [
           1
          ],
          [
           1
          ],
          [
           1
          ],
          [
           1
          ],
          [
           1
          ],
          [
           2
          ],
          [
           1
          ],
          [
           1
          ],
          [
           1
          ],
          [
           1
          ],
          [
           1
          ],
          [
           1
          ],
          [
           1
          ],
          [
           4
          ],
          [
           1
          ],
          [
           2
          ],
          [
           1
          ],
          [
           1
          ],
          [
           2
          ],
          [
           1
          ],
          [
           1
          ],
          [
           1
          ],
          [
           1
          ],
          [
           3
          ],
          [
           2
          ],
          [
           2
          ],
          [
           1
          ],
          [
           1
          ],
          [
           1
          ],
          [
           5
          ],
          [
           1
          ],
          [
           2
          ],
          [
           1
          ],
          [
           1
          ],
          [
           1
          ],
          [
           1
          ],
          [
           1
          ],
          [
           4
          ],
          [
           3
          ],
          [
           1
          ],
          [
           2
          ],
          [
           3
          ],
          [
           1
          ],
          [
           1
          ],
          [
           1
          ],
          [
           1
          ],
          [
           2
          ],
          [
           1
          ],
          [
           2
          ],
          [
           1
          ],
          [
           1
          ],
          [
           6
          ],
          [
           1
          ],
          [
           5
          ],
          [
           1
          ],
          [
           1
          ],
          [
           2
          ],
          [
           1
          ],
          [
           1
          ],
          [
           5
          ],
          [
           1
          ],
          [
           6
          ],
          [
           1
          ],
          [
           2
          ],
          [
           1
          ],
          [
           1
          ],
          [
           1
          ],
          [
           1
          ],
          [
           1
          ],
          [
           1
          ],
          [
           1
          ],
          [
           1
          ],
          [
           1
          ],
          [
           2
          ],
          [
           1
          ],
          [
           2
          ],
          [
           1
          ],
          [
           1
          ],
          [
           1
          ],
          [
           1
          ],
          [
           1
          ],
          [
           1
          ],
          [
           3
          ],
          [
           1
          ],
          [
           1
          ],
          [
           1
          ],
          [
           3
          ],
          [
           1
          ],
          [
           1
          ],
          [
           1
          ],
          [
           1
          ],
          [
           1
          ],
          [
           2
          ],
          [
           1
          ],
          [
           1
          ],
          [
           1
          ],
          [
           1
          ],
          [
           3
          ],
          [
           1
          ],
          [
           1
          ],
          [
           1
          ],
          [
           2
          ],
          [
           2
          ],
          [
           6
          ],
          [
           1
          ],
          [
           2
          ],
          [
           6
          ],
          [
           2
          ],
          [
           2
          ],
          [
           1
          ],
          [
           1
          ],
          [
           2
          ],
          [
           1
          ],
          [
           1
          ],
          [
           1
          ],
          [
           1
          ],
          [
           1
          ],
          [
           1
          ],
          [
           1
          ],
          [
           1
          ],
          [
           1
          ],
          [
           4
          ],
          [
           1
          ],
          [
           3
          ],
          [
           3
          ],
          [
           1
          ],
          [
           2
          ],
          [
           6
          ],
          [
           1
          ],
          [
           1
          ],
          [
           1
          ],
          [
           1
          ],
          [
           1
          ],
          [
           1
          ],
          [
           1
          ],
          [
           1
          ],
          [
           1
          ],
          [
           1
          ],
          [
           1
          ],
          [
           1
          ],
          [
           1
          ],
          [
           1
          ],
          [
           2
          ],
          [
           1
          ],
          [
           4
          ],
          [
           1
          ],
          [
           1
          ],
          [
           1
          ],
          [
           1
          ],
          [
           1
          ],
          [
           3
          ],
          [
           5
          ],
          [
           1
          ],
          [
           4
          ],
          [
           1
          ],
          [
           1
          ],
          [
           1
          ],
          [
           2
          ],
          [
           2
          ],
          [
           2
          ],
          [
           1
          ],
          [
           5
          ],
          [
           1
          ],
          [
           1
          ],
          [
           2
          ],
          [
           2
          ],
          [
           1
          ],
          [
           1
          ],
          [
           1
          ],
          [
           1
          ],
          [
           1
          ],
          [
           1
          ],
          [
           4
          ],
          [
           1
          ],
          [
           1
          ],
          [
           1
          ],
          [
           5
          ],
          [
           1
          ],
          [
           1
          ],
          [
           1
          ],
          [
           1
          ],
          [
           1
          ],
          [
           2
          ],
          [
           1
          ],
          [
           1
          ],
          [
           1
          ],
          [
           3
          ],
          [
           1
          ],
          [
           1
          ],
          [
           1
          ],
          [
           1
          ],
          [
           1
          ],
          [
           1
          ],
          [
           2
          ],
          [
           1
          ],
          [
           1
          ],
          [
           1
          ],
          [
           2
          ],
          [
           1
          ],
          [
           3
          ],
          [
           1
          ],
          [
           1
          ],
          [
           2
          ],
          [
           1
          ],
          [
           1
          ],
          [
           1
          ],
          [
           1
          ],
          [
           1
          ],
          [
           1
          ],
          [
           1
          ],
          [
           1
          ],
          [
           1
          ],
          [
           1
          ],
          [
           2
          ],
          [
           2
          ],
          [
           1
          ],
          [
           1
          ],
          [
           1
          ],
          [
           1
          ],
          [
           2
          ],
          [
           1
          ],
          [
           1
          ],
          [
           2
          ],
          [
           1
          ],
          [
           1
          ],
          [
           1
          ],
          [
           1
          ],
          [
           1
          ],
          [
           1
          ],
          [
           2
          ],
          [
           4
          ],
          [
           1
          ],
          [
           1
          ],
          [
           1
          ],
          [
           3
          ],
          [
           6
          ],
          [
           1
          ],
          [
           1
          ],
          [
           2
          ],
          [
           1
          ],
          [
           1
          ],
          [
           1
          ],
          [
           1
          ],
          [
           1
          ],
          [
           2
          ],
          [
           2
          ],
          [
           1
          ],
          [
           1
          ],
          [
           1
          ],
          [
           5
          ],
          [
           1
          ],
          [
           5
          ],
          [
           1
          ],
          [
           4
          ],
          [
           1
          ],
          [
           2
          ],
          [
           2
          ],
          [
           4
          ],
          [
           1
          ],
          [
           1
          ],
          [
           1
          ],
          [
           2
          ],
          [
           1
          ],
          [
           1
          ],
          [
           1
          ],
          [
           1
          ],
          [
           2
          ],
          [
           2
          ],
          [
           1
          ],
          [
           1
          ],
          [
           1
          ],
          [
           1
          ],
          [
           1
          ],
          [
           1
          ],
          [
           1
          ],
          [
           1
          ],
          [
           1
          ],
          [
           2
          ],
          [
           1
          ],
          [
           3
          ],
          [
           1
          ],
          [
           1
          ],
          [
           1
          ],
          [
           6
          ],
          [
           4
          ],
          [
           1
          ],
          [
           1
          ],
          [
           1
          ],
          [
           1
          ],
          [
           1
          ],
          [
           4
          ],
          [
           1
          ],
          [
           1
          ],
          [
           2
          ],
          [
           1
          ],
          [
           1
          ],
          [
           5
          ],
          [
           5
          ],
          [
           1
          ],
          [
           1
          ],
          [
           2
          ],
          [
           1
          ],
          [
           1
          ],
          [
           1
          ],
          [
           2
          ],
          [
           2
          ],
          [
           1
          ],
          [
           1
          ],
          [
           3
          ],
          [
           1
          ],
          [
           1
          ],
          [
           1
          ],
          [
           1
          ],
          [
           5
          ],
          [
           1
          ],
          [
           5
          ],
          [
           5
          ],
          [
           1
          ],
          [
           1
          ],
          [
           1
          ],
          [
           1
          ],
          [
           1
          ],
          [
           1
          ],
          [
           1
          ],
          [
           1
          ],
          [
           1
          ],
          [
           1
          ],
          [
           1
          ],
          [
           1
          ],
          [
           1
          ],
          [
           1
          ],
          [
           2
          ],
          [
           5
          ],
          [
           1
          ],
          [
           1
          ],
          [
           3
          ],
          [
           2
          ],
          [
           1
          ],
          [
           4
          ],
          [
           1
          ],
          [
           4
          ],
          [
           1
          ],
          [
           1
          ],
          [
           5
          ],
          [
           1
          ],
          [
           1
          ],
          [
           1
          ],
          [
           1
          ],
          [
           1
          ],
          [
           1
          ],
          [
           1
          ],
          [
           5
          ],
          [
           1
          ],
          [
           2
          ],
          [
           1
          ],
          [
           2
          ],
          [
           3
          ],
          [
           6
          ],
          [
           1
          ],
          [
           1
          ],
          [
           1
          ],
          [
           1
          ],
          [
           1
          ],
          [
           1
          ],
          [
           1
          ],
          [
           1
          ],
          [
           2
          ],
          [
           1
          ],
          [
           1
          ],
          [
           2
          ],
          [
           1
          ],
          [
           1
          ],
          [
           2
          ],
          [
           1
          ],
          [
           1
          ],
          [
           1
          ],
          [
           1
          ],
          [
           1
          ],
          [
           3
          ],
          [
           1
          ],
          [
           1
          ],
          [
           1
          ],
          [
           1
          ],
          [
           1
          ],
          [
           1
          ],
          [
           1
          ],
          [
           2
          ],
          [
           1
          ],
          [
           1
          ],
          [
           1
          ],
          [
           3
          ],
          [
           1
          ],
          [
           3
          ],
          [
           1
          ],
          [
           6
          ],
          [
           5
          ],
          [
           1
          ],
          [
           1
          ],
          [
           1
          ],
          [
           1
          ],
          [
           6
          ],
          [
           1
          ],
          [
           6
          ],
          [
           1
          ],
          [
           2
          ],
          [
           1
          ],
          [
           1
          ],
          [
           1
          ],
          [
           1
          ],
          [
           2
          ],
          [
           1
          ],
          [
           3
          ],
          [
           1
          ],
          [
           1
          ],
          [
           2
          ],
          [
           1
          ],
          [
           1
          ],
          [
           1
          ],
          [
           1
          ],
          [
           1
          ],
          [
           1
          ],
          [
           2
          ],
          [
           1
          ],
          [
           1
          ],
          [
           2
          ],
          [
           1
          ],
          [
           1
          ],
          [
           1
          ],
          [
           5
          ],
          [
           1
          ],
          [
           1
          ],
          [
           1
          ],
          [
           1
          ],
          [
           1
          ],
          [
           2
          ],
          [
           1
          ],
          [
           1
          ],
          [
           2
          ],
          [
           2
          ],
          [
           5
          ],
          [
           5
          ],
          [
           1
          ],
          [
           1
          ],
          [
           1
          ],
          [
           1
          ],
          [
           1
          ],
          [
           1
          ],
          [
           2
          ],
          [
           2
          ],
          [
           1
          ],
          [
           1
          ],
          [
           4
          ],
          [
           1
          ],
          [
           1
          ],
          [
           1
          ],
          [
           1
          ],
          [
           1
          ],
          [
           1
          ],
          [
           1
          ],
          [
           1
          ],
          [
           1
          ],
          [
           2
          ],
          [
           1
          ],
          [
           1
          ],
          [
           1
          ],
          [
           1
          ],
          [
           4
          ],
          [
           1
          ],
          [
           1
          ],
          [
           1
          ],
          [
           1
          ],
          [
           1
          ],
          [
           1
          ],
          [
           1
          ],
          [
           5
          ],
          [
           1
          ],
          [
           1
          ],
          [
           5
          ],
          [
           1
          ],
          [
           5
          ],
          [
           1
          ],
          [
           1
          ],
          [
           1
          ],
          [
           1
          ],
          [
           1
          ],
          [
           2
          ],
          [
           6
          ],
          [
           1
          ]
         ],
         "hovertemplate": "pickup_latitude=%{lat}<br>pickup_longitude=%{lon}<br>passenger_count=%{marker.color}<extra></extra>",
         "lat": [
          40.77058792114258,
          40.75727081298828,
          40.75830841064453,
          40.77114868164063,
          40.76905059814453,
          40.73018646240234,
          40.72356796264648,
          40.75312042236328,
          40.75720596313477,
          40.76968383789063,
          40.7846565246582,
          40.73745346069336,
          40.73200988769531,
          40.7143669128418,
          40.757511138916016,
          40.76945114135742,
          40.74477767944336,
          40.76213836669922,
          40.77876663208008,
          40.73444366455078,
          40.74831008911133,
          40.64448547363281,
          40.744140625,
          40.78950881958008,
          40.75767517089844,
          40.78570556640625,
          40.750465393066406,
          40.76980590820313,
          40.75093078613281,
          40.76832962036133,
          40.74004364013672,
          40.7635612487793,
          40.75204849243164,
          40.644546508789055,
          40.79372024536133,
          40.76565170288085,
          40.79212951660156,
          40.750919342041016,
          40.74425888061523,
          40.72093963623047,
          40.733177185058594,
          40.7257194519043,
          40.76443099975585,
          40.71390914916992,
          40.76831817626953,
          40.735389709472656,
          40.74389266967773,
          40.7636833190918,
          40.76029586791992,
          40.7735481262207,
          40.79653930664063,
          40.74845886230469,
          40.75966644287109,
          40.7573127746582,
          40.762115478515625,
          40.75202178955078,
          40.74443054199219,
          40.746036529541016,
          40.7300033569336,
          40.74773025512695,
          40.77518844604492,
          40.72745132446289,
          40.74181747436523,
          40.71617126464844,
          40.760009765625,
          40.75101089477539,
          40.759101867675774,
          40.72639846801758,
          40.726810455322266,
          40.74725341796875,
          40.78056716918945,
          40.74215316772461,
          40.77115631103516,
          40.70787048339844,
          40.70180892944336,
          40.75866317749024,
          40.75590896606445,
          40.72631072998047,
          40.77981185913085,
          40.7627067565918,
          40.76041412353516,
          40.7658805847168,
          40.80898666381836,
          40.79090118408203,
          40.729358673095696,
          40.76036834716797,
          40.68058395385742,
          40.74291610717773,
          40.74755859375,
          40.76534652709961,
          40.75923156738281,
          40.751163482666016,
          40.722820281982415,
          40.75503921508789,
          40.76805114746094,
          40.75605773925781,
          40.74631118774415,
          40.779483795166016,
          40.78896331787109,
          40.77936553955078,
          40.77312469482422,
          40.7771873474121,
          40.76315689086913,
          40.735389709472656,
          40.74407958984375,
          40.75719451904297,
          40.73311614990234,
          40.76126098632813,
          40.72135162353516,
          40.74441909790039,
          40.73845672607422,
          40.76631927490234,
          40.7510986328125,
          40.71569061279297,
          40.79305648803711,
          40.77399826049805,
          40.77091217041016,
          40.72103118896485,
          40.77914810180664,
          40.75198745727539,
          40.78089904785156,
          40.77262878417969,
          40.75823974609375,
          40.75815963745117,
          40.76287841796875,
          40.754859924316406,
          40.78268432617188,
          40.72527313232422,
          40.71384048461913,
          40.76353073120117,
          40.76506042480469,
          40.78900146484375,
          40.77543258666992,
          40.77824020385742,
          40.74602890014648,
          40.7799186706543,
          40.75254440307617,
          40.76023864746094,
          40.75168991088867,
          40.75904846191406,
          40.71785354614258,
          40.76768112182617,
          40.7498435974121,
          40.756851196289055,
          40.75481414794922,
          40.73379898071289,
          40.76412582397461,
          40.71966552734375,
          40.74486541748047,
          40.79199981689453,
          40.76280975341797,
          40.78387069702149,
          40.71142959594727,
          40.72372055053711,
          40.74045181274415,
          40.75020980834961,
          40.76811218261719,
          40.7695541381836,
          40.75899887084961,
          40.75712966918945,
          40.78559112548828,
          40.76101684570313,
          40.74184036254883,
          40.7603874206543,
          40.779090881347656,
          40.74211120605469,
          40.77382659912109,
          40.77617645263672,
          40.76049041748047,
          40.735664367675774,
          40.76219940185547,
          40.773963928222656,
          40.75948715209961,
          40.7705307006836,
          40.73966217041016,
          40.78509521484375,
          40.768230438232415,
          40.73379898071289,
          40.756141662597656,
          40.7755012512207,
          40.766090393066406,
          40.77806854248047,
          40.75410079956055,
          40.73725509643555,
          40.750221252441406,
          40.75753784179688,
          40.77578353881836,
          40.779651641845696,
          40.77920150756836,
          40.74945068359375,
          40.75505828857422,
          40.77135848999024,
          40.715667724609375,
          40.80356979370117,
          40.76313781738281,
          40.7312126159668,
          40.71979904174805,
          40.795860290527344,
          40.76873779296875,
          40.737892150878906,
          40.75635528564453,
          40.724922180175774,
          40.74837112426758,
          40.7363166809082,
          40.76470947265625,
          40.77146911621094,
          40.78683853149415,
          40.72029113769531,
          40.72017288208008,
          40.773773193359375,
          40.77252960205078,
          40.74420928955078,
          40.74388122558594,
          40.75424957275391,
          40.75485229492188,
          40.743106842041016,
          40.757415771484375,
          40.68683242797852,
          40.72428131103516,
          40.72695159912109,
          40.77399063110352,
          40.7588996887207,
          40.78738021850585,
          40.74658966064453,
          40.7530403137207,
          40.74976348876953,
          40.71784973144531,
          40.76042175292969,
          40.74211883544922,
          40.77239227294922,
          40.78622817993164,
          40.773582458496094,
          40.75053405761719,
          40.72818756103516,
          40.74164581298828,
          40.75507736206055,
          40.74678039550781,
          40.75181198120117,
          40.80675506591797,
          40.762710571289055,
          40.76422119140625,
          40.7760009765625,
          40.71900939941406,
          40.76557540893555,
          40.7193489074707,
          40.70584106445313,
          40.78850555419922,
          40.745304107666016,
          40.747501373291016,
          40.77013397216797,
          40.75076293945313,
          40.7485466003418,
          40.83243560791016,
          40.7628288269043,
          40.6453857421875,
          40.70772171020508,
          40.79766845703125,
          40.75318145751953,
          40.73085403442383,
          40.73836135864258,
          40.7216911315918,
          40.740196228027344,
          40.70962142944336,
          40.75867080688477,
          40.73413848876953,
          40.787899017333984,
          40.77050018310547,
          40.76638793945313,
          40.64171600341797,
          40.71852111816406,
          40.77358627319336,
          40.74489974975585,
          40.7618522644043,
          40.74843978881836,
          40.72708511352539,
          40.72871017456055,
          40.80555725097656,
          40.7479248046875,
          40.76227951049805,
          40.72722625732422,
          40.732154846191406,
          40.76723098754883,
          40.76424026489258,
          40.737281799316406,
          40.74103927612305,
          40.73276519775391,
          40.71319580078125,
          40.75900268554688,
          40.75108337402344,
          40.76325607299805,
          40.75516891479492,
          40.75382614135742,
          40.74964141845703,
          40.7520866394043,
          40.75907897949219,
          40.76067352294922,
          40.74370574951172,
          40.73627853393555,
          40.76877212524415,
          40.762840270996094,
          40.7895736694336,
          40.7961311340332,
          40.79501724243164,
          40.7396354675293,
          40.69283676147461,
          40.73092651367188,
          40.77906799316406,
          40.7363166809082,
          40.78325271606445,
          40.76193237304688,
          40.75252151489258,
          40.77530288696289,
          40.7723388671875,
          40.78822708129883,
          40.70487594604492,
          40.75426864624024,
          40.75354766845703,
          40.74455642700195,
          40.77507019042969,
          40.75526428222656,
          40.73918914794922,
          40.76612091064453,
          40.741863250732415,
          40.71198654174805,
          40.80201721191406,
          40.73956680297852,
          40.747779846191406,
          40.73235702514648,
          40.76039123535156,
          40.74996566772461,
          40.78261184692383,
          40.759727478027344,
          40.75638198852539,
          40.75609970092773,
          40.72856140136719,
          40.750301361083984,
          40.74184799194336,
          40.75442886352539,
          40.76505661010742,
          40.7495002746582,
          40.756595611572266,
          40.75057220458984,
          40.74501800537109,
          40.75250244140625,
          40.76474380493164,
          40.73705291748047,
          40.73733901977539,
          40.725341796875,
          40.71929168701172,
          40.73859786987305,
          40.77424621582031,
          40.75265121459961,
          40.75373458862305,
          40.73981094360352,
          40.74555587768555,
          40.7341423034668,
          40.77770233154297,
          40.779056549072266,
          40.75967025756836,
          40.76042938232422,
          40.75981903076172,
          40.72745513916016,
          40.75537872314453,
          40.77839660644531,
          40.73680114746094,
          40.80234146118164,
          40.75773239135742,
          40.778621673583984,
          40.74546051025391,
          40.7432861328125,
          40.74824905395508,
          40.70458221435547,
          40.792179107666016,
          40.77373123168945,
          40.78263473510742,
          40.74681854248047,
          40.77690887451172,
          40.76414489746094,
          40.76006317138672,
          40.72256088256836,
          40.70986557006836,
          40.75397109985352,
          40.78602600097656,
          40.75652694702149,
          40.71886825561523,
          40.727851867675774,
          40.82468032836913,
          40.6467399597168,
          40.67264175415039,
          40.77151107788085,
          40.75101852416992,
          40.75022888183594,
          40.74832534790039,
          40.73122787475585,
          40.72050094604492,
          40.787052154541016,
          40.78525924682617,
          40.77812957763672,
          40.71399307250977,
          40.76590347290039,
          40.73599624633789,
          40.7363395690918,
          40.71989822387695,
          40.76179122924805,
          40.768348693847656,
          40.76979064941406,
          40.743690490722656,
          40.78855895996094,
          40.78825759887695,
          40.76390838623047,
          40.7641716003418,
          40.74494934082031,
          40.77972412109375,
          40.7244987487793,
          40.75510787963867,
          40.70219039916992,
          40.77690124511719,
          40.78606033325195,
          40.75102233886719,
          40.72677230834961,
          40.74652099609375,
          40.7442512512207,
          40.7793083190918,
          40.79855346679688,
          40.74117660522461,
          40.77688980102539,
          40.79138946533203,
          40.738445281982415,
          40.71665954589844,
          40.83430480957031,
          40.76789855957031,
          40.70254135131836,
          40.747047424316406,
          40.75971984863281,
          40.783027648925774,
          40.73629760742188,
          40.73533248901367,
          40.77521896362305,
          40.76507186889648,
          40.75782012939453,
          40.71941375732422,
          40.74437713623047,
          40.75590133666992,
          40.78460311889648,
          40.76477432250977,
          40.74785232543945,
          40.75627136230469,
          40.76451873779297,
          40.80646133422852,
          40.74400329589844,
          40.76477813720703,
          40.75257110595703,
          40.74242782592773,
          40.77772903442383,
          40.77927017211913,
          40.78536224365234,
          40.75729370117188,
          40.7392692565918,
          40.75526428222656,
          40.7593879699707,
          40.75011825561523,
          40.73867034912109,
          40.78091812133789,
          40.759498596191406,
          40.75652313232422,
          40.755409240722656,
          40.77278518676758,
          40.75525665283203,
          40.74927520751953,
          40.76562881469727,
          40.64176940917969,
          40.7054443359375,
          40.743667602539055,
          40.76380157470703,
          40.76774597167969,
          40.78777694702149,
          40.73105239868164,
          40.645416259765625,
          40.76703643798828,
          40.75551986694336,
          40.73125076293945,
          40.73680114746094,
          40.742164611816406,
          40.71252059936523,
          40.73104476928711,
          40.77315139770508,
          40.74037170410156,
          40.76321411132813,
          40.8054313659668,
          40.64531326293945,
          40.73771667480469,
          40.69202041625977,
          40.77577590942383,
          40.7031364440918,
          40.750991821289055,
          40.768463134765625,
          40.73918533325195,
          40.70623016357422,
          40.75191116333008,
          40.7381591796875,
          40.64350509643555,
          40.7310676574707,
          40.7775993347168,
          40.744136810302734,
          40.77333068847656,
          40.77436065673828,
          40.75017929077149,
          40.74430084228516,
          40.77374267578125,
          40.779460906982415,
          40.775390625,
          40.80620193481445,
          40.76105117797852,
          40.76242446899415,
          40.71902847290039,
          40.78155517578125,
          40.77080154418945,
          40.70682907104492,
          40.76017379760742,
          40.76931381225585,
          40.79280090332031,
          40.76838684082031,
          40.72661209106445,
          40.750755310058594,
          40.74617004394531,
          40.7706184387207,
          40.78749847412109,
          40.75522994995117,
          40.76699066162109,
          40.76150131225585,
          40.74050521850585,
          40.76133728027344,
          40.756568908691406,
          40.72161102294922,
          40.7418212890625,
          40.77338409423828,
          40.80492401123047,
          40.72478866577149,
          40.78197479248047,
          40.754219055175774,
          40.72234344482422,
          40.72721862792969,
          40.74981689453125,
          40.749019622802734,
          40.75846099853516,
          40.71625900268555,
          40.73836517333984,
          40.676246643066406,
          40.71567153930664,
          40.74988174438477,
          40.78671646118164,
          40.77611923217773,
          40.75429153442383,
          40.717639923095696,
          40.76813888549805,
          40.75033950805664,
          40.750099182128906,
          40.74802017211913,
          40.76124954223633,
          40.7478141784668,
          40.77309036254883,
          40.74042510986328,
          40.7420310974121,
          40.72544097900391,
          40.645263671875,
          40.73725891113281,
          40.75522232055664,
          40.77444839477539,
          40.72936630249024,
          40.770355224609375,
          40.7373161315918,
          40.75766372680664,
          40.75455474853516,
          40.6899299621582,
          40.7522850036621,
          40.72892379760742,
          40.75589370727539,
          40.74577713012695,
          40.77027130126953,
          40.74934005737305,
          40.79157638549805,
          40.74833679199219,
          40.7451171875,
          40.74430847167969,
          40.6822395324707,
          40.77484130859375,
          40.73833465576172,
          40.71282577514648,
          40.7934799194336,
          40.74193954467773,
          40.726165771484375,
          40.719215393066406,
          40.644676208496094,
          40.74076843261719,
          40.723140716552734,
          40.77098846435547,
          40.71758270263672,
          40.76799774169922,
          40.76342010498047,
          40.77172470092773,
          40.74921798706055,
          40.73200225830078,
          40.72637176513672,
          40.79414367675781,
          40.7502326965332,
          40.77067947387695,
          40.75632858276367,
          40.78047180175781,
          40.76386260986328,
          40.75258255004883,
          40.79644012451172,
          40.75548934936523,
          40.77701568603516,
          40.75574111938477,
          40.77859497070313,
          40.77312088012695,
          40.72415542602539,
          40.77018737792969,
          40.727363586425774,
          40.74699020385742,
          40.64751815795898,
          40.78098678588867,
          40.77405166625977,
          40.7702751159668,
          40.74864196777344,
          40.769039154052734,
          40.73686981201172,
          40.78385162353516,
          40.754539489746094,
          40.71072006225585,
          40.75019454956055,
          40.74133682250977,
          40.77544784545898,
          40.71773910522461,
          40.761680603027344,
          40.75197219848633,
          40.73806762695313,
          40.71789932250977,
          40.77473068237305,
          40.78694915771485,
          40.67221450805664,
          40.74703979492188,
          40.74288940429688,
          40.76176071166992,
          40.73419570922852,
          40.75431823730469,
          40.76717376708984,
          40.75897216796875,
          40.76411056518555,
          40.76675033569336,
          40.8089256286621,
          40.75899887084961,
          40.75568008422852,
          40.73186874389648,
          40.73815536499024,
          40.74409103393555,
          40.72898483276367,
          40.7478904724121,
          40.73960113525391,
          40.76972579956055,
          40.74900436401367,
          40.74278259277344,
          40.75703811645508,
          40.75093460083008,
          40.7064323425293,
          40.76018905639648,
          40.648658752441406,
          40.73917388916016,
          40.77949905395508,
          40.76396179199219,
          40.767276763916016,
          40.75001907348633,
          40.72964477539063,
          40.70914077758789,
          40.72878646850585,
          40.75008010864258,
          40.7737693786621,
          40.76404571533203,
          40.72897338867188,
          40.76966857910156,
          40.75136947631836,
          40.76168823242188,
          40.73652648925781,
          40.75815582275391,
          40.77873992919922,
          40.75679016113281,
          40.714298248291016,
          40.77366256713867,
          40.76976013183594,
          40.76422500610352,
          40.736194610595696,
          40.75680923461913,
          40.74418640136719,
          40.73778533935547,
          40.76814651489258,
          40.78216552734375,
          40.72085189819336,
          40.719459533691406,
          40.76900100708008,
          40.7379035949707,
          40.73835372924805,
          40.72553253173828,
          40.78217315673828,
          40.75117874145508,
          40.71965026855469,
          40.73515319824219,
          40.75608825683594,
          40.74074935913085,
          40.73682022094727,
          40.788738250732415,
          40.76411819458008,
          40.76835632324219,
          40.79753875732422,
          40.75786590576172,
          40.75161361694336,
          40.765769958496094,
          40.762603759765625,
          40.74149703979492,
          40.64387130737305,
          40.74775314331055,
          40.75051498413085,
          40.644718170166016,
          40.73533630371094,
          40.75516891479492,
          40.74529266357422,
          40.70351028442383,
          40.74393844604492,
          40.73678970336913,
          40.76324844360352,
          40.758399963378906,
          40.779693603515625,
          40.76441955566406,
          40.779056549072266,
          40.7252082824707,
          40.75584030151367,
          40.746280670166016,
          40.75822830200195,
          40.77544403076172,
          40.76287078857422,
          40.76244735717773,
          40.7462158203125,
          40.76045608520508,
          40.76823806762695,
          40.73559188842773,
          40.646392822265625,
          40.74108505249024,
          40.76402282714844,
          40.76199340820313,
          40.76774597167969,
          40.77275085449219,
          40.7216796875,
          40.740142822265625,
          40.758487701416016,
          40.77922439575195,
          40.74342346191406,
          40.76165390014648,
          40.74016952514648,
          40.76855850219727,
          40.75038146972656,
          40.79992294311523,
          40.72654724121094,
          40.856590270996094,
          40.75051879882813,
          40.744644165039055,
          40.73521423339844,
          40.70572662353516,
          40.739166259765625,
          40.77023315429688,
          40.77524948120117,
          40.77961349487305,
          40.75809860229492,
          40.71918869018555,
          40.75088119506836,
          40.72721862792969,
          40.68380737304688,
          40.71416091918945,
          40.75099563598633,
          40.75273513793945,
          40.72774887084961,
          40.78129959106445,
          40.76052856445313,
          40.763179779052734,
          40.7762451171875,
          40.75706100463867,
          40.72983169555664,
          40.74392318725585,
          40.70828247070313,
          40.768230438232415,
          40.74016952514648,
          40.75804901123047,
          40.76311111450195,
          40.7358512878418,
          40.74938583374024,
          40.742431640625,
          40.74602127075195,
          40.75650024414063,
          40.79957962036133,
          40.73280334472656,
          40.74082946777344,
          40.7504997253418,
          40.75014877319336,
          40.8105697631836,
          40.76018142700195,
          40.76676177978516,
          40.75920104980469,
          40.74961853027344,
          40.68049621582031,
          40.72270965576172,
          40.76167678833008,
          40.756343841552734,
          40.70563125610352,
          40.725196838378906,
          40.77281951904297,
          40.75098037719727,
          40.77329635620117,
          40.77626037597656,
          40.730079650878906,
          40.77017974853516,
          40.74629211425781,
          40.78901672363281,
          40.76173782348633,
          40.75713348388672,
          40.77508163452149,
          40.750099182128906,
          40.750431060791016,
          40.74531173706055,
          40.74747848510742,
          40.76073455810547,
          40.73000717163085,
          40.76681137084961,
          40.75624847412109,
          40.74018096923828,
          40.72500228881836,
          40.7204704284668,
          40.77609634399415,
          40.764251708984375,
          40.6471061706543,
          40.746448516845696,
          40.75522994995117,
          40.7483787536621,
          40.76529693603516,
          40.75946807861328,
          40.71392059326172,
          40.75540542602539,
          40.79122161865234,
          40.795276641845696,
          40.757190704345696,
          40.78221130371094,
          40.75384140014648,
          40.67905044555664,
          40.727989196777344,
          40.7658805847168,
          40.75360870361328,
          40.74864959716797,
          40.7352409362793,
          40.74175262451172,
          40.72647857666016,
          40.72642517089844,
          40.74284744262695,
          40.814884185791016,
          40.78153610229492,
          40.78993606567383,
          40.73086166381836,
          40.80665969848633,
          40.734317779541016,
          40.74877548217773,
          40.77937316894531,
          40.76554489135742,
          40.74834060668945,
          40.740760803222656,
          40.73710632324219,
          40.73311996459961,
          40.751461029052734,
          40.76707077026367,
          40.74253463745117,
          40.73686599731445,
          40.784194946289055,
          40.77787780761719,
          40.71527862548828,
          40.73519134521485,
          40.73723602294922,
          40.766868591308594,
          40.746978759765625,
          40.72538757324219,
          40.72454833984375,
          40.78419876098633,
          40.75301361083984,
          40.762691497802734,
          40.74106979370117,
          40.76256561279297,
          40.7758674621582,
          40.734352111816406,
          40.78341293334961,
          40.76004409790039,
          40.74399566650391,
          40.82503128051758,
          40.82101821899415,
          40.73244094848633,
          40.77637100219727,
          40.78492736816406,
          40.74132919311523,
          40.72337341308594,
          40.77896881103516,
          40.75105285644531,
          40.75776290893555,
          40.76079559326172,
          40.73817825317383,
          40.73902130126953,
          40.75557327270508,
          40.75775909423828,
          40.76570892333984,
          40.738105773925774,
          40.7499885559082,
          40.74121856689453,
          40.74978637695313,
          40.73722839355469,
          40.73183822631836,
          40.78249740600585,
          40.750091552734375,
          40.76073455810547,
          40.72501373291016,
          40.766597747802734,
          40.73359680175781,
          40.73751831054688,
          40.70608139038085,
          40.76536178588867,
          40.72581100463867,
          40.72087097167969,
          40.77507400512695,
          40.72286605834961,
          40.76562881469727,
          40.75899505615234,
          40.76784896850585,
          40.79109954833984,
          40.73851013183594,
          40.7928581237793,
          40.776145935058594,
          40.79292297363281,
          40.75115203857422,
          40.74980163574219,
          40.727821350097656,
          40.74982070922852,
          40.77406311035156,
          40.718936920166016,
          40.7500228881836,
          40.7659912109375,
          40.739688873291016,
          40.752349853515625,
          40.7867317199707,
          40.78129959106445,
          40.7262077331543,
          40.736629486083984,
          40.76956558227539,
          40.741310119628906,
          40.7258186340332,
          40.769229888916016,
          40.72930145263672,
          40.80440139770508,
          40.78974151611328,
          40.74570846557617,
          40.75558090209961,
          40.76165390014648,
          40.703086853027344,
          40.73122024536133,
          40.74663543701172,
          40.768741607666016,
          40.70557022094727,
          40.75849914550781,
          40.76493835449219,
          40.70930099487305,
          40.771183013916016,
          40.75626373291016,
          40.77047348022461,
          40.76237869262695,
          40.78014373779297,
          40.7596435546875,
          40.72555160522461,
          40.74412536621094,
          40.72145462036133,
          40.76089859008789,
          40.77297973632813,
          40.64856338500977,
          40.754638671875,
          40.73435592651367,
          40.72176742553711,
          40.7407341003418,
          40.77712631225585,
          40.77801513671875,
          40.75482177734375,
          40.74114227294922,
          40.7258415222168,
          40.75673675537109,
          40.64150619506836,
          40.74493789672852,
          40.7499885559082,
          40.73206329345703,
          40.758399963378906,
          40.733978271484375,
          40.77127075195313,
          40.76807022094727
         ],
         "legendgroup": "",
         "lon": [
          -73.9510726928711,
          -73.97028350830078,
          -73.97728729248048,
          -73.96394348144531,
          -73.95214080810547,
          -73.98933410644531,
          -73.98538208007811,
          -73.9698715209961,
          -73.97246551513672,
          -73.9608154296875,
          -73.97354888916014,
          -73.98402404785155,
          -73.98814392089844,
          -74.00868225097656,
          -73.9933090209961,
          -73.96292877197266,
          -73.97598266601562,
          -73.96610260009766,
          -73.9603500366211,
          -73.98035430908203,
          -73.89263916015625,
          -73.7824478149414,
          -73.98410797119139,
          -73.97750854492188,
          -73.96405029296875,
          -73.95467376708984,
          -73.99474334716798,
          -73.95132446289062,
          -73.9713592529297,
          -73.84082794189453,
          -74.00528717041014,
          -73.9671173095703,
          -74.00469207763672,
          -73.78218841552734,
          -73.96700286865234,
          -73.9678726196289,
          -73.97396850585938,
          -73.98798370361328,
          -74.0067367553711,
          -73.99353790283203,
          -73.98907470703125,
          -74.00093078613281,
          -73.96479797363281,
          -73.99794006347656,
          -73.98329162597656,
          -73.98238372802734,
          -74.00713348388672,
          -73.96932220458984,
          -73.98220825195312,
          -73.95545196533203,
          -73.97244262695312,
          -73.9890365600586,
          -73.99171447753906,
          -73.97200775146483,
          -73.98302459716798,
          -73.9781951904297,
          -73.93125915527342,
          -73.97990417480467,
          -73.98966217041014,
          -74.00814056396483,
          -73.94779205322266,
          -73.99212646484375,
          -73.98308563232422,
          -74.00718688964845,
          -73.96488189697266,
          -73.99415588378906,
          -73.98812103271484,
          -73.9893569946289,
          -73.99150848388672,
          -73.98367309570312,
          -73.97648620605469,
          -73.98921966552734,
          -73.96584320068358,
          -74.01299285888672,
          -74.01287078857422,
          -73.9999771118164,
          -73.96513366699219,
          -74.0074691772461,
          -73.95532989501955,
          -73.9678726196289,
          -74.00298309326173,
          -73.990966796875,
          -73.95952606201173,
          -73.97464752197266,
          -73.98927307128906,
          -73.9674530029297,
          -73.99462890625,
          -73.98020172119139,
          -73.992919921875,
          -73.98350524902342,
          -73.97057342529298,
          -73.97179412841797,
          -73.98284912109375,
          -73.9681167602539,
          -73.96199798583984,
          -73.9728775024414,
          -73.9799575805664,
          -73.98797607421875,
          -73.96666717529298,
          -73.95781707763672,
          -73.95500946044923,
          -73.97905731201173,
          -73.96244049072266,
          -74.0018310546875,
          -73.98336029052734,
          -73.96713256835938,
          -73.99824523925781,
          -73.99935913085938,
          -73.98309326171875,
          -73.98072052001955,
          -73.98052978515625,
          -73.99051666259766,
          -73.99420166015625,
          -74.01528930664062,
          -73.95196533203125,
          -73.873046875,
          -73.96001434326173,
          -74.00537109375,
          -73.95379638671875,
          -73.97095489501955,
          -73.97624969482422,
          -73.95319366455078,
          -73.98553466796875,
          -73.98926544189453,
          -73.95674896240234,
          -73.96871948242188,
          -73.97264862060547,
          -74.0041732788086,
          -74.01360321044923,
          -73.96723937988281,
          -73.97673797607422,
          -73.94049835205078,
          -73.9584732055664,
          -73.95651245117188,
          -73.98626708984375,
          -73.94707489013672,
          -73.97527313232422,
          -73.96560668945312,
          -73.99372863769531,
          -73.97434997558594,
          -73.99803161621094,
          -73.95288848876955,
          -73.9788360595703,
          -73.97421264648438,
          -73.98065948486328,
          -73.99945068359375,
          -73.95853424072266,
          -73.9876251220703,
          -73.99150848388672,
          -73.97374725341797,
          -73.9791717529297,
          -73.95472717285155,
          -74.01570892333984,
          -73.99691009521484,
          -73.98695373535155,
          -73.9872055053711,
          -73.96644592285155,
          -73.86373901367188,
          -73.98799896240234,
          -73.98252868652342,
          -73.94788360595702,
          -73.95796966552734,
          -73.98739624023438,
          -73.96434020996094,
          -73.96226501464845,
          -73.98894500732422,
          -73.98184204101562,
          -73.9581298828125,
          -74.00286102294923,
          -74.00074768066406,
          -73.98983764648438,
          -73.87445068359375,
          -73.96515655517578,
          -73.9822006225586,
          -74.00547790527344,
          -73.9695816040039,
          -73.98224639892578,
          -74.00634765625,
          -73.99048614501955,
          -73.99049377441406,
          -73.98338317871094,
          -73.95195770263672,
          -73.98820495605469,
          -73.98436737060547,
          -73.994384765625,
          -73.97175598144531,
          -73.9764633178711,
          -73.95967102050781,
          -73.96222686767578,
          -74.00236511230467,
          -73.97570037841797,
          -73.8663330078125,
          -74.0115966796875,
          -73.95578002929686,
          -73.97018432617188,
          -73.97904968261719,
          -73.98712921142578,
          -73.96537780761719,
          -73.98165130615234,
          -73.99226379394531,
          -73.98320770263672,
          -74.0027847290039,
          -73.98064422607422,
          -73.99319458007811,
          -73.9664764404297,
          -73.95355224609375,
          -73.9682083129883,
          -74.01174926757811,
          -73.98824310302734,
          -73.87100219726562,
          -73.95297241210938,
          -73.99221038818358,
          -73.98145294189453,
          -73.98358917236328,
          -73.98454284667969,
          -73.98786163330078,
          -73.96681213378906,
          -73.95465087890625,
          -73.99366760253906,
          -73.98290252685547,
          -73.87445068359375,
          -73.99227905273438,
          -73.96794891357422,
          -73.99359130859375,
          -73.9742431640625,
          -74.00299072265625,
          -73.98944091796875,
          -73.98738098144531,
          -73.9971694946289,
          -73.9671173095703,
          -73.95079040527342,
          -73.98213195800781,
          -73.99105834960938,
          -74.00271606445312,
          -73.97494506835938,
          -73.98390960693358,
          -73.99359130859375,
          -73.98460388183594,
          -73.96466827392578,
          -73.9787826538086,
          -73.9740676879883,
          -73.9837417602539,
          -73.98802947998048,
          -73.97522735595702,
          -74.00853729248048,
          -74.01722717285155,
          -73.95336151123048,
          -73.99465179443358,
          -73.98514556884766,
          -73.98038482666014,
          -73.97702026367188,
          -73.98879241943358,
          -73.94622039794923,
          -73.9968490600586,
          -73.77666473388672,
          -74.00426483154298,
          -73.96036529541014,
          -73.9853515625,
          -73.98906707763672,
          -74.0064468383789,
          -73.98428344726562,
          -73.98947143554686,
          -74.0178985595703,
          -73.97772979736328,
          -73.9890899658203,
          -73.97855377197266,
          -73.95607757568358,
          -73.96040344238281,
          -73.78858947753906,
          -73.99959564208984,
          -73.97784423828125,
          -73.99122619628906,
          -73.96019744873048,
          -73.9779281616211,
          -74,
          -74.00508880615234,
          -73.9659423828125,
          -73.98098754882812,
          -73.97808074951173,
          -73.99368286132812,
          -73.98497772216798,
          -73.96877288818358,
          -73.98690795898438,
          -73.9927978515625,
          -73.99797821044923,
          -73.98139953613281,
          -74.0116195678711,
          -73.98844909667969,
          -73.98300170898438,
          -73.98173522949219,
          -73.9713134765625,
          -73.98829650878906,
          -74.00261688232422,
          -73.97772979736328,
          -73.98857879638672,
          -73.96262359619139,
          -73.99242401123048,
          -73.97891235351562,
          -73.86272430419923,
          -73.9893798828125,
          -73.97013092041014,
          -73.9355926513672,
          -73.92180633544923,
          -74.00802612304686,
          -73.97183227539062,
          -73.98919677734375,
          -73.94780731201173,
          -73.99394989013672,
          -73.95928192138672,
          -73.97902679443358,
          -73.98932647705078,
          -73.95664978027344,
          -73.9666748046875,
          -73.97860717773438,
          -74.0074234008789,
          -73.97271728515625,
          -73.97777557373048,
          -73.98104858398438,
          -73.95496368408203,
          -73.97954559326173,
          -74.00543212890625,
          -73.98696899414062,
          -73.98966979980467,
          -73.94082641601562,
          -73.96793365478516,
          -73.98677825927734,
          -74.00414276123048,
          -73.98182678222656,
          -73.98470306396483,
          -73.99162292480467,
          -73.9450912475586,
          -73.99165344238281,
          -73.96704864501955,
          -73.9126968383789,
          -73.98164367675781,
          -73.97508239746094,
          -73.99064636230467,
          -73.97848510742188,
          -73.97250366210938,
          -73.9966812133789,
          -73.9976577758789,
          -74.0057601928711,
          -73.98075103759766,
          -73.9774169921875,
          -73.9612579345703,
          -73.9847412109375,
          -73.989013671875,
          -73.99654388427734,
          -73.98999786376955,
          -73.98709869384766,
          -73.98139953613281,
          -73.9730224609375,
          -73.96937561035155,
          -74.00658416748048,
          -73.98239135742188,
          -74.00719451904298,
          -73.95491790771484,
          -73.98213195800781,
          -73.96804809570312,
          -73.98786163330078,
          -73.9811019897461,
          -73.98837280273438,
          -73.98162841796875,
          -73.98175048828125,
          -73.9787368774414,
          -73.96792602539062,
          -73.96861267089844,
          -73.9527816772461,
          -73.90498352050781,
          -73.99768829345702,
          -73.98900604248048,
          -74.01458740234375,
          -73.96791076660156,
          -73.8709487915039,
          -73.95307159423827,
          -73.98973846435547,
          -73.98846435546875,
          -73.99237060546875,
          -73.99620056152342,
          -74.00138854980467,
          -73.99000549316406,
          -73.98746490478516,
          -73.95301055908203,
          -73.98707580566406,
          -74.01242065429686,
          -73.98499298095702,
          -73.94808197021484,
          -73.79054260253906,
          -73.98726654052734,
          -73.956298828125,
          -73.97416687011719,
          -73.99181365966798,
          -73.97827911376955,
          -73.99042510986328,
          -73.94412231445312,
          -73.97177124023438,
          -73.96922302246094,
          -73.94845581054686,
          -74.01398468017578,
          -73.9679946899414,
          -73.99777984619139,
          -73.98910522460938,
          -73.99408721923827,
          -73.9180145263672,
          -73.98438262939453,
          -73.98207092285155,
          -73.9920425415039,
          -73.97640991210938,
          -73.97645568847656,
          -73.98400115966798,
          -73.9730911254883,
          -73.97843170166014,
          -73.97816467285155,
          -73.9925537109375,
          -73.97339630126955,
          -74.01258850097656,
          -73.9525375366211,
          -73.97821807861328,
          -73.99442291259766,
          -73.9997787475586,
          -73.98514556884766,
          -73.9835205078125,
          -73.98822784423827,
          -73.9708480834961,
          -73.9857864379883,
          -73.97889709472656,
          -73.97606658935547,
          -73.99162292480467,
          -73.98895263671875,
          -73.94489288330078,
          -73.9812774658203,
          -74.01258087158203,
          -73.97391510009766,
          -73.96682739257811,
          -73.9474105834961,
          -73.98925018310547,
          -73.99187469482422,
          -73.95375061035155,
          -73.97239685058595,
          -73.96615600585938,
          -73.99735260009766,
          -73.99059295654298,
          -73.9745864868164,
          -73.95347595214845,
          -73.9661407470703,
          -73.9738540649414,
          -73.99322509765625,
          -73.98503875732422,
          -73.95384979248048,
          -74.00701904296875,
          -73.99560546875,
          -73.97828674316406,
          -73.99656677246094,
          -73.95108795166014,
          -73.95359802246094,
          -73.9729232788086,
          -73.98462677001955,
          -73.9957504272461,
          -73.96848297119139,
          -73.98481750488281,
          -73.97224426269531,
          -73.98739624023438,
          -73.95880889892578,
          -73.9920196533203,
          -73.96699523925781,
          -73.97158813476562,
          -73.98192596435547,
          -73.96484375,
          -73.98384857177734,
          -73.96367645263672,
          -73.78863525390625,
          -74.00840759277344,
          -73.9890365600586,
          -73.98175048828125,
          -73.98432922363281,
          -73.9753646850586,
          -73.98873138427734,
          -73.77677917480467,
          -73.96247863769531,
          -73.98150634765625,
          -74.00122833251955,
          -73.98440551757811,
          -73.97489166259766,
          -74.00930786132812,
          -73.99063873291014,
          -73.96656036376955,
          -74.00791931152342,
          -73.9856948852539,
          -73.96575164794923,
          -73.78836822509766,
          -73.98809051513672,
          -73.94580841064453,
          -73.95330810546875,
          -74.01048278808594,
          -74.00213623046875,
          -73.98169708251955,
          -74.0090103149414,
          -74.00313568115234,
          -73.9859619140625,
          -73.98795318603516,
          -73.78963470458984,
          -74.00670623779298,
          -73.95913696289062,
          -74.0068130493164,
          -73.87498474121094,
          -73.96569061279298,
          -73.99150848388672,
          -73.98035430908203,
          -73.87091064453125,
          -73.98109436035155,
          -73.96038818359375,
          -73.9465103149414,
          -73.98370361328125,
          -73.98228454589844,
          -74.00709533691406,
          -73.94609832763672,
          -73.98023223876955,
          -74.00859069824219,
          -73.97418975830078,
          -73.9652328491211,
          -73.97296905517578,
          -73.9817886352539,
          -73.98606109619139,
          -73.97870635986328,
          -73.98396301269531,
          -73.98777770996094,
          -73.94879913330078,
          -73.96262359619139,
          -73.9535903930664,
          -73.9605712890625,
          -74.00772857666014,
          -73.96067047119139,
          -73.98976135253906,
          -73.98763275146483,
          -74.00450897216798,
          -73.95970153808595,
          -73.96630859375,
          -73.9844207763672,
          -73.95381927490234,
          -73.98036193847656,
          -73.98394012451173,
          -74.00575256347656,
          -73.99095153808595,
          -73.98831176757811,
          -73.98560333251955,
          -74.0111770629883,
          -73.98817443847656,
          -73.86590576171875,
          -74.0033187866211,
          -73.99144744873048,
          -73.95651245117188,
          -73.97969055175781,
          -73.98037719726562,
          -73.99105834960938,
          -73.98219299316406,
          -73.99462890625,
          -73.99195098876955,
          -73.99249267578125,
          -73.98551177978516,
          -74.00442504882812,
          -73.88532257080078,
          -73.99205017089844,
          -73.98088836669923,
          -73.99642181396483,
          -73.77676391601562,
          -74.00518035888672,
          -73.97325134277344,
          -73.9823226928711,
          -73.98409271240234,
          -73.9542465209961,
          -73.98451232910156,
          -73.96953582763672,
          -73.97415924072266,
          -73.98282623291014,
          -73.97789764404298,
          -74.00059509277344,
          -73.98712158203125,
          -73.97805786132812,
          -73.96861267089844,
          -73.9837188720703,
          -73.95306396484375,
          -73.99263000488281,
          -73.98567962646483,
          -73.98365020751955,
          -73.9796371459961,
          -73.98056030273438,
          -73.97747039794923,
          -74.01387786865234,
          -73.96666717529298,
          -74.00467681884766,
          -73.99199676513672,
          -73.9970703125,
          -73.78189849853516,
          -73.9892578125,
          -73.99285125732422,
          -73.95967102050781,
          -74.00558471679686,
          -73.98138427734375,
          -73.96219635009766,
          -73.98249053955078,
          -73.9917984008789,
          -73.9881820678711,
          -73.99842834472656,
          -73.97197723388672,
          -73.99127960205078,
          -73.95405578613281,
          -73.98998260498048,
          -73.95481872558594,
          -73.98094177246094,
          -73.97754669189453,
          -73.9720001220703,
          -73.99118041992188,
          -73.977783203125,
          -73.98357391357422,
          -73.95861053466798,
          -73.95806884765625,
          -73.98282623291014,
          -73.96141815185547,
          -73.98539733886719,
          -73.98568725585938,
          -73.7805938720703,
          -73.959228515625,
          -73.87308502197266,
          -73.9915313720703,
          -73.98003387451173,
          -73.96089172363281,
          -73.99317932128906,
          -73.97803497314453,
          -73.97787475585938,
          -74.0091781616211,
          -73.9388656616211,
          -73.98146820068358,
          -73.96408081054686,
          -73.99961853027342,
          -73.98270416259766,
          -73.99309539794923,
          -73.98800659179686,
          -74.0000457763672,
          -73.95406341552734,
          -73.97753143310547,
          -73.9837646484375,
          -73.99002075195312,
          -73.98533630371094,
          -73.97075653076173,
          -73.9990234375,
          -73.9875259399414,
          -73.99008178710938,
          -73.96556854248048,
          -73.97631072998048,
          -73.97109985351562,
          -73.9632797241211,
          -73.96856689453125,
          -74.00218963623048,
          -73.98558044433594,
          -73.9834976196289,
          -73.9792709350586,
          -73.98334503173827,
          -73.98502349853516,
          -73.98958587646483,
          -73.98814392089844,
          -73.99156951904298,
          -73.98038482666014,
          -73.98996734619139,
          -73.99073791503906,
          -74.00582122802734,
          -74.00243377685547,
          -73.78348541259766,
          -73.98667907714845,
          -73.95355224609375,
          -73.98877716064453,
          -73.98438262939453,
          -74.00361633300781,
          -73.97821807861328,
          -74.01658630371094,
          -73.99027252197266,
          -73.99165344238281,
          -73.87418365478516,
          -73.97093963623048,
          -73.98444366455078,
          -73.86370086669923,
          -73.97405242919923,
          -73.96852111816406,
          -73.9788360595703,
          -73.96862030029298,
          -73.96251678466798,
          -73.99005889892578,
          -74.00263214111328,
          -73.87080383300781,
          -73.86383056640625,
          -73.98340606689453,
          -73.99378967285155,
          -73.97238922119139,
          -73.92540740966798,
          -73.99214935302734,
          -73.95895385742188,
          -73.95804595947266,
          -73.9966812133789,
          -74.00155639648438,
          -73.95513153076173,
          -73.98818969726562,
          -73.98770904541014,
          -73.99655151367188,
          -73.97195434570312,
          -73.99088287353516,
          -73.99842834472656,
          -73.99005126953125,
          -73.98631286621094,
          -73.9785614013672,
          -73.98444366455078,
          -73.9779052734375,
          -73.9850082397461,
          -73.98234558105469,
          -73.96983337402342,
          -73.987060546875,
          -73.9678726196289,
          -73.98863220214844,
          -73.99681854248048,
          -73.99300384521484,
          -73.79029083251955,
          -73.98287963867188,
          -73.99251556396483,
          -73.78182983398438,
          -73.97492218017578,
          -73.97154235839844,
          -73.97941589355469,
          -74.00994873046875,
          -73.99556732177734,
          -73.98886108398438,
          -73.96712493896483,
          -73.970703125,
          -73.95537567138672,
          -73.96466064453125,
          -73.9505844116211,
          -73.99626922607422,
          -73.99403381347656,
          -73.98893737792969,
          -74.00056457519531,
          -73.95850372314453,
          -73.99330139160156,
          -74.00025939941406,
          -73.9817886352539,
          -73.98744201660156,
          -73.98169708251955,
          -73.9864273071289,
          -73.78997039794923,
          -73.97864532470702,
          -73.95431518554686,
          -73.96575164794923,
          -73.98223876953125,
          -73.97846984863281,
          -73.99334716796875,
          -73.98600006103516,
          -73.97209167480467,
          -73.95068359375,
          -73.9845962524414,
          -73.98341369628906,
          -73.99481201171875,
          -73.95556640625,
          -73.99089813232422,
          -73.95109558105469,
          -73.99606323242188,
          -73.93257904052734,
          -73.9912567138672,
          -73.99151611328125,
          -74.0061264038086,
          -74.01708221435547,
          -73.98294067382812,
          -73.98117065429686,
          -73.95545196533203,
          -73.95355224609375,
          -73.96233367919923,
          -74.00688934326173,
          -73.99079132080078,
          -74.00045776367188,
          -73.9786605834961,
          -74.01471710205078,
          -73.9940414428711,
          -73.97925567626955,
          -74.00305938720702,
          -73.97953033447266,
          -73.96429443359375,
          -73.99674987792969,
          -73.96434783935547,
          -73.97203826904298,
          -73.9935073852539,
          -73.97650146484375,
          -74.01134490966798,
          -73.95570373535155,
          -73.99063110351562,
          -73.97760009765625,
          -73.97212982177734,
          -74.0015869140625,
          -73.98491668701173,
          -74.00052642822266,
          -73.97799682617188,
          -73.96746826171875,
          -73.96996307373048,
          -73.98150634765625,
          -73.98827362060547,
          -73.99462890625,
          -73.99208068847656,
          -73.95809936523438,
          -73.99102020263672,
          -73.9600601196289,
          -73.98625946044923,
          -73.9918212890625,
          -73.99469757080078,
          -73.98710632324219,
          -73.9696044921875,
          -73.9704818725586,
          -74.00847625732422,
          -73.99224853515625,
          -73.9583740234375,
          -73.99642944335938,
          -73.95488739013672,
          -73.97962951660156,
          -73.9834976196289,
          -73.95132446289062,
          -74.00518798828125,
          -73.97753143310547,
          -73.97077178955078,
          -73.96267700195312,
          -73.95906066894531,
          -74.00253295898438,
          -73.99127197265625,
          -73.97681427001955,
          -73.98954772949219,
          -73.9911117553711,
          -73.97940063476562,
          -73.5263671875,
          -73.98958587646483,
          -73.99046325683594,
          -73.98722076416014,
          -73.97846221923827,
          -73.98738098144531,
          -73.97384643554686,
          -73.789306640625,
          -73.99395751953125,
          -73.9920425415039,
          -73.97821044921875,
          -73.975341796875,
          -73.9768295288086,
          -73.93292236328125,
          -73.98680114746094,
          -73.94197845458984,
          -73.93914031982422,
          -73.98224639892578,
          -73.97879791259766,
          -73.96614837646483,
          -73.98208618164062,
          -74.00000762939453,
          -73.98731231689453,
          -73.9888916015625,
          -73.9754409790039,
          -73.97964477539062,
          -73.97481536865234,
          -73.9919662475586,
          -74.0003433227539,
          -74.00758361816406,
          -73.94259643554686,
          -73.95811462402342,
          -73.97308349609375,
          -73.99140167236328,
          -73.96122741699219,
          -73.98910522460938,
          -73.98881530761719,
          -73.94773864746094,
          -73.97607421875,
          -73.9853286743164,
          -74.0077133178711,
          -73.98834228515625,
          -73.98725891113281,
          -73.99416351318358,
          -73.9544219970703,
          -73.98048400878906,
          -73.978271484375,
          -73.95636749267578,
          -73.94771575927734,
          -74.0081329345703,
          -73.99166870117188,
          -73.99268341064453,
          -73.96704864501955,
          -73.9854736328125,
          -73.9963150024414,
          -73.98757934570312,
          -73.981201171875,
          -73.97296905517578,
          -73.9658203125,
          -73.98564910888672,
          -73.97434997558594,
          -73.9763412475586,
          -73.99083709716798,
          -73.98040008544923,
          -73.98066711425781,
          -73.9815902709961,
          -73.95166015625,
          -73.95449829101562,
          -73.9869384765625,
          -73.9759292602539,
          -73.95596313476562,
          -73.98531341552734,
          -73.98258972167969,
          -73.95574951171875,
          -73.98049163818358,
          -73.97171020507811,
          -73.96430969238281,
          -73.98390197753906,
          -73.98982238769531,
          -73.97087097167969,
          -73.97808837890625,
          -73.95465850830078,
          -73.99636840820312,
          -73.99161529541014,
          -73.99412536621094,
          -73.99161529541014,
          -73.9886016845703,
          -73.982177734375,
          -73.97148132324219,
          -73.99102020263672,
          -73.97608184814453,
          -74.00453186035155,
          -73.98653411865234,
          -73.99056243896483,
          -73.99134826660156,
          -73.95955657958984,
          -73.9825439453125,
          -73.99195098876955,
          -74.0050277709961,
          -73.96287536621094,
          -73.99687194824219,
          -73.98017120361328,
          -73.97077178955078,
          -73.98294067382812,
          -73.96905517578125,
          -73.98857879638672,
          -73.96505737304686,
          -73.94995880126955,
          -73.96765899658203,
          -73.99414825439453,
          -73.99360656738281,
          -73.99109649658203,
          -73.97222137451173,
          -73.98868560791014,
          -73.98991394042969,
          -73.9916458129883,
          -73.96543884277344,
          -73.98593139648438,
          -73.97834014892578,
          -73.97244262695312,
          -73.95628356933594,
          -73.98334503173827,
          -73.98184204101562,
          -73.86346435546875,
          -74.00804901123048,
          -73.98352813720702,
          -73.96727752685547,
          -74.00704193115234,
          -73.96683502197266,
          -73.9525375366211,
          -73.98015594482422,
          -73.9909896850586,
          -73.96624755859375,
          -74.01058197021484,
          -73.98876190185547,
          -73.98571014404298,
          -73.96796417236328,
          -74.00749969482422,
          -73.98493957519531,
          -73.9682083129883,
          -74.01183319091797,
          -73.9566421508789,
          -73.9744644165039,
          -73.99156188964845,
          -73.97028350830078,
          -73.95724487304686,
          -73.99124145507811,
          -74.00553894042969,
          -74.0064926147461,
          -73.98909759521484,
          -73.97132110595702,
          -73.96452331542969,
          -73.78321838378906,
          -73.97141265869139,
          -73.98356628417969,
          -73.98445892333984,
          -74.00545501708984,
          -73.97835540771484,
          -73.98200225830078,
          -73.98509216308595,
          -73.98465728759766,
          -74.00788116455078,
          -73.97437286376955,
          -73.78792572021484,
          -73.9924087524414,
          -73.98766326904298,
          -73.98512268066406,
          -73.99864959716798,
          -73.99527740478516,
          -73.98693084716798,
          -73.95655059814453
         ],
         "marker": {
          "color": [
           1,
           1,
           6,
           1,
           1,
           1,
           1,
           1,
           1,
           1,
           2,
           1,
           1,
           4,
           1,
           2,
           1,
           6,
           1,
           1,
           2,
           1,
           6,
           2,
           1,
           5,
           1,
           1,
           1,
           6,
           1,
           1,
           1,
           1,
           2,
           2,
           1,
           1,
           1,
           1,
           1,
           1,
           1,
           1,
           4,
           1,
           6,
           1,
           1,
           1,
           1,
           1,
           1,
           1,
           1,
           1,
           1,
           1,
           1,
           1,
           1,
           1,
           1,
           1,
           2,
           1,
           5,
           1,
           1,
           1,
           2,
           1,
           1,
           1,
           1,
           1,
           1,
           1,
           1,
           1,
           2,
           1,
           2,
           1,
           1,
           2,
           1,
           1,
           2,
           1,
           1,
           4,
           2,
           1,
           1,
           6,
           1,
           2,
           1,
           1,
           2,
           2,
           1,
           2,
           1,
           3,
           1,
           1,
           1,
           1,
           1,
           1,
           5,
           5,
           1,
           1,
           1,
           2,
           1,
           1,
           1,
           1,
           1,
           5,
           1,
           2,
           1,
           1,
           2,
           2,
           1,
           1,
           1,
           1,
           1,
           1,
           1,
           1,
           1,
           1,
           1,
           6,
           1,
           1,
           1,
           1,
           1,
           1,
           1,
           1,
           2,
           1,
           1,
           1,
           1,
           4,
           1,
           1,
           2,
           1,
           6,
           1,
           2,
           3,
           2,
           1,
           1,
           5,
           1,
           1,
           2,
           1,
           1,
           2,
           1,
           1,
           3,
           1,
           1,
           3,
           2,
           1,
           1,
           2,
           1,
           1,
           1,
           1,
           1,
           4,
           1,
           4,
           1,
           1,
           2,
           3,
           1,
           1,
           1,
           1,
           1,
           2,
           1,
           1,
           1,
           1,
           1,
           1,
           3,
           1,
           1,
           1,
           1,
           1,
           1,
           1,
           1,
           6,
           1,
           2,
           5,
           1,
           1,
           2,
           1,
           1,
           1,
           1,
           1,
           2,
           5,
           1,
           1,
           1,
           1,
           1,
           6,
           5,
           1,
           1,
           1,
           1,
           2,
           1,
           1,
           3,
           2,
           2,
           2,
           1,
           1,
           1,
           2,
           1,
           1,
           1,
           1,
           1,
           1,
           2,
           1,
           1,
           1,
           1,
           1,
           1,
           1,
           2,
           1,
           5,
           1,
           1,
           1,
           1,
           1,
           1,
           1,
           1,
           5,
           2,
           1,
           1,
           1,
           1,
           3,
           3,
           3,
           2,
           1,
           1,
           1,
           1,
           2,
           2,
           1,
           1,
           1,
           1,
           1,
           1,
           1,
           1,
           1,
           1,
           1,
           1,
           1,
           2,
           1,
           1,
           1,
           3,
           1,
           2,
           2,
           4,
           1,
           1,
           1,
           1,
           1,
           2,
           1,
           1,
           1,
           1,
           1,
           5,
           1,
           3,
           1,
           6,
           1,
           1,
           3,
           3,
           1,
           1,
           1,
           2,
           2,
           1,
           1,
           1,
           1,
           2,
           2,
           1,
           4,
           1,
           5,
           1,
           1,
           1,
           1,
           1,
           1,
           2,
           4,
           3,
           1,
           1,
           2,
           1,
           1,
           1,
           1,
           1,
           1,
           1,
           1,
           1,
           6,
           1,
           3,
           1,
           2,
           1,
           1,
           1,
           2,
           5,
           1,
           1,
           2,
           5,
           2,
           1,
           2,
           1,
           2,
           1,
           1,
           5,
           1,
           1,
           1,
           1,
           2,
           1,
           1,
           1,
           2,
           1,
           2,
           1,
           2,
           1,
           6,
           1,
           1,
           1,
           2,
           1,
           1,
           1,
           1,
           1,
           2,
           1,
           2,
           1,
           1,
           1,
           1,
           1,
           1,
           1,
           5,
           1,
           1,
           1,
           1,
           1,
           1,
           1,
           1,
           3,
           2,
           1,
           1,
           2,
           6,
           1,
           4,
           4,
           1,
           1,
           1,
           1,
           3,
           1,
           1,
           1,
           5,
           1,
           2,
           2,
           2,
           1,
           1,
           1,
           1,
           2,
           1,
           2,
           2,
           6,
           2,
           1,
           1,
           1,
           1,
           2,
           1,
           1,
           1,
           6,
           1,
           1,
           1,
           4,
           1,
           1,
           1,
           1,
           3,
           1,
           1,
           1,
           1,
           6,
           2,
           2,
           2,
           1,
           1,
           1,
           1,
           4,
           1,
           1,
           5,
           1,
           1,
           4,
           1,
           6,
           1,
           3,
           5,
           1,
           1,
           1,
           1,
           1,
           1,
           2,
           1,
           1,
           1,
           1,
           1,
           1,
           1,
           4,
           1,
           2,
           1,
           1,
           2,
           1,
           1,
           1,
           1,
           3,
           2,
           2,
           1,
           1,
           1,
           5,
           1,
           2,
           1,
           1,
           1,
           1,
           1,
           4,
           3,
           1,
           2,
           3,
           1,
           1,
           1,
           1,
           2,
           1,
           2,
           1,
           1,
           6,
           1,
           5,
           1,
           1,
           2,
           1,
           1,
           5,
           1,
           6,
           1,
           2,
           1,
           1,
           1,
           1,
           1,
           1,
           1,
           1,
           1,
           2,
           1,
           2,
           1,
           1,
           1,
           1,
           1,
           1,
           3,
           1,
           1,
           1,
           3,
           1,
           1,
           1,
           1,
           1,
           2,
           1,
           1,
           1,
           1,
           3,
           1,
           1,
           1,
           2,
           2,
           6,
           1,
           2,
           6,
           2,
           2,
           1,
           1,
           2,
           1,
           1,
           1,
           1,
           1,
           1,
           1,
           1,
           1,
           4,
           1,
           3,
           3,
           1,
           2,
           6,
           1,
           1,
           1,
           1,
           1,
           1,
           1,
           1,
           1,
           1,
           1,
           1,
           1,
           1,
           2,
           1,
           4,
           1,
           1,
           1,
           1,
           1,
           3,
           5,
           1,
           4,
           1,
           1,
           1,
           2,
           2,
           2,
           1,
           5,
           1,
           1,
           2,
           2,
           1,
           1,
           1,
           1,
           1,
           1,
           4,
           1,
           1,
           1,
           5,
           1,
           1,
           1,
           1,
           1,
           2,
           1,
           1,
           1,
           3,
           1,
           1,
           1,
           1,
           1,
           1,
           2,
           1,
           1,
           1,
           2,
           1,
           3,
           1,
           1,
           2,
           1,
           1,
           1,
           1,
           1,
           1,
           1,
           1,
           1,
           1,
           2,
           2,
           1,
           1,
           1,
           1,
           2,
           1,
           1,
           2,
           1,
           1,
           1,
           1,
           1,
           1,
           2,
           4,
           1,
           1,
           1,
           3,
           6,
           1,
           1,
           2,
           1,
           1,
           1,
           1,
           1,
           2,
           2,
           1,
           1,
           1,
           5,
           1,
           5,
           1,
           4,
           1,
           2,
           2,
           4,
           1,
           1,
           1,
           2,
           1,
           1,
           1,
           1,
           2,
           2,
           1,
           1,
           1,
           1,
           1,
           1,
           1,
           1,
           1,
           2,
           1,
           3,
           1,
           1,
           1,
           6,
           4,
           1,
           1,
           1,
           1,
           1,
           4,
           1,
           1,
           2,
           1,
           1,
           5,
           5,
           1,
           1,
           2,
           1,
           1,
           1,
           2,
           2,
           1,
           1,
           3,
           1,
           1,
           1,
           1,
           5,
           1,
           5,
           5,
           1,
           1,
           1,
           1,
           1,
           1,
           1,
           1,
           1,
           1,
           1,
           1,
           1,
           1,
           2,
           5,
           1,
           1,
           3,
           2,
           1,
           4,
           1,
           4,
           1,
           1,
           5,
           1,
           1,
           1,
           1,
           1,
           1,
           1,
           5,
           1,
           2,
           1,
           2,
           3,
           6,
           1,
           1,
           1,
           1,
           1,
           1,
           1,
           1,
           2,
           1,
           1,
           2,
           1,
           1,
           2,
           1,
           1,
           1,
           1,
           1,
           3,
           1,
           1,
           1,
           1,
           1,
           1,
           1,
           2,
           1,
           1,
           1,
           3,
           1,
           3,
           1,
           6,
           5,
           1,
           1,
           1,
           1,
           6,
           1,
           6,
           1,
           2,
           1,
           1,
           1,
           1,
           2,
           1,
           3,
           1,
           1,
           2,
           1,
           1,
           1,
           1,
           1,
           1,
           2,
           1,
           1,
           2,
           1,
           1,
           1,
           5,
           1,
           1,
           1,
           1,
           1,
           2,
           1,
           1,
           2,
           2,
           5,
           5,
           1,
           1,
           1,
           1,
           1,
           1,
           2,
           2,
           1,
           1,
           4,
           1,
           1,
           1,
           1,
           1,
           1,
           1,
           1,
           1,
           2,
           1,
           1,
           1,
           1,
           4,
           1,
           1,
           1,
           1,
           1,
           1,
           1,
           5,
           1,
           1,
           5,
           1,
           5,
           1,
           1,
           1,
           1,
           1,
           2,
           6,
           1
          ],
          "coloraxis": "coloraxis"
         },
         "mode": "markers",
         "name": "",
         "showlegend": false,
         "subplot": "mapbox",
         "type": "scattermapbox"
        }
       ],
       "layout": {
        "autosize": true,
        "coloraxis": {
         "colorbar": {
          "title": {
           "text": "passenger_count"
          }
         },
         "colorscale": [
          [
           0,
           "#0d0887"
          ],
          [
           0.1111111111111111,
           "#46039f"
          ],
          [
           0.2222222222222222,
           "#7201a8"
          ],
          [
           0.3333333333333333,
           "#9c179e"
          ],
          [
           0.4444444444444444,
           "#bd3786"
          ],
          [
           0.5555555555555556,
           "#d8576b"
          ],
          [
           0.6666666666666666,
           "#ed7953"
          ],
          [
           0.7777777777777778,
           "#fb9f3a"
          ],
          [
           0.8888888888888888,
           "#fdca26"
          ],
          [
           1,
           "#f0f921"
          ]
         ]
        },
        "legend": {
         "tracegroupgap": 0
        },
        "mapbox": {
         "bearing": 0,
         "center": {
          "lat": 40.74353869427628,
          "lon": -73.97187427517952
         },
         "domain": {
          "x": [
           0,
           1
          ],
          "y": [
           0,
           1
          ]
         },
         "pitch": 0,
         "style": "open-street-map",
         "zoom": 11
        },
        "margin": {
         "b": 0,
         "l": 0,
         "r": 0,
         "t": 40
        },
        "template": {
         "data": {
          "bar": [
           {
            "error_x": {
             "color": "#2a3f5f"
            },
            "error_y": {
             "color": "#2a3f5f"
            },
            "marker": {
             "line": {
              "color": "#E5ECF6",
              "width": 0.5
             },
             "pattern": {
              "fillmode": "overlay",
              "size": 10,
              "solidity": 0.2
             }
            },
            "type": "bar"
           }
          ],
          "barpolar": [
           {
            "marker": {
             "line": {
              "color": "#E5ECF6",
              "width": 0.5
             },
             "pattern": {
              "fillmode": "overlay",
              "size": 10,
              "solidity": 0.2
             }
            },
            "type": "barpolar"
           }
          ],
          "carpet": [
           {
            "aaxis": {
             "endlinecolor": "#2a3f5f",
             "gridcolor": "white",
             "linecolor": "white",
             "minorgridcolor": "white",
             "startlinecolor": "#2a3f5f"
            },
            "baxis": {
             "endlinecolor": "#2a3f5f",
             "gridcolor": "white",
             "linecolor": "white",
             "minorgridcolor": "white",
             "startlinecolor": "#2a3f5f"
            },
            "type": "carpet"
           }
          ],
          "choropleth": [
           {
            "colorbar": {
             "outlinewidth": 0,
             "ticks": ""
            },
            "type": "choropleth"
           }
          ],
          "contour": [
           {
            "colorbar": {
             "outlinewidth": 0,
             "ticks": ""
            },
            "colorscale": [
             [
              0,
              "#0d0887"
             ],
             [
              0.1111111111111111,
              "#46039f"
             ],
             [
              0.2222222222222222,
              "#7201a8"
             ],
             [
              0.3333333333333333,
              "#9c179e"
             ],
             [
              0.4444444444444444,
              "#bd3786"
             ],
             [
              0.5555555555555556,
              "#d8576b"
             ],
             [
              0.6666666666666666,
              "#ed7953"
             ],
             [
              0.7777777777777778,
              "#fb9f3a"
             ],
             [
              0.8888888888888888,
              "#fdca26"
             ],
             [
              1,
              "#f0f921"
             ]
            ],
            "type": "contour"
           }
          ],
          "contourcarpet": [
           {
            "colorbar": {
             "outlinewidth": 0,
             "ticks": ""
            },
            "type": "contourcarpet"
           }
          ],
          "heatmap": [
           {
            "colorbar": {
             "outlinewidth": 0,
             "ticks": ""
            },
            "colorscale": [
             [
              0,
              "#0d0887"
             ],
             [
              0.1111111111111111,
              "#46039f"
             ],
             [
              0.2222222222222222,
              "#7201a8"
             ],
             [
              0.3333333333333333,
              "#9c179e"
             ],
             [
              0.4444444444444444,
              "#bd3786"
             ],
             [
              0.5555555555555556,
              "#d8576b"
             ],
             [
              0.6666666666666666,
              "#ed7953"
             ],
             [
              0.7777777777777778,
              "#fb9f3a"
             ],
             [
              0.8888888888888888,
              "#fdca26"
             ],
             [
              1,
              "#f0f921"
             ]
            ],
            "type": "heatmap"
           }
          ],
          "heatmapgl": [
           {
            "colorbar": {
             "outlinewidth": 0,
             "ticks": ""
            },
            "colorscale": [
             [
              0,
              "#0d0887"
             ],
             [
              0.1111111111111111,
              "#46039f"
             ],
             [
              0.2222222222222222,
              "#7201a8"
             ],
             [
              0.3333333333333333,
              "#9c179e"
             ],
             [
              0.4444444444444444,
              "#bd3786"
             ],
             [
              0.5555555555555556,
              "#d8576b"
             ],
             [
              0.6666666666666666,
              "#ed7953"
             ],
             [
              0.7777777777777778,
              "#fb9f3a"
             ],
             [
              0.8888888888888888,
              "#fdca26"
             ],
             [
              1,
              "#f0f921"
             ]
            ],
            "type": "heatmapgl"
           }
          ],
          "histogram": [
           {
            "marker": {
             "pattern": {
              "fillmode": "overlay",
              "size": 10,
              "solidity": 0.2
             }
            },
            "type": "histogram"
           }
          ],
          "histogram2d": [
           {
            "colorbar": {
             "outlinewidth": 0,
             "ticks": ""
            },
            "colorscale": [
             [
              0,
              "#0d0887"
             ],
             [
              0.1111111111111111,
              "#46039f"
             ],
             [
              0.2222222222222222,
              "#7201a8"
             ],
             [
              0.3333333333333333,
              "#9c179e"
             ],
             [
              0.4444444444444444,
              "#bd3786"
             ],
             [
              0.5555555555555556,
              "#d8576b"
             ],
             [
              0.6666666666666666,
              "#ed7953"
             ],
             [
              0.7777777777777778,
              "#fb9f3a"
             ],
             [
              0.8888888888888888,
              "#fdca26"
             ],
             [
              1,
              "#f0f921"
             ]
            ],
            "type": "histogram2d"
           }
          ],
          "histogram2dcontour": [
           {
            "colorbar": {
             "outlinewidth": 0,
             "ticks": ""
            },
            "colorscale": [
             [
              0,
              "#0d0887"
             ],
             [
              0.1111111111111111,
              "#46039f"
             ],
             [
              0.2222222222222222,
              "#7201a8"
             ],
             [
              0.3333333333333333,
              "#9c179e"
             ],
             [
              0.4444444444444444,
              "#bd3786"
             ],
             [
              0.5555555555555556,
              "#d8576b"
             ],
             [
              0.6666666666666666,
              "#ed7953"
             ],
             [
              0.7777777777777778,
              "#fb9f3a"
             ],
             [
              0.8888888888888888,
              "#fdca26"
             ],
             [
              1,
              "#f0f921"
             ]
            ],
            "type": "histogram2dcontour"
           }
          ],
          "mesh3d": [
           {
            "colorbar": {
             "outlinewidth": 0,
             "ticks": ""
            },
            "type": "mesh3d"
           }
          ],
          "parcoords": [
           {
            "line": {
             "colorbar": {
              "outlinewidth": 0,
              "ticks": ""
             }
            },
            "type": "parcoords"
           }
          ],
          "pie": [
           {
            "automargin": true,
            "type": "pie"
           }
          ],
          "scatter": [
           {
            "fillpattern": {
             "fillmode": "overlay",
             "size": 10,
             "solidity": 0.2
            },
            "type": "scatter"
           }
          ],
          "scatter3d": [
           {
            "line": {
             "colorbar": {
              "outlinewidth": 0,
              "ticks": ""
             }
            },
            "marker": {
             "colorbar": {
              "outlinewidth": 0,
              "ticks": ""
             }
            },
            "type": "scatter3d"
           }
          ],
          "scattercarpet": [
           {
            "marker": {
             "colorbar": {
              "outlinewidth": 0,
              "ticks": ""
             }
            },
            "type": "scattercarpet"
           }
          ],
          "scattergeo": [
           {
            "marker": {
             "colorbar": {
              "outlinewidth": 0,
              "ticks": ""
             }
            },
            "type": "scattergeo"
           }
          ],
          "scattergl": [
           {
            "marker": {
             "colorbar": {
              "outlinewidth": 0,
              "ticks": ""
             }
            },
            "type": "scattergl"
           }
          ],
          "scattermapbox": [
           {
            "marker": {
             "colorbar": {
              "outlinewidth": 0,
              "ticks": ""
             }
            },
            "type": "scattermapbox"
           }
          ],
          "scatterpolar": [
           {
            "marker": {
             "colorbar": {
              "outlinewidth": 0,
              "ticks": ""
             }
            },
            "type": "scatterpolar"
           }
          ],
          "scatterpolargl": [
           {
            "marker": {
             "colorbar": {
              "outlinewidth": 0,
              "ticks": ""
             }
            },
            "type": "scatterpolargl"
           }
          ],
          "scatterternary": [
           {
            "marker": {
             "colorbar": {
              "outlinewidth": 0,
              "ticks": ""
             }
            },
            "type": "scatterternary"
           }
          ],
          "surface": [
           {
            "colorbar": {
             "outlinewidth": 0,
             "ticks": ""
            },
            "colorscale": [
             [
              0,
              "#0d0887"
             ],
             [
              0.1111111111111111,
              "#46039f"
             ],
             [
              0.2222222222222222,
              "#7201a8"
             ],
             [
              0.3333333333333333,
              "#9c179e"
             ],
             [
              0.4444444444444444,
              "#bd3786"
             ],
             [
              0.5555555555555556,
              "#d8576b"
             ],
             [
              0.6666666666666666,
              "#ed7953"
             ],
             [
              0.7777777777777778,
              "#fb9f3a"
             ],
             [
              0.8888888888888888,
              "#fdca26"
             ],
             [
              1,
              "#f0f921"
             ]
            ],
            "type": "surface"
           }
          ],
          "table": [
           {
            "cells": {
             "fill": {
              "color": "#EBF0F8"
             },
             "line": {
              "color": "white"
             }
            },
            "header": {
             "fill": {
              "color": "#C8D4E3"
             },
             "line": {
              "color": "white"
             }
            },
            "type": "table"
           }
          ]
         },
         "layout": {
          "annotationdefaults": {
           "arrowcolor": "#2a3f5f",
           "arrowhead": 0,
           "arrowwidth": 1
          },
          "autotypenumbers": "strict",
          "coloraxis": {
           "colorbar": {
            "outlinewidth": 0,
            "ticks": ""
           }
          },
          "colorscale": {
           "diverging": [
            [
             0,
             "#8e0152"
            ],
            [
             0.1,
             "#c51b7d"
            ],
            [
             0.2,
             "#de77ae"
            ],
            [
             0.3,
             "#f1b6da"
            ],
            [
             0.4,
             "#fde0ef"
            ],
            [
             0.5,
             "#f7f7f7"
            ],
            [
             0.6,
             "#e6f5d0"
            ],
            [
             0.7,
             "#b8e186"
            ],
            [
             0.8,
             "#7fbc41"
            ],
            [
             0.9,
             "#4d9221"
            ],
            [
             1,
             "#276419"
            ]
           ],
           "sequential": [
            [
             0,
             "#0d0887"
            ],
            [
             0.1111111111111111,
             "#46039f"
            ],
            [
             0.2222222222222222,
             "#7201a8"
            ],
            [
             0.3333333333333333,
             "#9c179e"
            ],
            [
             0.4444444444444444,
             "#bd3786"
            ],
            [
             0.5555555555555556,
             "#d8576b"
            ],
            [
             0.6666666666666666,
             "#ed7953"
            ],
            [
             0.7777777777777778,
             "#fb9f3a"
            ],
            [
             0.8888888888888888,
             "#fdca26"
            ],
            [
             1,
             "#f0f921"
            ]
           ],
           "sequentialminus": [
            [
             0,
             "#0d0887"
            ],
            [
             0.1111111111111111,
             "#46039f"
            ],
            [
             0.2222222222222222,
             "#7201a8"
            ],
            [
             0.3333333333333333,
             "#9c179e"
            ],
            [
             0.4444444444444444,
             "#bd3786"
            ],
            [
             0.5555555555555556,
             "#d8576b"
            ],
            [
             0.6666666666666666,
             "#ed7953"
            ],
            [
             0.7777777777777778,
             "#fb9f3a"
            ],
            [
             0.8888888888888888,
             "#fdca26"
            ],
            [
             1,
             "#f0f921"
            ]
           ]
          },
          "colorway": [
           "#636efa",
           "#EF553B",
           "#00cc96",
           "#ab63fa",
           "#FFA15A",
           "#19d3f3",
           "#FF6692",
           "#B6E880",
           "#FF97FF",
           "#FECB52"
          ],
          "font": {
           "color": "#2a3f5f"
          },
          "geo": {
           "bgcolor": "white",
           "lakecolor": "white",
           "landcolor": "#E5ECF6",
           "showlakes": true,
           "showland": true,
           "subunitcolor": "white"
          },
          "hoverlabel": {
           "align": "left"
          },
          "hovermode": "closest",
          "mapbox": {
           "style": "light"
          },
          "paper_bgcolor": "white",
          "plot_bgcolor": "#E5ECF6",
          "polar": {
           "angularaxis": {
            "gridcolor": "white",
            "linecolor": "white",
            "ticks": ""
           },
           "bgcolor": "#E5ECF6",
           "radialaxis": {
            "gridcolor": "white",
            "linecolor": "white",
            "ticks": ""
           }
          },
          "scene": {
           "xaxis": {
            "backgroundcolor": "#E5ECF6",
            "gridcolor": "white",
            "gridwidth": 2,
            "linecolor": "white",
            "showbackground": true,
            "ticks": "",
            "zerolinecolor": "white"
           },
           "yaxis": {
            "backgroundcolor": "#E5ECF6",
            "gridcolor": "white",
            "gridwidth": 2,
            "linecolor": "white",
            "showbackground": true,
            "ticks": "",
            "zerolinecolor": "white"
           },
           "zaxis": {
            "backgroundcolor": "#E5ECF6",
            "gridcolor": "white",
            "gridwidth": 2,
            "linecolor": "white",
            "showbackground": true,
            "ticks": "",
            "zerolinecolor": "white"
           }
          },
          "shapedefaults": {
           "line": {
            "color": "#2a3f5f"
           }
          },
          "ternary": {
           "aaxis": {
            "gridcolor": "white",
            "linecolor": "white",
            "ticks": ""
           },
           "baxis": {
            "gridcolor": "white",
            "linecolor": "white",
            "ticks": ""
           },
           "bgcolor": "#E5ECF6",
           "caxis": {
            "gridcolor": "white",
            "linecolor": "white",
            "ticks": ""
           }
          },
          "title": {
           "x": 0.05
          },
          "xaxis": {
           "automargin": true,
           "gridcolor": "white",
           "linecolor": "white",
           "ticks": "",
           "title": {
            "standoff": 15
           },
           "zerolinecolor": "white",
           "zerolinewidth": 2
          },
          "yaxis": {
           "automargin": true,
           "gridcolor": "white",
           "linecolor": "white",
           "ticks": "",
           "title": {
            "standoff": 15
           },
           "zerolinecolor": "white",
           "zerolinewidth": 2
          }
         }
        },
        "title": {
         "text": "NYC Pickup Locations by Passenger Count"
        }
       }
      },
      "text/html": [
       "<div>                            <div id=\"ac4aefbf-98ba-4001-852c-b19d7a185d48\" class=\"plotly-graph-div\" style=\"height:525px; width:100%;\"></div>            <script type=\"text/javascript\">                require([\"plotly\"], function(Plotly) {                    window.PLOTLYENV=window.PLOTLYENV || {};                                    if (document.getElementById(\"ac4aefbf-98ba-4001-852c-b19d7a185d48\")) {                    Plotly.newPlot(                        \"ac4aefbf-98ba-4001-852c-b19d7a185d48\",                        [{\"customdata\":[[1],[1],[6],[1],[1],[1],[1],[1],[1],[1],[2],[1],[1],[4],[1],[2],[1],[6],[1],[1],[2],[1],[6],[2],[1],[5],[1],[1],[1],[6],[1],[1],[1],[1],[2],[2],[1],[1],[1],[1],[1],[1],[1],[1],[4],[1],[6],[1],[1],[1],[1],[1],[1],[1],[1],[1],[1],[1],[1],[1],[1],[1],[1],[1],[2],[1],[5],[1],[1],[1],[2],[1],[1],[1],[1],[1],[1],[1],[1],[1],[2],[1],[2],[1],[1],[2],[1],[1],[2],[1],[1],[4],[2],[1],[1],[6],[1],[2],[1],[1],[2],[2],[1],[2],[1],[3],[1],[1],[1],[1],[1],[1],[5],[5],[1],[1],[1],[2],[1],[1],[1],[1],[1],[5],[1],[2],[1],[1],[2],[2],[1],[1],[1],[1],[1],[1],[1],[1],[1],[1],[1],[6],[1],[1],[1],[1],[1],[1],[1],[1],[2],[1],[1],[1],[1],[4],[1],[1],[2],[1],[6],[1],[2],[3],[2],[1],[1],[5],[1],[1],[2],[1],[1],[2],[1],[1],[3],[1],[1],[3],[2],[1],[1],[2],[1],[1],[1],[1],[1],[4],[1],[4],[1],[1],[2],[3],[1],[1],[1],[1],[1],[2],[1],[1],[1],[1],[1],[1],[3],[1],[1],[1],[1],[1],[1],[1],[1],[6],[1],[2],[5],[1],[1],[2],[1],[1],[1],[1],[1],[2],[5],[1],[1],[1],[1],[1],[6],[5],[1],[1],[1],[1],[2],[1],[1],[3],[2],[2],[2],[1],[1],[1],[2],[1],[1],[1],[1],[1],[1],[2],[1],[1],[1],[1],[1],[1],[1],[2],[1],[5],[1],[1],[1],[1],[1],[1],[1],[1],[5],[2],[1],[1],[1],[1],[3],[3],[3],[2],[1],[1],[1],[1],[2],[2],[1],[1],[1],[1],[1],[1],[1],[1],[1],[1],[1],[1],[1],[2],[1],[1],[1],[3],[1],[2],[2],[4],[1],[1],[1],[1],[1],[2],[1],[1],[1],[1],[1],[5],[1],[3],[1],[6],[1],[1],[3],[3],[1],[1],[1],[2],[2],[1],[1],[1],[1],[2],[2],[1],[4],[1],[5],[1],[1],[1],[1],[1],[1],[2],[4],[3],[1],[1],[2],[1],[1],[1],[1],[1],[1],[1],[1],[1],[6],[1],[3],[1],[2],[1],[1],[1],[2],[5],[1],[1],[2],[5],[2],[1],[2],[1],[2],[1],[1],[5],[1],[1],[1],[1],[2],[1],[1],[1],[2],[1],[2],[1],[2],[1],[6],[1],[1],[1],[2],[1],[1],[1],[1],[1],[2],[1],[2],[1],[1],[1],[1],[1],[1],[1],[5],[1],[1],[1],[1],[1],[1],[1],[1],[3],[2],[1],[1],[2],[6],[1],[4],[4],[1],[1],[1],[1],[3],[1],[1],[1],[5],[1],[2],[2],[2],[1],[1],[1],[1],[2],[1],[2],[2],[6],[2],[1],[1],[1],[1],[2],[1],[1],[1],[6],[1],[1],[1],[4],[1],[1],[1],[1],[3],[1],[1],[1],[1],[6],[2],[2],[2],[1],[1],[1],[1],[4],[1],[1],[5],[1],[1],[4],[1],[6],[1],[3],[5],[1],[1],[1],[1],[1],[1],[2],[1],[1],[1],[1],[1],[1],[1],[4],[1],[2],[1],[1],[2],[1],[1],[1],[1],[3],[2],[2],[1],[1],[1],[5],[1],[2],[1],[1],[1],[1],[1],[4],[3],[1],[2],[3],[1],[1],[1],[1],[2],[1],[2],[1],[1],[6],[1],[5],[1],[1],[2],[1],[1],[5],[1],[6],[1],[2],[1],[1],[1],[1],[1],[1],[1],[1],[1],[2],[1],[2],[1],[1],[1],[1],[1],[1],[3],[1],[1],[1],[3],[1],[1],[1],[1],[1],[2],[1],[1],[1],[1],[3],[1],[1],[1],[2],[2],[6],[1],[2],[6],[2],[2],[1],[1],[2],[1],[1],[1],[1],[1],[1],[1],[1],[1],[4],[1],[3],[3],[1],[2],[6],[1],[1],[1],[1],[1],[1],[1],[1],[1],[1],[1],[1],[1],[1],[2],[1],[4],[1],[1],[1],[1],[1],[3],[5],[1],[4],[1],[1],[1],[2],[2],[2],[1],[5],[1],[1],[2],[2],[1],[1],[1],[1],[1],[1],[4],[1],[1],[1],[5],[1],[1],[1],[1],[1],[2],[1],[1],[1],[3],[1],[1],[1],[1],[1],[1],[2],[1],[1],[1],[2],[1],[3],[1],[1],[2],[1],[1],[1],[1],[1],[1],[1],[1],[1],[1],[2],[2],[1],[1],[1],[1],[2],[1],[1],[2],[1],[1],[1],[1],[1],[1],[2],[4],[1],[1],[1],[3],[6],[1],[1],[2],[1],[1],[1],[1],[1],[2],[2],[1],[1],[1],[5],[1],[5],[1],[4],[1],[2],[2],[4],[1],[1],[1],[2],[1],[1],[1],[1],[2],[2],[1],[1],[1],[1],[1],[1],[1],[1],[1],[2],[1],[3],[1],[1],[1],[6],[4],[1],[1],[1],[1],[1],[4],[1],[1],[2],[1],[1],[5],[5],[1],[1],[2],[1],[1],[1],[2],[2],[1],[1],[3],[1],[1],[1],[1],[5],[1],[5],[5],[1],[1],[1],[1],[1],[1],[1],[1],[1],[1],[1],[1],[1],[1],[2],[5],[1],[1],[3],[2],[1],[4],[1],[4],[1],[1],[5],[1],[1],[1],[1],[1],[1],[1],[5],[1],[2],[1],[2],[3],[6],[1],[1],[1],[1],[1],[1],[1],[1],[2],[1],[1],[2],[1],[1],[2],[1],[1],[1],[1],[1],[3],[1],[1],[1],[1],[1],[1],[1],[2],[1],[1],[1],[3],[1],[3],[1],[6],[5],[1],[1],[1],[1],[6],[1],[6],[1],[2],[1],[1],[1],[1],[2],[1],[3],[1],[1],[2],[1],[1],[1],[1],[1],[1],[2],[1],[1],[2],[1],[1],[1],[5],[1],[1],[1],[1],[1],[2],[1],[1],[2],[2],[5],[5],[1],[1],[1],[1],[1],[1],[2],[2],[1],[1],[4],[1],[1],[1],[1],[1],[1],[1],[1],[1],[2],[1],[1],[1],[1],[4],[1],[1],[1],[1],[1],[1],[1],[5],[1],[1],[5],[1],[5],[1],[1],[1],[1],[1],[2],[6],[1]],\"hovertemplate\":\"pickup_latitude=%{lat}\\u003cbr\\u003epickup_longitude=%{lon}\\u003cbr\\u003epassenger_count=%{marker.color}\\u003cextra\\u003e\\u003c\\u002fextra\\u003e\",\"lat\":[40.77058792114258,40.75727081298828,40.75830841064453,40.77114868164063,40.76905059814453,40.73018646240234,40.72356796264648,40.75312042236328,40.75720596313477,40.76968383789063,40.7846565246582,40.73745346069336,40.73200988769531,40.7143669128418,40.757511138916016,40.76945114135742,40.74477767944336,40.76213836669922,40.77876663208008,40.73444366455078,40.74831008911133,40.64448547363281,40.744140625,40.78950881958008,40.75767517089844,40.78570556640625,40.750465393066406,40.76980590820313,40.75093078613281,40.76832962036133,40.74004364013672,40.7635612487793,40.75204849243164,40.644546508789055,40.79372024536133,40.76565170288085,40.79212951660156,40.750919342041016,40.74425888061523,40.72093963623047,40.733177185058594,40.7257194519043,40.76443099975585,40.71390914916992,40.76831817626953,40.735389709472656,40.74389266967773,40.7636833190918,40.76029586791992,40.7735481262207,40.79653930664063,40.74845886230469,40.75966644287109,40.7573127746582,40.762115478515625,40.75202178955078,40.74443054199219,40.746036529541016,40.7300033569336,40.74773025512695,40.77518844604492,40.72745132446289,40.74181747436523,40.71617126464844,40.760009765625,40.75101089477539,40.759101867675774,40.72639846801758,40.726810455322266,40.74725341796875,40.78056716918945,40.74215316772461,40.77115631103516,40.70787048339844,40.70180892944336,40.75866317749024,40.75590896606445,40.72631072998047,40.77981185913085,40.7627067565918,40.76041412353516,40.7658805847168,40.80898666381836,40.79090118408203,40.729358673095696,40.76036834716797,40.68058395385742,40.74291610717773,40.74755859375,40.76534652709961,40.75923156738281,40.751163482666016,40.722820281982415,40.75503921508789,40.76805114746094,40.75605773925781,40.74631118774415,40.779483795166016,40.78896331787109,40.77936553955078,40.77312469482422,40.7771873474121,40.76315689086913,40.735389709472656,40.74407958984375,40.75719451904297,40.73311614990234,40.76126098632813,40.72135162353516,40.74441909790039,40.73845672607422,40.76631927490234,40.7510986328125,40.71569061279297,40.79305648803711,40.77399826049805,40.77091217041016,40.72103118896485,40.77914810180664,40.75198745727539,40.78089904785156,40.77262878417969,40.75823974609375,40.75815963745117,40.76287841796875,40.754859924316406,40.78268432617188,40.72527313232422,40.71384048461913,40.76353073120117,40.76506042480469,40.78900146484375,40.77543258666992,40.77824020385742,40.74602890014648,40.7799186706543,40.75254440307617,40.76023864746094,40.75168991088867,40.75904846191406,40.71785354614258,40.76768112182617,40.7498435974121,40.756851196289055,40.75481414794922,40.73379898071289,40.76412582397461,40.71966552734375,40.74486541748047,40.79199981689453,40.76280975341797,40.78387069702149,40.71142959594727,40.72372055053711,40.74045181274415,40.75020980834961,40.76811218261719,40.7695541381836,40.75899887084961,40.75712966918945,40.78559112548828,40.76101684570313,40.74184036254883,40.7603874206543,40.779090881347656,40.74211120605469,40.77382659912109,40.77617645263672,40.76049041748047,40.735664367675774,40.76219940185547,40.773963928222656,40.75948715209961,40.7705307006836,40.73966217041016,40.78509521484375,40.768230438232415,40.73379898071289,40.756141662597656,40.7755012512207,40.766090393066406,40.77806854248047,40.75410079956055,40.73725509643555,40.750221252441406,40.75753784179688,40.77578353881836,40.779651641845696,40.77920150756836,40.74945068359375,40.75505828857422,40.77135848999024,40.715667724609375,40.80356979370117,40.76313781738281,40.7312126159668,40.71979904174805,40.795860290527344,40.76873779296875,40.737892150878906,40.75635528564453,40.724922180175774,40.74837112426758,40.7363166809082,40.76470947265625,40.77146911621094,40.78683853149415,40.72029113769531,40.72017288208008,40.773773193359375,40.77252960205078,40.74420928955078,40.74388122558594,40.75424957275391,40.75485229492188,40.743106842041016,40.757415771484375,40.68683242797852,40.72428131103516,40.72695159912109,40.77399063110352,40.7588996887207,40.78738021850585,40.74658966064453,40.7530403137207,40.74976348876953,40.71784973144531,40.76042175292969,40.74211883544922,40.77239227294922,40.78622817993164,40.773582458496094,40.75053405761719,40.72818756103516,40.74164581298828,40.75507736206055,40.74678039550781,40.75181198120117,40.80675506591797,40.762710571289055,40.76422119140625,40.7760009765625,40.71900939941406,40.76557540893555,40.7193489074707,40.70584106445313,40.78850555419922,40.745304107666016,40.747501373291016,40.77013397216797,40.75076293945313,40.7485466003418,40.83243560791016,40.7628288269043,40.6453857421875,40.70772171020508,40.79766845703125,40.75318145751953,40.73085403442383,40.73836135864258,40.7216911315918,40.740196228027344,40.70962142944336,40.75867080688477,40.73413848876953,40.787899017333984,40.77050018310547,40.76638793945313,40.64171600341797,40.71852111816406,40.77358627319336,40.74489974975585,40.7618522644043,40.74843978881836,40.72708511352539,40.72871017456055,40.80555725097656,40.7479248046875,40.76227951049805,40.72722625732422,40.732154846191406,40.76723098754883,40.76424026489258,40.737281799316406,40.74103927612305,40.73276519775391,40.71319580078125,40.75900268554688,40.75108337402344,40.76325607299805,40.75516891479492,40.75382614135742,40.74964141845703,40.7520866394043,40.75907897949219,40.76067352294922,40.74370574951172,40.73627853393555,40.76877212524415,40.762840270996094,40.7895736694336,40.7961311340332,40.79501724243164,40.7396354675293,40.69283676147461,40.73092651367188,40.77906799316406,40.7363166809082,40.78325271606445,40.76193237304688,40.75252151489258,40.77530288696289,40.7723388671875,40.78822708129883,40.70487594604492,40.75426864624024,40.75354766845703,40.74455642700195,40.77507019042969,40.75526428222656,40.73918914794922,40.76612091064453,40.741863250732415,40.71198654174805,40.80201721191406,40.73956680297852,40.747779846191406,40.73235702514648,40.76039123535156,40.74996566772461,40.78261184692383,40.759727478027344,40.75638198852539,40.75609970092773,40.72856140136719,40.750301361083984,40.74184799194336,40.75442886352539,40.76505661010742,40.7495002746582,40.756595611572266,40.75057220458984,40.74501800537109,40.75250244140625,40.76474380493164,40.73705291748047,40.73733901977539,40.725341796875,40.71929168701172,40.73859786987305,40.77424621582031,40.75265121459961,40.75373458862305,40.73981094360352,40.74555587768555,40.7341423034668,40.77770233154297,40.779056549072266,40.75967025756836,40.76042938232422,40.75981903076172,40.72745513916016,40.75537872314453,40.77839660644531,40.73680114746094,40.80234146118164,40.75773239135742,40.778621673583984,40.74546051025391,40.7432861328125,40.74824905395508,40.70458221435547,40.792179107666016,40.77373123168945,40.78263473510742,40.74681854248047,40.77690887451172,40.76414489746094,40.76006317138672,40.72256088256836,40.70986557006836,40.75397109985352,40.78602600097656,40.75652694702149,40.71886825561523,40.727851867675774,40.82468032836913,40.6467399597168,40.67264175415039,40.77151107788085,40.75101852416992,40.75022888183594,40.74832534790039,40.73122787475585,40.72050094604492,40.787052154541016,40.78525924682617,40.77812957763672,40.71399307250977,40.76590347290039,40.73599624633789,40.7363395690918,40.71989822387695,40.76179122924805,40.768348693847656,40.76979064941406,40.743690490722656,40.78855895996094,40.78825759887695,40.76390838623047,40.7641716003418,40.74494934082031,40.77972412109375,40.7244987487793,40.75510787963867,40.70219039916992,40.77690124511719,40.78606033325195,40.75102233886719,40.72677230834961,40.74652099609375,40.7442512512207,40.7793083190918,40.79855346679688,40.74117660522461,40.77688980102539,40.79138946533203,40.738445281982415,40.71665954589844,40.83430480957031,40.76789855957031,40.70254135131836,40.747047424316406,40.75971984863281,40.783027648925774,40.73629760742188,40.73533248901367,40.77521896362305,40.76507186889648,40.75782012939453,40.71941375732422,40.74437713623047,40.75590133666992,40.78460311889648,40.76477432250977,40.74785232543945,40.75627136230469,40.76451873779297,40.80646133422852,40.74400329589844,40.76477813720703,40.75257110595703,40.74242782592773,40.77772903442383,40.77927017211913,40.78536224365234,40.75729370117188,40.7392692565918,40.75526428222656,40.7593879699707,40.75011825561523,40.73867034912109,40.78091812133789,40.759498596191406,40.75652313232422,40.755409240722656,40.77278518676758,40.75525665283203,40.74927520751953,40.76562881469727,40.64176940917969,40.7054443359375,40.743667602539055,40.76380157470703,40.76774597167969,40.78777694702149,40.73105239868164,40.645416259765625,40.76703643798828,40.75551986694336,40.73125076293945,40.73680114746094,40.742164611816406,40.71252059936523,40.73104476928711,40.77315139770508,40.74037170410156,40.76321411132813,40.8054313659668,40.64531326293945,40.73771667480469,40.69202041625977,40.77577590942383,40.7031364440918,40.750991821289055,40.768463134765625,40.73918533325195,40.70623016357422,40.75191116333008,40.7381591796875,40.64350509643555,40.7310676574707,40.7775993347168,40.744136810302734,40.77333068847656,40.77436065673828,40.75017929077149,40.74430084228516,40.77374267578125,40.779460906982415,40.775390625,40.80620193481445,40.76105117797852,40.76242446899415,40.71902847290039,40.78155517578125,40.77080154418945,40.70682907104492,40.76017379760742,40.76931381225585,40.79280090332031,40.76838684082031,40.72661209106445,40.750755310058594,40.74617004394531,40.7706184387207,40.78749847412109,40.75522994995117,40.76699066162109,40.76150131225585,40.74050521850585,40.76133728027344,40.756568908691406,40.72161102294922,40.7418212890625,40.77338409423828,40.80492401123047,40.72478866577149,40.78197479248047,40.754219055175774,40.72234344482422,40.72721862792969,40.74981689453125,40.749019622802734,40.75846099853516,40.71625900268555,40.73836517333984,40.676246643066406,40.71567153930664,40.74988174438477,40.78671646118164,40.77611923217773,40.75429153442383,40.717639923095696,40.76813888549805,40.75033950805664,40.750099182128906,40.74802017211913,40.76124954223633,40.7478141784668,40.77309036254883,40.74042510986328,40.7420310974121,40.72544097900391,40.645263671875,40.73725891113281,40.75522232055664,40.77444839477539,40.72936630249024,40.770355224609375,40.7373161315918,40.75766372680664,40.75455474853516,40.6899299621582,40.7522850036621,40.72892379760742,40.75589370727539,40.74577713012695,40.77027130126953,40.74934005737305,40.79157638549805,40.74833679199219,40.7451171875,40.74430847167969,40.6822395324707,40.77484130859375,40.73833465576172,40.71282577514648,40.7934799194336,40.74193954467773,40.726165771484375,40.719215393066406,40.644676208496094,40.74076843261719,40.723140716552734,40.77098846435547,40.71758270263672,40.76799774169922,40.76342010498047,40.77172470092773,40.74921798706055,40.73200225830078,40.72637176513672,40.79414367675781,40.7502326965332,40.77067947387695,40.75632858276367,40.78047180175781,40.76386260986328,40.75258255004883,40.79644012451172,40.75548934936523,40.77701568603516,40.75574111938477,40.77859497070313,40.77312088012695,40.72415542602539,40.77018737792969,40.727363586425774,40.74699020385742,40.64751815795898,40.78098678588867,40.77405166625977,40.7702751159668,40.74864196777344,40.769039154052734,40.73686981201172,40.78385162353516,40.754539489746094,40.71072006225585,40.75019454956055,40.74133682250977,40.77544784545898,40.71773910522461,40.761680603027344,40.75197219848633,40.73806762695313,40.71789932250977,40.77473068237305,40.78694915771485,40.67221450805664,40.74703979492188,40.74288940429688,40.76176071166992,40.73419570922852,40.75431823730469,40.76717376708984,40.75897216796875,40.76411056518555,40.76675033569336,40.8089256286621,40.75899887084961,40.75568008422852,40.73186874389648,40.73815536499024,40.74409103393555,40.72898483276367,40.7478904724121,40.73960113525391,40.76972579956055,40.74900436401367,40.74278259277344,40.75703811645508,40.75093460083008,40.7064323425293,40.76018905639648,40.648658752441406,40.73917388916016,40.77949905395508,40.76396179199219,40.767276763916016,40.75001907348633,40.72964477539063,40.70914077758789,40.72878646850585,40.75008010864258,40.7737693786621,40.76404571533203,40.72897338867188,40.76966857910156,40.75136947631836,40.76168823242188,40.73652648925781,40.75815582275391,40.77873992919922,40.75679016113281,40.714298248291016,40.77366256713867,40.76976013183594,40.76422500610352,40.736194610595696,40.75680923461913,40.74418640136719,40.73778533935547,40.76814651489258,40.78216552734375,40.72085189819336,40.719459533691406,40.76900100708008,40.7379035949707,40.73835372924805,40.72553253173828,40.78217315673828,40.75117874145508,40.71965026855469,40.73515319824219,40.75608825683594,40.74074935913085,40.73682022094727,40.788738250732415,40.76411819458008,40.76835632324219,40.79753875732422,40.75786590576172,40.75161361694336,40.765769958496094,40.762603759765625,40.74149703979492,40.64387130737305,40.74775314331055,40.75051498413085,40.644718170166016,40.73533630371094,40.75516891479492,40.74529266357422,40.70351028442383,40.74393844604492,40.73678970336913,40.76324844360352,40.758399963378906,40.779693603515625,40.76441955566406,40.779056549072266,40.7252082824707,40.75584030151367,40.746280670166016,40.75822830200195,40.77544403076172,40.76287078857422,40.76244735717773,40.7462158203125,40.76045608520508,40.76823806762695,40.73559188842773,40.646392822265625,40.74108505249024,40.76402282714844,40.76199340820313,40.76774597167969,40.77275085449219,40.7216796875,40.740142822265625,40.758487701416016,40.77922439575195,40.74342346191406,40.76165390014648,40.74016952514648,40.76855850219727,40.75038146972656,40.79992294311523,40.72654724121094,40.856590270996094,40.75051879882813,40.744644165039055,40.73521423339844,40.70572662353516,40.739166259765625,40.77023315429688,40.77524948120117,40.77961349487305,40.75809860229492,40.71918869018555,40.75088119506836,40.72721862792969,40.68380737304688,40.71416091918945,40.75099563598633,40.75273513793945,40.72774887084961,40.78129959106445,40.76052856445313,40.763179779052734,40.7762451171875,40.75706100463867,40.72983169555664,40.74392318725585,40.70828247070313,40.768230438232415,40.74016952514648,40.75804901123047,40.76311111450195,40.7358512878418,40.74938583374024,40.742431640625,40.74602127075195,40.75650024414063,40.79957962036133,40.73280334472656,40.74082946777344,40.7504997253418,40.75014877319336,40.8105697631836,40.76018142700195,40.76676177978516,40.75920104980469,40.74961853027344,40.68049621582031,40.72270965576172,40.76167678833008,40.756343841552734,40.70563125610352,40.725196838378906,40.77281951904297,40.75098037719727,40.77329635620117,40.77626037597656,40.730079650878906,40.77017974853516,40.74629211425781,40.78901672363281,40.76173782348633,40.75713348388672,40.77508163452149,40.750099182128906,40.750431060791016,40.74531173706055,40.74747848510742,40.76073455810547,40.73000717163085,40.76681137084961,40.75624847412109,40.74018096923828,40.72500228881836,40.7204704284668,40.77609634399415,40.764251708984375,40.6471061706543,40.746448516845696,40.75522994995117,40.7483787536621,40.76529693603516,40.75946807861328,40.71392059326172,40.75540542602539,40.79122161865234,40.795276641845696,40.757190704345696,40.78221130371094,40.75384140014648,40.67905044555664,40.727989196777344,40.7658805847168,40.75360870361328,40.74864959716797,40.7352409362793,40.74175262451172,40.72647857666016,40.72642517089844,40.74284744262695,40.814884185791016,40.78153610229492,40.78993606567383,40.73086166381836,40.80665969848633,40.734317779541016,40.74877548217773,40.77937316894531,40.76554489135742,40.74834060668945,40.740760803222656,40.73710632324219,40.73311996459961,40.751461029052734,40.76707077026367,40.74253463745117,40.73686599731445,40.784194946289055,40.77787780761719,40.71527862548828,40.73519134521485,40.73723602294922,40.766868591308594,40.746978759765625,40.72538757324219,40.72454833984375,40.78419876098633,40.75301361083984,40.762691497802734,40.74106979370117,40.76256561279297,40.7758674621582,40.734352111816406,40.78341293334961,40.76004409790039,40.74399566650391,40.82503128051758,40.82101821899415,40.73244094848633,40.77637100219727,40.78492736816406,40.74132919311523,40.72337341308594,40.77896881103516,40.75105285644531,40.75776290893555,40.76079559326172,40.73817825317383,40.73902130126953,40.75557327270508,40.75775909423828,40.76570892333984,40.738105773925774,40.7499885559082,40.74121856689453,40.74978637695313,40.73722839355469,40.73183822631836,40.78249740600585,40.750091552734375,40.76073455810547,40.72501373291016,40.766597747802734,40.73359680175781,40.73751831054688,40.70608139038085,40.76536178588867,40.72581100463867,40.72087097167969,40.77507400512695,40.72286605834961,40.76562881469727,40.75899505615234,40.76784896850585,40.79109954833984,40.73851013183594,40.7928581237793,40.776145935058594,40.79292297363281,40.75115203857422,40.74980163574219,40.727821350097656,40.74982070922852,40.77406311035156,40.718936920166016,40.7500228881836,40.7659912109375,40.739688873291016,40.752349853515625,40.7867317199707,40.78129959106445,40.7262077331543,40.736629486083984,40.76956558227539,40.741310119628906,40.7258186340332,40.769229888916016,40.72930145263672,40.80440139770508,40.78974151611328,40.74570846557617,40.75558090209961,40.76165390014648,40.703086853027344,40.73122024536133,40.74663543701172,40.768741607666016,40.70557022094727,40.75849914550781,40.76493835449219,40.70930099487305,40.771183013916016,40.75626373291016,40.77047348022461,40.76237869262695,40.78014373779297,40.7596435546875,40.72555160522461,40.74412536621094,40.72145462036133,40.76089859008789,40.77297973632813,40.64856338500977,40.754638671875,40.73435592651367,40.72176742553711,40.7407341003418,40.77712631225585,40.77801513671875,40.75482177734375,40.74114227294922,40.7258415222168,40.75673675537109,40.64150619506836,40.74493789672852,40.7499885559082,40.73206329345703,40.758399963378906,40.733978271484375,40.77127075195313,40.76807022094727],\"legendgroup\":\"\",\"lon\":[-73.9510726928711,-73.97028350830078,-73.97728729248048,-73.96394348144531,-73.95214080810547,-73.98933410644531,-73.98538208007811,-73.9698715209961,-73.97246551513672,-73.9608154296875,-73.97354888916014,-73.98402404785155,-73.98814392089844,-74.00868225097656,-73.9933090209961,-73.96292877197266,-73.97598266601562,-73.96610260009766,-73.9603500366211,-73.98035430908203,-73.89263916015625,-73.7824478149414,-73.98410797119139,-73.97750854492188,-73.96405029296875,-73.95467376708984,-73.99474334716798,-73.95132446289062,-73.9713592529297,-73.84082794189453,-74.00528717041014,-73.9671173095703,-74.00469207763672,-73.78218841552734,-73.96700286865234,-73.9678726196289,-73.97396850585938,-73.98798370361328,-74.0067367553711,-73.99353790283203,-73.98907470703125,-74.00093078613281,-73.96479797363281,-73.99794006347656,-73.98329162597656,-73.98238372802734,-74.00713348388672,-73.96932220458984,-73.98220825195312,-73.95545196533203,-73.97244262695312,-73.9890365600586,-73.99171447753906,-73.97200775146483,-73.98302459716798,-73.9781951904297,-73.93125915527342,-73.97990417480467,-73.98966217041014,-74.00814056396483,-73.94779205322266,-73.99212646484375,-73.98308563232422,-74.00718688964845,-73.96488189697266,-73.99415588378906,-73.98812103271484,-73.9893569946289,-73.99150848388672,-73.98367309570312,-73.97648620605469,-73.98921966552734,-73.96584320068358,-74.01299285888672,-74.01287078857422,-73.9999771118164,-73.96513366699219,-74.0074691772461,-73.95532989501955,-73.9678726196289,-74.00298309326173,-73.990966796875,-73.95952606201173,-73.97464752197266,-73.98927307128906,-73.9674530029297,-73.99462890625,-73.98020172119139,-73.992919921875,-73.98350524902342,-73.97057342529298,-73.97179412841797,-73.98284912109375,-73.9681167602539,-73.96199798583984,-73.9728775024414,-73.9799575805664,-73.98797607421875,-73.96666717529298,-73.95781707763672,-73.95500946044923,-73.97905731201173,-73.96244049072266,-74.0018310546875,-73.98336029052734,-73.96713256835938,-73.99824523925781,-73.99935913085938,-73.98309326171875,-73.98072052001955,-73.98052978515625,-73.99051666259766,-73.99420166015625,-74.01528930664062,-73.95196533203125,-73.873046875,-73.96001434326173,-74.00537109375,-73.95379638671875,-73.97095489501955,-73.97624969482422,-73.95319366455078,-73.98553466796875,-73.98926544189453,-73.95674896240234,-73.96871948242188,-73.97264862060547,-74.0041732788086,-74.01360321044923,-73.96723937988281,-73.97673797607422,-73.94049835205078,-73.9584732055664,-73.95651245117188,-73.98626708984375,-73.94707489013672,-73.97527313232422,-73.96560668945312,-73.99372863769531,-73.97434997558594,-73.99803161621094,-73.95288848876955,-73.9788360595703,-73.97421264648438,-73.98065948486328,-73.99945068359375,-73.95853424072266,-73.9876251220703,-73.99150848388672,-73.97374725341797,-73.9791717529297,-73.95472717285155,-74.01570892333984,-73.99691009521484,-73.98695373535155,-73.9872055053711,-73.96644592285155,-73.86373901367188,-73.98799896240234,-73.98252868652342,-73.94788360595702,-73.95796966552734,-73.98739624023438,-73.96434020996094,-73.96226501464845,-73.98894500732422,-73.98184204101562,-73.9581298828125,-74.00286102294923,-74.00074768066406,-73.98983764648438,-73.87445068359375,-73.96515655517578,-73.9822006225586,-74.00547790527344,-73.9695816040039,-73.98224639892578,-74.00634765625,-73.99048614501955,-73.99049377441406,-73.98338317871094,-73.95195770263672,-73.98820495605469,-73.98436737060547,-73.994384765625,-73.97175598144531,-73.9764633178711,-73.95967102050781,-73.96222686767578,-74.00236511230467,-73.97570037841797,-73.8663330078125,-74.0115966796875,-73.95578002929686,-73.97018432617188,-73.97904968261719,-73.98712921142578,-73.96537780761719,-73.98165130615234,-73.99226379394531,-73.98320770263672,-74.0027847290039,-73.98064422607422,-73.99319458007811,-73.9664764404297,-73.95355224609375,-73.9682083129883,-74.01174926757811,-73.98824310302734,-73.87100219726562,-73.95297241210938,-73.99221038818358,-73.98145294189453,-73.98358917236328,-73.98454284667969,-73.98786163330078,-73.96681213378906,-73.95465087890625,-73.99366760253906,-73.98290252685547,-73.87445068359375,-73.99227905273438,-73.96794891357422,-73.99359130859375,-73.9742431640625,-74.00299072265625,-73.98944091796875,-73.98738098144531,-73.9971694946289,-73.9671173095703,-73.95079040527342,-73.98213195800781,-73.99105834960938,-74.00271606445312,-73.97494506835938,-73.98390960693358,-73.99359130859375,-73.98460388183594,-73.96466827392578,-73.9787826538086,-73.9740676879883,-73.9837417602539,-73.98802947998048,-73.97522735595702,-74.00853729248048,-74.01722717285155,-73.95336151123048,-73.99465179443358,-73.98514556884766,-73.98038482666014,-73.97702026367188,-73.98879241943358,-73.94622039794923,-73.9968490600586,-73.77666473388672,-74.00426483154298,-73.96036529541014,-73.9853515625,-73.98906707763672,-74.0064468383789,-73.98428344726562,-73.98947143554686,-74.0178985595703,-73.97772979736328,-73.9890899658203,-73.97855377197266,-73.95607757568358,-73.96040344238281,-73.78858947753906,-73.99959564208984,-73.97784423828125,-73.99122619628906,-73.96019744873048,-73.9779281616211,-74.0,-74.00508880615234,-73.9659423828125,-73.98098754882812,-73.97808074951173,-73.99368286132812,-73.98497772216798,-73.96877288818358,-73.98690795898438,-73.9927978515625,-73.99797821044923,-73.98139953613281,-74.0116195678711,-73.98844909667969,-73.98300170898438,-73.98173522949219,-73.9713134765625,-73.98829650878906,-74.00261688232422,-73.97772979736328,-73.98857879638672,-73.96262359619139,-73.99242401123048,-73.97891235351562,-73.86272430419923,-73.9893798828125,-73.97013092041014,-73.9355926513672,-73.92180633544923,-74.00802612304686,-73.97183227539062,-73.98919677734375,-73.94780731201173,-73.99394989013672,-73.95928192138672,-73.97902679443358,-73.98932647705078,-73.95664978027344,-73.9666748046875,-73.97860717773438,-74.0074234008789,-73.97271728515625,-73.97777557373048,-73.98104858398438,-73.95496368408203,-73.97954559326173,-74.00543212890625,-73.98696899414062,-73.98966979980467,-73.94082641601562,-73.96793365478516,-73.98677825927734,-74.00414276123048,-73.98182678222656,-73.98470306396483,-73.99162292480467,-73.9450912475586,-73.99165344238281,-73.96704864501955,-73.9126968383789,-73.98164367675781,-73.97508239746094,-73.99064636230467,-73.97848510742188,-73.97250366210938,-73.9966812133789,-73.9976577758789,-74.0057601928711,-73.98075103759766,-73.9774169921875,-73.9612579345703,-73.9847412109375,-73.989013671875,-73.99654388427734,-73.98999786376955,-73.98709869384766,-73.98139953613281,-73.9730224609375,-73.96937561035155,-74.00658416748048,-73.98239135742188,-74.00719451904298,-73.95491790771484,-73.98213195800781,-73.96804809570312,-73.98786163330078,-73.9811019897461,-73.98837280273438,-73.98162841796875,-73.98175048828125,-73.9787368774414,-73.96792602539062,-73.96861267089844,-73.9527816772461,-73.90498352050781,-73.99768829345702,-73.98900604248048,-74.01458740234375,-73.96791076660156,-73.8709487915039,-73.95307159423827,-73.98973846435547,-73.98846435546875,-73.99237060546875,-73.99620056152342,-74.00138854980467,-73.99000549316406,-73.98746490478516,-73.95301055908203,-73.98707580566406,-74.01242065429686,-73.98499298095702,-73.94808197021484,-73.79054260253906,-73.98726654052734,-73.956298828125,-73.97416687011719,-73.99181365966798,-73.97827911376955,-73.99042510986328,-73.94412231445312,-73.97177124023438,-73.96922302246094,-73.94845581054686,-74.01398468017578,-73.9679946899414,-73.99777984619139,-73.98910522460938,-73.99408721923827,-73.9180145263672,-73.98438262939453,-73.98207092285155,-73.9920425415039,-73.97640991210938,-73.97645568847656,-73.98400115966798,-73.9730911254883,-73.97843170166014,-73.97816467285155,-73.9925537109375,-73.97339630126955,-74.01258850097656,-73.9525375366211,-73.97821807861328,-73.99442291259766,-73.9997787475586,-73.98514556884766,-73.9835205078125,-73.98822784423827,-73.9708480834961,-73.9857864379883,-73.97889709472656,-73.97606658935547,-73.99162292480467,-73.98895263671875,-73.94489288330078,-73.9812774658203,-74.01258087158203,-73.97391510009766,-73.96682739257811,-73.9474105834961,-73.98925018310547,-73.99187469482422,-73.95375061035155,-73.97239685058595,-73.96615600585938,-73.99735260009766,-73.99059295654298,-73.9745864868164,-73.95347595214845,-73.9661407470703,-73.9738540649414,-73.99322509765625,-73.98503875732422,-73.95384979248048,-74.00701904296875,-73.99560546875,-73.97828674316406,-73.99656677246094,-73.95108795166014,-73.95359802246094,-73.9729232788086,-73.98462677001955,-73.9957504272461,-73.96848297119139,-73.98481750488281,-73.97224426269531,-73.98739624023438,-73.95880889892578,-73.9920196533203,-73.96699523925781,-73.97158813476562,-73.98192596435547,-73.96484375,-73.98384857177734,-73.96367645263672,-73.78863525390625,-74.00840759277344,-73.9890365600586,-73.98175048828125,-73.98432922363281,-73.9753646850586,-73.98873138427734,-73.77677917480467,-73.96247863769531,-73.98150634765625,-74.00122833251955,-73.98440551757811,-73.97489166259766,-74.00930786132812,-73.99063873291014,-73.96656036376955,-74.00791931152342,-73.9856948852539,-73.96575164794923,-73.78836822509766,-73.98809051513672,-73.94580841064453,-73.95330810546875,-74.01048278808594,-74.00213623046875,-73.98169708251955,-74.0090103149414,-74.00313568115234,-73.9859619140625,-73.98795318603516,-73.78963470458984,-74.00670623779298,-73.95913696289062,-74.0068130493164,-73.87498474121094,-73.96569061279298,-73.99150848388672,-73.98035430908203,-73.87091064453125,-73.98109436035155,-73.96038818359375,-73.9465103149414,-73.98370361328125,-73.98228454589844,-74.00709533691406,-73.94609832763672,-73.98023223876955,-74.00859069824219,-73.97418975830078,-73.9652328491211,-73.97296905517578,-73.9817886352539,-73.98606109619139,-73.97870635986328,-73.98396301269531,-73.98777770996094,-73.94879913330078,-73.96262359619139,-73.9535903930664,-73.9605712890625,-74.00772857666014,-73.96067047119139,-73.98976135253906,-73.98763275146483,-74.00450897216798,-73.95970153808595,-73.96630859375,-73.9844207763672,-73.95381927490234,-73.98036193847656,-73.98394012451173,-74.00575256347656,-73.99095153808595,-73.98831176757811,-73.98560333251955,-74.0111770629883,-73.98817443847656,-73.86590576171875,-74.0033187866211,-73.99144744873048,-73.95651245117188,-73.97969055175781,-73.98037719726562,-73.99105834960938,-73.98219299316406,-73.99462890625,-73.99195098876955,-73.99249267578125,-73.98551177978516,-74.00442504882812,-73.88532257080078,-73.99205017089844,-73.98088836669923,-73.99642181396483,-73.77676391601562,-74.00518035888672,-73.97325134277344,-73.9823226928711,-73.98409271240234,-73.9542465209961,-73.98451232910156,-73.96953582763672,-73.97415924072266,-73.98282623291014,-73.97789764404298,-74.00059509277344,-73.98712158203125,-73.97805786132812,-73.96861267089844,-73.9837188720703,-73.95306396484375,-73.99263000488281,-73.98567962646483,-73.98365020751955,-73.9796371459961,-73.98056030273438,-73.97747039794923,-74.01387786865234,-73.96666717529298,-74.00467681884766,-73.99199676513672,-73.9970703125,-73.78189849853516,-73.9892578125,-73.99285125732422,-73.95967102050781,-74.00558471679686,-73.98138427734375,-73.96219635009766,-73.98249053955078,-73.9917984008789,-73.9881820678711,-73.99842834472656,-73.97197723388672,-73.99127960205078,-73.95405578613281,-73.98998260498048,-73.95481872558594,-73.98094177246094,-73.97754669189453,-73.9720001220703,-73.99118041992188,-73.977783203125,-73.98357391357422,-73.95861053466798,-73.95806884765625,-73.98282623291014,-73.96141815185547,-73.98539733886719,-73.98568725585938,-73.7805938720703,-73.959228515625,-73.87308502197266,-73.9915313720703,-73.98003387451173,-73.96089172363281,-73.99317932128906,-73.97803497314453,-73.97787475585938,-74.0091781616211,-73.9388656616211,-73.98146820068358,-73.96408081054686,-73.99961853027342,-73.98270416259766,-73.99309539794923,-73.98800659179686,-74.0000457763672,-73.95406341552734,-73.97753143310547,-73.9837646484375,-73.99002075195312,-73.98533630371094,-73.97075653076173,-73.9990234375,-73.9875259399414,-73.99008178710938,-73.96556854248048,-73.97631072998048,-73.97109985351562,-73.9632797241211,-73.96856689453125,-74.00218963623048,-73.98558044433594,-73.9834976196289,-73.9792709350586,-73.98334503173827,-73.98502349853516,-73.98958587646483,-73.98814392089844,-73.99156951904298,-73.98038482666014,-73.98996734619139,-73.99073791503906,-74.00582122802734,-74.00243377685547,-73.78348541259766,-73.98667907714845,-73.95355224609375,-73.98877716064453,-73.98438262939453,-74.00361633300781,-73.97821807861328,-74.01658630371094,-73.99027252197266,-73.99165344238281,-73.87418365478516,-73.97093963623048,-73.98444366455078,-73.86370086669923,-73.97405242919923,-73.96852111816406,-73.9788360595703,-73.96862030029298,-73.96251678466798,-73.99005889892578,-74.00263214111328,-73.87080383300781,-73.86383056640625,-73.98340606689453,-73.99378967285155,-73.97238922119139,-73.92540740966798,-73.99214935302734,-73.95895385742188,-73.95804595947266,-73.9966812133789,-74.00155639648438,-73.95513153076173,-73.98818969726562,-73.98770904541014,-73.99655151367188,-73.97195434570312,-73.99088287353516,-73.99842834472656,-73.99005126953125,-73.98631286621094,-73.9785614013672,-73.98444366455078,-73.9779052734375,-73.9850082397461,-73.98234558105469,-73.96983337402342,-73.987060546875,-73.9678726196289,-73.98863220214844,-73.99681854248048,-73.99300384521484,-73.79029083251955,-73.98287963867188,-73.99251556396483,-73.78182983398438,-73.97492218017578,-73.97154235839844,-73.97941589355469,-74.00994873046875,-73.99556732177734,-73.98886108398438,-73.96712493896483,-73.970703125,-73.95537567138672,-73.96466064453125,-73.9505844116211,-73.99626922607422,-73.99403381347656,-73.98893737792969,-74.00056457519531,-73.95850372314453,-73.99330139160156,-74.00025939941406,-73.9817886352539,-73.98744201660156,-73.98169708251955,-73.9864273071289,-73.78997039794923,-73.97864532470702,-73.95431518554686,-73.96575164794923,-73.98223876953125,-73.97846984863281,-73.99334716796875,-73.98600006103516,-73.97209167480467,-73.95068359375,-73.9845962524414,-73.98341369628906,-73.99481201171875,-73.95556640625,-73.99089813232422,-73.95109558105469,-73.99606323242188,-73.93257904052734,-73.9912567138672,-73.99151611328125,-74.0061264038086,-74.01708221435547,-73.98294067382812,-73.98117065429686,-73.95545196533203,-73.95355224609375,-73.96233367919923,-74.00688934326173,-73.99079132080078,-74.00045776367188,-73.9786605834961,-74.01471710205078,-73.9940414428711,-73.97925567626955,-74.00305938720702,-73.97953033447266,-73.96429443359375,-73.99674987792969,-73.96434783935547,-73.97203826904298,-73.9935073852539,-73.97650146484375,-74.01134490966798,-73.95570373535155,-73.99063110351562,-73.97760009765625,-73.97212982177734,-74.0015869140625,-73.98491668701173,-74.00052642822266,-73.97799682617188,-73.96746826171875,-73.96996307373048,-73.98150634765625,-73.98827362060547,-73.99462890625,-73.99208068847656,-73.95809936523438,-73.99102020263672,-73.9600601196289,-73.98625946044923,-73.9918212890625,-73.99469757080078,-73.98710632324219,-73.9696044921875,-73.9704818725586,-74.00847625732422,-73.99224853515625,-73.9583740234375,-73.99642944335938,-73.95488739013672,-73.97962951660156,-73.9834976196289,-73.95132446289062,-74.00518798828125,-73.97753143310547,-73.97077178955078,-73.96267700195312,-73.95906066894531,-74.00253295898438,-73.99127197265625,-73.97681427001955,-73.98954772949219,-73.9911117553711,-73.97940063476562,-73.5263671875,-73.98958587646483,-73.99046325683594,-73.98722076416014,-73.97846221923827,-73.98738098144531,-73.97384643554686,-73.789306640625,-73.99395751953125,-73.9920425415039,-73.97821044921875,-73.975341796875,-73.9768295288086,-73.93292236328125,-73.98680114746094,-73.94197845458984,-73.93914031982422,-73.98224639892578,-73.97879791259766,-73.96614837646483,-73.98208618164062,-74.00000762939453,-73.98731231689453,-73.9888916015625,-73.9754409790039,-73.97964477539062,-73.97481536865234,-73.9919662475586,-74.0003433227539,-74.00758361816406,-73.94259643554686,-73.95811462402342,-73.97308349609375,-73.99140167236328,-73.96122741699219,-73.98910522460938,-73.98881530761719,-73.94773864746094,-73.97607421875,-73.9853286743164,-74.0077133178711,-73.98834228515625,-73.98725891113281,-73.99416351318358,-73.9544219970703,-73.98048400878906,-73.978271484375,-73.95636749267578,-73.94771575927734,-74.0081329345703,-73.99166870117188,-73.99268341064453,-73.96704864501955,-73.9854736328125,-73.9963150024414,-73.98757934570312,-73.981201171875,-73.97296905517578,-73.9658203125,-73.98564910888672,-73.97434997558594,-73.9763412475586,-73.99083709716798,-73.98040008544923,-73.98066711425781,-73.9815902709961,-73.95166015625,-73.95449829101562,-73.9869384765625,-73.9759292602539,-73.95596313476562,-73.98531341552734,-73.98258972167969,-73.95574951171875,-73.98049163818358,-73.97171020507811,-73.96430969238281,-73.98390197753906,-73.98982238769531,-73.97087097167969,-73.97808837890625,-73.95465850830078,-73.99636840820312,-73.99161529541014,-73.99412536621094,-73.99161529541014,-73.9886016845703,-73.982177734375,-73.97148132324219,-73.99102020263672,-73.97608184814453,-74.00453186035155,-73.98653411865234,-73.99056243896483,-73.99134826660156,-73.95955657958984,-73.9825439453125,-73.99195098876955,-74.0050277709961,-73.96287536621094,-73.99687194824219,-73.98017120361328,-73.97077178955078,-73.98294067382812,-73.96905517578125,-73.98857879638672,-73.96505737304686,-73.94995880126955,-73.96765899658203,-73.99414825439453,-73.99360656738281,-73.99109649658203,-73.97222137451173,-73.98868560791014,-73.98991394042969,-73.9916458129883,-73.96543884277344,-73.98593139648438,-73.97834014892578,-73.97244262695312,-73.95628356933594,-73.98334503173827,-73.98184204101562,-73.86346435546875,-74.00804901123048,-73.98352813720702,-73.96727752685547,-74.00704193115234,-73.96683502197266,-73.9525375366211,-73.98015594482422,-73.9909896850586,-73.96624755859375,-74.01058197021484,-73.98876190185547,-73.98571014404298,-73.96796417236328,-74.00749969482422,-73.98493957519531,-73.9682083129883,-74.01183319091797,-73.9566421508789,-73.9744644165039,-73.99156188964845,-73.97028350830078,-73.95724487304686,-73.99124145507811,-74.00553894042969,-74.0064926147461,-73.98909759521484,-73.97132110595702,-73.96452331542969,-73.78321838378906,-73.97141265869139,-73.98356628417969,-73.98445892333984,-74.00545501708984,-73.97835540771484,-73.98200225830078,-73.98509216308595,-73.98465728759766,-74.00788116455078,-73.97437286376955,-73.78792572021484,-73.9924087524414,-73.98766326904298,-73.98512268066406,-73.99864959716798,-73.99527740478516,-73.98693084716798,-73.95655059814453],\"marker\":{\"color\":[1,1,6,1,1,1,1,1,1,1,2,1,1,4,1,2,1,6,1,1,2,1,6,2,1,5,1,1,1,6,1,1,1,1,2,2,1,1,1,1,1,1,1,1,4,1,6,1,1,1,1,1,1,1,1,1,1,1,1,1,1,1,1,1,2,1,5,1,1,1,2,1,1,1,1,1,1,1,1,1,2,1,2,1,1,2,1,1,2,1,1,4,2,1,1,6,1,2,1,1,2,2,1,2,1,3,1,1,1,1,1,1,5,5,1,1,1,2,1,1,1,1,1,5,1,2,1,1,2,2,1,1,1,1,1,1,1,1,1,1,1,6,1,1,1,1,1,1,1,1,2,1,1,1,1,4,1,1,2,1,6,1,2,3,2,1,1,5,1,1,2,1,1,2,1,1,3,1,1,3,2,1,1,2,1,1,1,1,1,4,1,4,1,1,2,3,1,1,1,1,1,2,1,1,1,1,1,1,3,1,1,1,1,1,1,1,1,6,1,2,5,1,1,2,1,1,1,1,1,2,5,1,1,1,1,1,6,5,1,1,1,1,2,1,1,3,2,2,2,1,1,1,2,1,1,1,1,1,1,2,1,1,1,1,1,1,1,2,1,5,1,1,1,1,1,1,1,1,5,2,1,1,1,1,3,3,3,2,1,1,1,1,2,2,1,1,1,1,1,1,1,1,1,1,1,1,1,2,1,1,1,3,1,2,2,4,1,1,1,1,1,2,1,1,1,1,1,5,1,3,1,6,1,1,3,3,1,1,1,2,2,1,1,1,1,2,2,1,4,1,5,1,1,1,1,1,1,2,4,3,1,1,2,1,1,1,1,1,1,1,1,1,6,1,3,1,2,1,1,1,2,5,1,1,2,5,2,1,2,1,2,1,1,5,1,1,1,1,2,1,1,1,2,1,2,1,2,1,6,1,1,1,2,1,1,1,1,1,2,1,2,1,1,1,1,1,1,1,5,1,1,1,1,1,1,1,1,3,2,1,1,2,6,1,4,4,1,1,1,1,3,1,1,1,5,1,2,2,2,1,1,1,1,2,1,2,2,6,2,1,1,1,1,2,1,1,1,6,1,1,1,4,1,1,1,1,3,1,1,1,1,6,2,2,2,1,1,1,1,4,1,1,5,1,1,4,1,6,1,3,5,1,1,1,1,1,1,2,1,1,1,1,1,1,1,4,1,2,1,1,2,1,1,1,1,3,2,2,1,1,1,5,1,2,1,1,1,1,1,4,3,1,2,3,1,1,1,1,2,1,2,1,1,6,1,5,1,1,2,1,1,5,1,6,1,2,1,1,1,1,1,1,1,1,1,2,1,2,1,1,1,1,1,1,3,1,1,1,3,1,1,1,1,1,2,1,1,1,1,3,1,1,1,2,2,6,1,2,6,2,2,1,1,2,1,1,1,1,1,1,1,1,1,4,1,3,3,1,2,6,1,1,1,1,1,1,1,1,1,1,1,1,1,1,2,1,4,1,1,1,1,1,3,5,1,4,1,1,1,2,2,2,1,5,1,1,2,2,1,1,1,1,1,1,4,1,1,1,5,1,1,1,1,1,2,1,1,1,3,1,1,1,1,1,1,2,1,1,1,2,1,3,1,1,2,1,1,1,1,1,1,1,1,1,1,2,2,1,1,1,1,2,1,1,2,1,1,1,1,1,1,2,4,1,1,1,3,6,1,1,2,1,1,1,1,1,2,2,1,1,1,5,1,5,1,4,1,2,2,4,1,1,1,2,1,1,1,1,2,2,1,1,1,1,1,1,1,1,1,2,1,3,1,1,1,6,4,1,1,1,1,1,4,1,1,2,1,1,5,5,1,1,2,1,1,1,2,2,1,1,3,1,1,1,1,5,1,5,5,1,1,1,1,1,1,1,1,1,1,1,1,1,1,2,5,1,1,3,2,1,4,1,4,1,1,5,1,1,1,1,1,1,1,5,1,2,1,2,3,6,1,1,1,1,1,1,1,1,2,1,1,2,1,1,2,1,1,1,1,1,3,1,1,1,1,1,1,1,2,1,1,1,3,1,3,1,6,5,1,1,1,1,6,1,6,1,2,1,1,1,1,2,1,3,1,1,2,1,1,1,1,1,1,2,1,1,2,1,1,1,5,1,1,1,1,1,2,1,1,2,2,5,5,1,1,1,1,1,1,2,2,1,1,4,1,1,1,1,1,1,1,1,1,2,1,1,1,1,4,1,1,1,1,1,1,1,5,1,1,5,1,5,1,1,1,1,1,2,6,1],\"coloraxis\":\"coloraxis\"},\"mode\":\"markers\",\"name\":\"\",\"showlegend\":false,\"subplot\":\"mapbox\",\"type\":\"scattermapbox\"}],                        {\"template\":{\"data\":{\"histogram2dcontour\":[{\"type\":\"histogram2dcontour\",\"colorbar\":{\"outlinewidth\":0,\"ticks\":\"\"},\"colorscale\":[[0.0,\"#0d0887\"],[0.1111111111111111,\"#46039f\"],[0.2222222222222222,\"#7201a8\"],[0.3333333333333333,\"#9c179e\"],[0.4444444444444444,\"#bd3786\"],[0.5555555555555556,\"#d8576b\"],[0.6666666666666666,\"#ed7953\"],[0.7777777777777778,\"#fb9f3a\"],[0.8888888888888888,\"#fdca26\"],[1.0,\"#f0f921\"]]}],\"choropleth\":[{\"type\":\"choropleth\",\"colorbar\":{\"outlinewidth\":0,\"ticks\":\"\"}}],\"histogram2d\":[{\"type\":\"histogram2d\",\"colorbar\":{\"outlinewidth\":0,\"ticks\":\"\"},\"colorscale\":[[0.0,\"#0d0887\"],[0.1111111111111111,\"#46039f\"],[0.2222222222222222,\"#7201a8\"],[0.3333333333333333,\"#9c179e\"],[0.4444444444444444,\"#bd3786\"],[0.5555555555555556,\"#d8576b\"],[0.6666666666666666,\"#ed7953\"],[0.7777777777777778,\"#fb9f3a\"],[0.8888888888888888,\"#fdca26\"],[1.0,\"#f0f921\"]]}],\"heatmap\":[{\"type\":\"heatmap\",\"colorbar\":{\"outlinewidth\":0,\"ticks\":\"\"},\"colorscale\":[[0.0,\"#0d0887\"],[0.1111111111111111,\"#46039f\"],[0.2222222222222222,\"#7201a8\"],[0.3333333333333333,\"#9c179e\"],[0.4444444444444444,\"#bd3786\"],[0.5555555555555556,\"#d8576b\"],[0.6666666666666666,\"#ed7953\"],[0.7777777777777778,\"#fb9f3a\"],[0.8888888888888888,\"#fdca26\"],[1.0,\"#f0f921\"]]}],\"heatmapgl\":[{\"type\":\"heatmapgl\",\"colorbar\":{\"outlinewidth\":0,\"ticks\":\"\"},\"colorscale\":[[0.0,\"#0d0887\"],[0.1111111111111111,\"#46039f\"],[0.2222222222222222,\"#7201a8\"],[0.3333333333333333,\"#9c179e\"],[0.4444444444444444,\"#bd3786\"],[0.5555555555555556,\"#d8576b\"],[0.6666666666666666,\"#ed7953\"],[0.7777777777777778,\"#fb9f3a\"],[0.8888888888888888,\"#fdca26\"],[1.0,\"#f0f921\"]]}],\"contourcarpet\":[{\"type\":\"contourcarpet\",\"colorbar\":{\"outlinewidth\":0,\"ticks\":\"\"}}],\"contour\":[{\"type\":\"contour\",\"colorbar\":{\"outlinewidth\":0,\"ticks\":\"\"},\"colorscale\":[[0.0,\"#0d0887\"],[0.1111111111111111,\"#46039f\"],[0.2222222222222222,\"#7201a8\"],[0.3333333333333333,\"#9c179e\"],[0.4444444444444444,\"#bd3786\"],[0.5555555555555556,\"#d8576b\"],[0.6666666666666666,\"#ed7953\"],[0.7777777777777778,\"#fb9f3a\"],[0.8888888888888888,\"#fdca26\"],[1.0,\"#f0f921\"]]}],\"surface\":[{\"type\":\"surface\",\"colorbar\":{\"outlinewidth\":0,\"ticks\":\"\"},\"colorscale\":[[0.0,\"#0d0887\"],[0.1111111111111111,\"#46039f\"],[0.2222222222222222,\"#7201a8\"],[0.3333333333333333,\"#9c179e\"],[0.4444444444444444,\"#bd3786\"],[0.5555555555555556,\"#d8576b\"],[0.6666666666666666,\"#ed7953\"],[0.7777777777777778,\"#fb9f3a\"],[0.8888888888888888,\"#fdca26\"],[1.0,\"#f0f921\"]]}],\"mesh3d\":[{\"type\":\"mesh3d\",\"colorbar\":{\"outlinewidth\":0,\"ticks\":\"\"}}],\"scatter\":[{\"fillpattern\":{\"fillmode\":\"overlay\",\"size\":10,\"solidity\":0.2},\"type\":\"scatter\"}],\"parcoords\":[{\"type\":\"parcoords\",\"line\":{\"colorbar\":{\"outlinewidth\":0,\"ticks\":\"\"}}}],\"scatterpolargl\":[{\"type\":\"scatterpolargl\",\"marker\":{\"colorbar\":{\"outlinewidth\":0,\"ticks\":\"\"}}}],\"bar\":[{\"error_x\":{\"color\":\"#2a3f5f\"},\"error_y\":{\"color\":\"#2a3f5f\"},\"marker\":{\"line\":{\"color\":\"#E5ECF6\",\"width\":0.5},\"pattern\":{\"fillmode\":\"overlay\",\"size\":10,\"solidity\":0.2}},\"type\":\"bar\"}],\"scattergeo\":[{\"type\":\"scattergeo\",\"marker\":{\"colorbar\":{\"outlinewidth\":0,\"ticks\":\"\"}}}],\"scatterpolar\":[{\"type\":\"scatterpolar\",\"marker\":{\"colorbar\":{\"outlinewidth\":0,\"ticks\":\"\"}}}],\"histogram\":[{\"marker\":{\"pattern\":{\"fillmode\":\"overlay\",\"size\":10,\"solidity\":0.2}},\"type\":\"histogram\"}],\"scattergl\":[{\"type\":\"scattergl\",\"marker\":{\"colorbar\":{\"outlinewidth\":0,\"ticks\":\"\"}}}],\"scatter3d\":[{\"type\":\"scatter3d\",\"line\":{\"colorbar\":{\"outlinewidth\":0,\"ticks\":\"\"}},\"marker\":{\"colorbar\":{\"outlinewidth\":0,\"ticks\":\"\"}}}],\"scattermapbox\":[{\"type\":\"scattermapbox\",\"marker\":{\"colorbar\":{\"outlinewidth\":0,\"ticks\":\"\"}}}],\"scatterternary\":[{\"type\":\"scatterternary\",\"marker\":{\"colorbar\":{\"outlinewidth\":0,\"ticks\":\"\"}}}],\"scattercarpet\":[{\"type\":\"scattercarpet\",\"marker\":{\"colorbar\":{\"outlinewidth\":0,\"ticks\":\"\"}}}],\"carpet\":[{\"aaxis\":{\"endlinecolor\":\"#2a3f5f\",\"gridcolor\":\"white\",\"linecolor\":\"white\",\"minorgridcolor\":\"white\",\"startlinecolor\":\"#2a3f5f\"},\"baxis\":{\"endlinecolor\":\"#2a3f5f\",\"gridcolor\":\"white\",\"linecolor\":\"white\",\"minorgridcolor\":\"white\",\"startlinecolor\":\"#2a3f5f\"},\"type\":\"carpet\"}],\"table\":[{\"cells\":{\"fill\":{\"color\":\"#EBF0F8\"},\"line\":{\"color\":\"white\"}},\"header\":{\"fill\":{\"color\":\"#C8D4E3\"},\"line\":{\"color\":\"white\"}},\"type\":\"table\"}],\"barpolar\":[{\"marker\":{\"line\":{\"color\":\"#E5ECF6\",\"width\":0.5},\"pattern\":{\"fillmode\":\"overlay\",\"size\":10,\"solidity\":0.2}},\"type\":\"barpolar\"}],\"pie\":[{\"automargin\":true,\"type\":\"pie\"}]},\"layout\":{\"autotypenumbers\":\"strict\",\"colorway\":[\"#636efa\",\"#EF553B\",\"#00cc96\",\"#ab63fa\",\"#FFA15A\",\"#19d3f3\",\"#FF6692\",\"#B6E880\",\"#FF97FF\",\"#FECB52\"],\"font\":{\"color\":\"#2a3f5f\"},\"hovermode\":\"closest\",\"hoverlabel\":{\"align\":\"left\"},\"paper_bgcolor\":\"white\",\"plot_bgcolor\":\"#E5ECF6\",\"polar\":{\"bgcolor\":\"#E5ECF6\",\"angularaxis\":{\"gridcolor\":\"white\",\"linecolor\":\"white\",\"ticks\":\"\"},\"radialaxis\":{\"gridcolor\":\"white\",\"linecolor\":\"white\",\"ticks\":\"\"}},\"ternary\":{\"bgcolor\":\"#E5ECF6\",\"aaxis\":{\"gridcolor\":\"white\",\"linecolor\":\"white\",\"ticks\":\"\"},\"baxis\":{\"gridcolor\":\"white\",\"linecolor\":\"white\",\"ticks\":\"\"},\"caxis\":{\"gridcolor\":\"white\",\"linecolor\":\"white\",\"ticks\":\"\"}},\"coloraxis\":{\"colorbar\":{\"outlinewidth\":0,\"ticks\":\"\"}},\"colorscale\":{\"sequential\":[[0.0,\"#0d0887\"],[0.1111111111111111,\"#46039f\"],[0.2222222222222222,\"#7201a8\"],[0.3333333333333333,\"#9c179e\"],[0.4444444444444444,\"#bd3786\"],[0.5555555555555556,\"#d8576b\"],[0.6666666666666666,\"#ed7953\"],[0.7777777777777778,\"#fb9f3a\"],[0.8888888888888888,\"#fdca26\"],[1.0,\"#f0f921\"]],\"sequentialminus\":[[0.0,\"#0d0887\"],[0.1111111111111111,\"#46039f\"],[0.2222222222222222,\"#7201a8\"],[0.3333333333333333,\"#9c179e\"],[0.4444444444444444,\"#bd3786\"],[0.5555555555555556,\"#d8576b\"],[0.6666666666666666,\"#ed7953\"],[0.7777777777777778,\"#fb9f3a\"],[0.8888888888888888,\"#fdca26\"],[1.0,\"#f0f921\"]],\"diverging\":[[0,\"#8e0152\"],[0.1,\"#c51b7d\"],[0.2,\"#de77ae\"],[0.3,\"#f1b6da\"],[0.4,\"#fde0ef\"],[0.5,\"#f7f7f7\"],[0.6,\"#e6f5d0\"],[0.7,\"#b8e186\"],[0.8,\"#7fbc41\"],[0.9,\"#4d9221\"],[1,\"#276419\"]]},\"xaxis\":{\"gridcolor\":\"white\",\"linecolor\":\"white\",\"ticks\":\"\",\"title\":{\"standoff\":15},\"zerolinecolor\":\"white\",\"automargin\":true,\"zerolinewidth\":2},\"yaxis\":{\"gridcolor\":\"white\",\"linecolor\":\"white\",\"ticks\":\"\",\"title\":{\"standoff\":15},\"zerolinecolor\":\"white\",\"automargin\":true,\"zerolinewidth\":2},\"scene\":{\"xaxis\":{\"backgroundcolor\":\"#E5ECF6\",\"gridcolor\":\"white\",\"linecolor\":\"white\",\"showbackground\":true,\"ticks\":\"\",\"zerolinecolor\":\"white\",\"gridwidth\":2},\"yaxis\":{\"backgroundcolor\":\"#E5ECF6\",\"gridcolor\":\"white\",\"linecolor\":\"white\",\"showbackground\":true,\"ticks\":\"\",\"zerolinecolor\":\"white\",\"gridwidth\":2},\"zaxis\":{\"backgroundcolor\":\"#E5ECF6\",\"gridcolor\":\"white\",\"linecolor\":\"white\",\"showbackground\":true,\"ticks\":\"\",\"zerolinecolor\":\"white\",\"gridwidth\":2}},\"shapedefaults\":{\"line\":{\"color\":\"#2a3f5f\"}},\"annotationdefaults\":{\"arrowcolor\":\"#2a3f5f\",\"arrowhead\":0,\"arrowwidth\":1},\"geo\":{\"bgcolor\":\"white\",\"landcolor\":\"#E5ECF6\",\"subunitcolor\":\"white\",\"showland\":true,\"showlakes\":true,\"lakecolor\":\"white\"},\"title\":{\"x\":0.05},\"mapbox\":{\"style\":\"light\"}}},\"mapbox\":{\"domain\":{\"x\":[0.0,1.0],\"y\":[0.0,1.0]},\"center\":{\"lat\":40.75134281539917,\"lon\":-73.97427753448487},\"zoom\":11,\"style\":\"open-street-map\"},\"coloraxis\":{\"colorbar\":{\"title\":{\"text\":\"passenger_count\"}},\"colorscale\":[[0.0,\"#0d0887\"],[0.1111111111111111,\"#46039f\"],[0.2222222222222222,\"#7201a8\"],[0.3333333333333333,\"#9c179e\"],[0.4444444444444444,\"#bd3786\"],[0.5555555555555556,\"#d8576b\"],[0.6666666666666666,\"#ed7953\"],[0.7777777777777778,\"#fb9f3a\"],[0.8888888888888888,\"#fdca26\"],[1.0,\"#f0f921\"]]},\"legend\":{\"tracegroupgap\":0},\"title\":{\"text\":\"NYC Pickup Locations by Passenger Count\"},\"margin\":{\"r\":0,\"t\":40,\"l\":0,\"b\":0}},                        {\"responsive\": true}                    ).then(function(){\n",
       "                            \n",
       "var gd = document.getElementById('ac4aefbf-98ba-4001-852c-b19d7a185d48');\n",
       "var x = new MutationObserver(function (mutations, observer) {{\n",
       "        var display = window.getComputedStyle(gd).display;\n",
       "        if (!display || display === 'none') {{\n",
       "            console.log([gd, 'removed!']);\n",
       "            Plotly.purge(gd);\n",
       "            observer.disconnect();\n",
       "        }}\n",
       "}});\n",
       "\n",
       "// Listen for the removal of the full notebook cells\n",
       "var notebookContainer = gd.closest('#notebook-container');\n",
       "if (notebookContainer) {{\n",
       "    x.observe(notebookContainer, {childList: true});\n",
       "}}\n",
       "\n",
       "// Listen for the clearing of the current output cell\n",
       "var outputEl = gd.closest('.output');\n",
       "if (outputEl) {{\n",
       "    x.observe(outputEl, {childList: true});\n",
       "}}\n",
       "\n",
       "                        })                };                });            </script>        </div>"
      ]
     },
     "metadata": {},
     "output_type": "display_data"
    }
   ],
   "source": [
    "# Random sample of 1000 rows from my dataset\n",
    "# Latitude for each point         \n",
    "# Longitude for each point\n",
    "# Sample 1000 random rows\n",
    "sampled_data = data.sample(1000)\n",
    "\n",
    "# Creating scatter map with color based on passenger count\n",
    "fig = px.scatter_mapbox(sampled_data,\n",
    "                        lat=\"pickup_latitude\",\n",
    "                        lon=\"pickup_longitude\",\n",
    "                        color=\"passenger_count\",\n",
    "                        size_max=10,\n",
    "                        zoom=11,\n",
    "                        hover_data=[\"passenger_count\"],\n",
    "                        title=\"NYC Pickup Locations by Passenger Count\",\n",
    "                        mapbox_style=\"open-street-map\")  \n",
    "\n",
    "fig.update_layout(margin={\"r\":0,\"t\":40,\"l\":0,\"b\":0})\n",
    "fig.show()"
   ]
  },
  {
   "cell_type": "markdown",
   "id": "a704850e-d8f4-4abd-a1f1-5c1ea3821fef",
   "metadata": {},
   "source": [
    ">The majority of pickup points are densely clustered in Manhattan, particularly around:\n",
    "Midtown (34th–59th Street)\n"
   ]
  },
  {
   "cell_type": "code",
   "execution_count": 46,
   "id": "b6e92934-2872-491a-b521-c809fb0f64a2",
   "metadata": {},
   "outputs": [
    {
     "data": {
      "image/png": "[encoded data removed]",
      "text/plain": [
       "<Figure size 1000x800 with 2 Axes>"
      ]
     },
     "metadata": {},
     "output_type": "display_data"
    }
   ],
   "source": [
    "cols = ['vendor_id','pickup_longitude', 'pickup_latitude',\n",
    "       'dropoff_longitude', 'dropoff_latitude','store_and_fwd_flag','trip_duration', 'dow_pickup','hour_of_day']\n",
    "\n",
    "# Compute correlation matrix\n",
    "corr_matrix = data[cols].corr()\n",
    "\n",
    "# Plot heatmap\n",
    "plt.figure(figsize=(10, 8))\n",
    "sns.heatmap(corr_matrix, annot=True, cmap='YlGnBu', square=False, linewidths=0.5)\n",
    "plt.title('Correlation Heatmap')\n",
    "plt.show()"
   ]
  },
  {
   "cell_type": "markdown",
   "id": "28f3e567-606d-469b-8f11-0f38f4647b0e",
   "metadata": {},
   "source": [
    "SUMMERY"
   ]
  },
  {
   "cell_type": "markdown",
   "id": "fd56442a-ae1f-4940-9af4-6c352b8d03a6",
   "metadata": {},
   "source": [
    "In the heatmap we find positive and negative Correlation"
   ]
  },
  {
   "cell_type": "markdown",
   "id": "712985c2-d8dd-4227-8542-d0af66616fea",
   "metadata": {},
   "source": [
    "Positive correlations (close to +1): vehicle_count vs AQI implies higher traffic worsens air quality.\n",
    "\n",
    "Negative correlations: avg_speed_kmph vs accidents might suggest accidents happen more in slow-moving traffic.\n",
    "\n",
    "Weak correlations (close to 0): Variables may not directly influence each other, or other external factors may dominate.\n"
   ]
  },
  {
   "cell_type": "code",
   "execution_count": null,
   "id": "07a6cc70-b245-4736-a2be-55d666d113e6",
   "metadata": {},
   "outputs": [],
   "source": []
  }
 ],
 "metadata": {
  "kernelspec": {
   "display_name": "Python 3 (ipykernel)",
   "language": "python",
   "name": "python3"
  },
  "language_info": {
   "codemirror_mode": {
    "name": "ipython",
    "version": 3
   },
   "file_extension": ".py",
   "mimetype": "text/x-python",
   "name": "python",
   "nbconvert_exporter": "python",
   "pygments_lexer": "ipython3",
   "version": "3.12.7"
  }
 },
 "nbformat": 4,
 "nbformat_minor": 5
}
